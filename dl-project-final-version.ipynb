{
 "cells": [
  {
   "cell_type": "code",
   "execution_count": 5,
   "metadata": {
    "_cell_guid": "b1076dfc-b9ad-4769-8c92-a6c4dae69d19",
    "_uuid": "8f2839f25d086af736a60e9eeb907d3b93b6e0e5"
   },
   "outputs": [],
   "source": [
    "import numpy as np\n",
    "from collections import defaultdict\n",
    "import matplotlib.pyplot as plt\n",
    "\n",
    "import torch\n",
    "import torch.nn as nn\n",
    "import torch.optim as optim\n",
    "import torch.nn.functional as F\n",
    "from torchvision import datasets, transforms\n",
    "\n",
    "from ignite.engine import Events, create_supervised_trainer, create_supervised_evaluator\n",
    "import ignite.metrics\n",
    "import ignite.contrib.handlers\n",
    "\n",
    "from torchvision.transforms.autoaugment import AutoAugment, AutoAugmentPolicy\n",
    "import os\n",
    "from tqdm import tqdm\n",
    "from torch.utils.data import DataLoader\n",
    "import torchvision\n",
    "\n",
    "from torchsummary import summary\n"
   ]
  },
  {
   "cell_type": "code",
   "execution_count": 15,
   "metadata": {},
   "outputs": [],
   "source": [
    "class CIFAR:\n",
    "    \"\"\"\n",
    "    CIFAR-10 Dataset Loader with Augmentations and Proper Formatting.\n",
    "    \"\"\"\n",
    "\n",
    "    def __init__(self, batch_size=128, num_workers=4):\n",
    "        self.batch_size = batch_size\n",
    "        self.num_workers = num_workers\n",
    "        self.train_loader, self.test_loader = self.prepare_data()\n",
    "\n",
    "    def prepare_data(self):\n",
    "        \"\"\"\n",
    "        Prepare train and test data loaders with transformations.\n",
    "        \"\"\"\n",
    "        \n",
    "        # Advanced Data Augmentation for Better Generalization\n",
    "        transform_train = transforms.Compose([\n",
    "            transforms.RandomCrop(32, padding=4),      \n",
    "            transforms.RandomHorizontalFlip(),\n",
    "            transforms.RandomRotation(20),\n",
    "            AutoAugment(AutoAugmentPolicy.CIFAR10),  # AutoAugment (Strong Augmentation)\n",
    "            transforms.ToTensor(),\n",
    "        ])\n",
    "\n",
    "        transform_test = transforms.Compose([\n",
    "            transforms.ToTensor(),\n",
    "        ])\n",
    "\n",
    "        trainset = torchvision.datasets.CIFAR10(\n",
    "            root=\"./data\", train=True, download=True, transform=transform_train\n",
    "        )\n",
    "        trainloader = DataLoader(\n",
    "            trainset,\n",
    "            batch_size=self.batch_size,\n",
    "            shuffle=True,\n",
    "            num_workers=self.num_workers,\n",
    "            pin_memory=True\n",
    "        )\n",
    "\n",
    "        testset = torchvision.datasets.CIFAR10(\n",
    "            root=\"./data\", train=False, download=True, transform=transform_test\n",
    "        )\n",
    "        testloader = DataLoader(\n",
    "            testset, batch_size=100, shuffle=False, num_workers=self.num_workers, pin_memory=True\n",
    "        )\n",
    "\n",
    "        return trainloader, testloader\n",
    "\n",
    "train_loss_history = []\n",
    "test_loss_history = []\n",
    "accuracy_history = []\n",
    "\n",
    "\n",
    "def train_model(model, cifar_data, lr=0.05, epochs=200, device=\"cuda\", use_cutmix=True, use_mixup=True):\n",
    "    \"\"\"\n",
    "    Train and Evaluate Model with Augmentations, LR Scheduling, and Mixed Precision.\n",
    "    \"\"\"\n",
    "    model = model.to(device)\n",
    "    if device == \"cuda\":\n",
    "        model = torch.nn.DataParallel(model)\n",
    "        torch.backends.cudnn.benchmark = True\n",
    "\n",
    "    criterion = nn.CrossEntropyLoss()\n",
    "    \n",
    "    optimizer = optim.AdamW(model.parameters(), lr=1e-5, weight_decay=2e-2)\n",
    "    trainer = create_supervised_trainer(model, optimizer, criterion, device=device)\n",
    "    scheduler = optim.lr_scheduler.OneCycleLR(optimizer, max_lr=1e-2, steps_per_epoch=len(cifar_data.train_loader), epochs=epochs)\n",
    "\n",
    "\n",
    "    scaler = torch.cuda.amp.GradScaler()\n",
    "\n",
    "    best_acc = 0\n",
    "\n",
    "    for epoch in range(epochs):\n",
    "        print(f\"\\nEpoch: {epoch+1}/{epochs}\")\n",
    "        model.train()\n",
    "        train_loss = 0\n",
    "        correct = 0\n",
    "        total = 0\n",
    "\n",
    "        with tqdm(total=len(cifar_data.train_loader), desc=f\"Train Epoch {epoch+1}\") as pbar:\n",
    "            for batch_idx, (inputs, targets) in enumerate(cifar_data.train_loader):\n",
    "                inputs, targets = inputs.to(device), targets.to(device)\n",
    "\n",
    "                optimizer.zero_grad()\n",
    "\n",
    "                with torch.amp.autocast('cuda'):\n",
    "                    outputs = model(inputs)\n",
    "                    loss = criterion(outputs, targets)\n",
    "\n",
    "                scaler.scale(loss).backward()\n",
    "                scaler.step(optimizer)\n",
    "                scaler.update()\n",
    "\n",
    "                train_loss += loss.item()\n",
    "                _, predicted = outputs.max(1)\n",
    "                total += targets.size(0)\n",
    "                correct += predicted.eq(targets).sum().item()\n",
    "\n",
    "                pbar.set_postfix({\"Loss\": f\"{train_loss/(batch_idx+1):.3f}\", \n",
    "                                  \"Acc\": f\"{100.0 * correct / total:.3f}%\"})\n",
    "                pbar.update(1)\n",
    "\n",
    "        model.eval()\n",
    "        correct = 0\n",
    "        total = 0\n",
    "        test_loss = 0\n",
    "        with torch.no_grad():\n",
    "            with tqdm(total=len(cifar_data.test_loader), desc=f\"Test Epoch {epoch+1}\") as pbar:\n",
    "                for batch_idx, (inputs, targets) in enumerate(cifar_data.test_loader):\n",
    "                    inputs, targets = inputs.to(device), targets.to(device)\n",
    "                    outputs = model(inputs)\n",
    "                    loss = criterion(outputs, targets)\n",
    "                    test_loss+=loss.item()\n",
    "                    _, predicted = outputs.max(1)\n",
    "                    total += targets.size(0)\n",
    "                    correct += predicted.eq(targets).sum().item()\n",
    "                    pbar.update(1)\n",
    "\n",
    "\n",
    "        acc = 100.0 * correct / total\n",
    "        print(f\"Test Accuracy: {acc:.3f}%\")\n",
    "\n",
    "        train_loss_history.append(train_loss)\n",
    "        test_loss_history.append(test_loss)\n",
    "        accuracy_history.append(acc)\n",
    "\n",
    "        if acc > best_acc:\n",
    "            print(f\"Saving best model with accuracy: {acc:.3f}%\")\n",
    "            torch.save(model.state_dict(), \"./best_model_hpc.pth\")\n",
    "            best_acc = acc\n",
    "\n",
    "        scheduler.step()\n",
    "\n",
    "    return best_acc"
   ]
  },
  {
   "cell_type": "code",
   "execution_count": 16,
   "metadata": {},
   "outputs": [
    {
     "name": "stdout",
     "output_type": "stream",
     "text": [
      "Model Initialized!\n"
     ]
    }
   ],
   "source": [
    "DATA_DIR='./data'\n",
    "device = torch.device(\"cuda\") if torch.cuda.is_available() else torch.device(\"cpu\")\n",
    "\n",
    "# Function to initialize weights for layers\n",
    "# Uses Kaiming Normal initialization for Convolutional and Linear layers\n",
    "def init_linear(m):\n",
    "    if isinstance(m, (nn.Conv2d, nn.Linear)):\n",
    "        nn.init.kaiming_normal_(m.weight)\n",
    "        if m.bias is not None: nn.init.zeros_(m.bias)\n",
    "\n",
    "# Residual connection with optional shortcut and learnable scaling factor\n",
    "class Residual(nn.Module):\n",
    "    def __init__(self, residual, shortcut=None):\n",
    "        super().__init__()\n",
    "        self.shortcut = nn.Identity() if shortcut is None else shortcut\n",
    "        self.residual = residual\n",
    "        self.gamma = nn.Parameter(torch.zeros(1))\n",
    "    \n",
    "    def forward(self, x):\n",
    "        return self.shortcut(x) + self.gamma * self.residual(x)\n",
    "\n",
    "# Normalization and activation block using BatchNorm and SiLU activation\n",
    "class NormAct(nn.Sequential):\n",
    "    def __init__(self, channels):\n",
    "        super().__init__(\n",
    "            nn.BatchNorm2d(channels),\n",
    "            nn.SiLU(inplace=True)\n",
    "        )\n",
    "\n",
    "# Standard convolutional block with normalization and activation\n",
    "class ConvBlock(nn.Sequential):\n",
    "    def __init__(self, in_channels, out_channels, kernel_size=3, stride=1, groups=1):\n",
    "        padding = (kernel_size - 1) // 2\n",
    "        super().__init__(\n",
    "            NormAct(in_channels),\n",
    "            nn.Conv2d(in_channels, out_channels, kernel_size, stride=stride, padding=padding, groups=groups),\n",
    "        )\n",
    "\n",
    "# Squeeze-and-Excite block for channel-wise attention\n",
    "class SqueezeExciteBlock(nn.Module):\n",
    "    def __init__(self, channels, reduced_channels):\n",
    "        super().__init__()\n",
    "        self.se = nn.Sequential(\n",
    "            nn.AdaptiveAvgPool2d(1),\n",
    "            nn.Conv2d(channels, reduced_channels, kernel_size=1),\n",
    "            nn.SiLU(inplace=True),\n",
    "            nn.Conv2d(reduced_channels, channels, kernel_size=1),\n",
    "            nn.Sigmoid()\n",
    "        )\n",
    "        \n",
    "    def forward(self, x):\n",
    "        return x * self.se(x)\n",
    "\n",
    "# MBConv Residual Block: EfficientNet's main building block\n",
    "class MBConvResidual(nn.Sequential):\n",
    "    def __init__(self, in_channels, out_channels, expansion, kernel_size=3, stride=1):\n",
    "        mid_channels = in_channels * expansion\n",
    "        squeeze_channels = in_channels // 4\n",
    "        super().__init__(\n",
    "            ConvBlock(in_channels, mid_channels, 1), # Pointwise\n",
    "            ConvBlock(mid_channels, mid_channels, kernel_size, stride=stride, groups=mid_channels), # Depthwise\n",
    "            NormAct(mid_channels),\n",
    "            SqueezeExciteBlock(mid_channels, squeeze_channels),\n",
    "            nn.Conv2d(mid_channels, out_channels, kernel_size=1) # Pointwise\n",
    "        )\n",
    "\n",
    "# MBConv Block with Residual connection\n",
    "class MBConvBlock(Residual):\n",
    "    def __init__(self, in_channels, out_channels, expansion, kernel_size=3, stride=1):\n",
    "        residual = MBConvResidual(in_channels, out_channels, expansion, kernel_size, stride)\n",
    "        shortcut = self.get_shortcut(in_channels, out_channels, stride)\n",
    "        super().__init__(residual, shortcut)\n",
    "    \n",
    "    def get_shortcut(self, in_channels, out_channels, stride):\n",
    "        if in_channels != out_channels:\n",
    "            shortcut = nn.Conv2d(in_channels, out_channels, 1)\n",
    "            if stride > 1:\n",
    "                shortcut = nn.Sequential(nn.AvgPool2d(stride), shortcut)\n",
    "        elif stride > 1:\n",
    "            shortcut = nn.AvgPool2d(stride)\n",
    "        else:\n",
    "            shortcut = nn.Identity()\n",
    "        return shortcut\n",
    "\n",
    "# Stack of multiple MBConv blocks\n",
    "class BlockStack(nn.Sequential):\n",
    "    def __init__(self, num_layers, channel_list, strides, expansion=4, kernel_size=3):\n",
    "        layers = []\n",
    "        for num, in_channels, out_channels, stride in zip(num_layers, channel_list, channel_list[1:], strides):\n",
    "            for _ in range(num):\n",
    "                layers.append(MBConvBlock(in_channels, out_channels, expansion, kernel_size, stride))\n",
    "                in_channels = out_channels\n",
    "                stride = 1\n",
    "        super().__init__(*layers)\n",
    "\n",
    "# Head of the network with classification layer\n",
    "class Head(nn.Sequential):\n",
    "    def __init__(self, in_channels, classes, mult=4, p_drop=0.):\n",
    "        mid_channels = in_channels * mult\n",
    "        super().__init__(\n",
    "            ConvBlock(in_channels, mid_channels, 1),\n",
    "            NormAct(mid_channels),\n",
    "            nn.AdaptiveAvgPool2d(1),\n",
    "            nn.Flatten(),\n",
    "            nn.Dropout(p_drop),\n",
    "            nn.Linear(mid_channels, classes)\n",
    "        )\n",
    "\n",
    "# Initial convolutional layer (Stem) of EfficientNet\n",
    "class Stem(nn.Sequential):\n",
    "    def __init__(self, in_channels, mid_channels, out_channels, stride):\n",
    "        squeeze_channels = mid_channels // 4\n",
    "        super().__init__(\n",
    "            nn.Conv2d(in_channels, mid_channels, 3, stride=stride, padding=1),\n",
    "            ConvBlock(mid_channels, mid_channels, 3, groups=mid_channels), # Depthwise\n",
    "            NormAct(mid_channels),\n",
    "            SqueezeExciteBlock(mid_channels, squeeze_channels),\n",
    "            nn.Conv2d(mid_channels, out_channels, kernel_size=1) # Pointwise\n",
    "        )\n",
    "\n",
    "# Full EfficientNet Model\n",
    "class EfficientNet(nn.Sequential):\n",
    "    def __init__(self, classes,  num_layers, channel_list, strides, expansion=4,\n",
    "                 in_channels=3, head_p_drop=0.):\n",
    "        super().__init__(\n",
    "            Stem(in_channels, *channel_list[:2], stride=strides[0]),\n",
    "            BlockStack(num_layers, channel_list[1:], strides[1:], expansion),\n",
    "            Head(channel_list[-1], classes, p_drop=head_p_drop)\n",
    "        )\n",
    "\n",
    "# Create an EfficientNet model instance\n",
    "model = EfficientNet(10,\n",
    "                     num_layers = [5,  4,   4,   5],\n",
    "                     channel_list = [32, 16, 32, 64, 128, 256],\n",
    "                     strides = [1,  1,  2,   2,   2],\n",
    "                     expansion = 5,\n",
    "                     head_p_drop = 0.4)\n",
    "\n",
    "# Apply weight initialization function to the model\n",
    "model.apply(init_linear)\n",
    "model.to(device)\n",
    "\n",
    "print(\"Model Initialized!\")"
   ]
  },
  {
   "cell_type": "code",
   "execution_count": 17,
   "metadata": {},
   "outputs": [
    {
     "name": "stdout",
     "output_type": "stream",
     "text": [
      "Files already downloaded and verified\n",
      "Files already downloaded and verified\n",
      "\n",
      "Epoch: 1/300\n"
     ]
    },
    {
     "name": "stderr",
     "output_type": "stream",
     "text": [
      "Train Epoch 1: 100%|██████████| 391/391 [00:37<00:00, 10.34it/s, Loss=1.881, Acc=31.372%]\n",
      "Test Epoch 1: 100%|██████████| 100/100 [00:01<00:00, 52.22it/s]\n"
     ]
    },
    {
     "name": "stdout",
     "output_type": "stream",
     "text": [
      "Test Accuracy: 49.510%\n",
      "Saving best model with accuracy: 49.510%\n",
      "\n",
      "Epoch: 2/300\n"
     ]
    },
    {
     "name": "stderr",
     "output_type": "stream",
     "text": [
      "Train Epoch 2: 100%|██████████| 391/391 [00:25<00:00, 15.48it/s, Loss=1.484, Acc=46.566%]\n",
      "Test Epoch 2: 100%|██████████| 100/100 [00:01<00:00, 60.72it/s]\n"
     ]
    },
    {
     "name": "stdout",
     "output_type": "stream",
     "text": [
      "Test Accuracy: 61.510%\n",
      "Saving best model with accuracy: 61.510%\n",
      "\n",
      "Epoch: 3/300\n"
     ]
    },
    {
     "name": "stderr",
     "output_type": "stream",
     "text": [
      "Train Epoch 3: 100%|██████████| 391/391 [00:24<00:00, 15.91it/s, Loss=1.273, Acc=54.528%]\n",
      "Test Epoch 3: 100%|██████████| 100/100 [00:01<00:00, 60.87it/s]\n"
     ]
    },
    {
     "name": "stdout",
     "output_type": "stream",
     "text": [
      "Test Accuracy: 68.410%\n",
      "Saving best model with accuracy: 68.410%\n",
      "\n",
      "Epoch: 4/300\n"
     ]
    },
    {
     "name": "stderr",
     "output_type": "stream",
     "text": [
      "Train Epoch 4: 100%|██████████| 391/391 [00:24<00:00, 15.77it/s, Loss=1.117, Acc=60.200%]\n",
      "Test Epoch 4: 100%|██████████| 100/100 [00:01<00:00, 57.50it/s]\n"
     ]
    },
    {
     "name": "stdout",
     "output_type": "stream",
     "text": [
      "Test Accuracy: 72.560%\n",
      "Saving best model with accuracy: 72.560%\n",
      "\n",
      "Epoch: 5/300\n"
     ]
    },
    {
     "name": "stderr",
     "output_type": "stream",
     "text": [
      "Train Epoch 5: 100%|██████████| 391/391 [00:24<00:00, 15.75it/s, Loss=1.006, Acc=64.220%]\n",
      "Test Epoch 5: 100%|██████████| 100/100 [00:01<00:00, 53.53it/s]\n"
     ]
    },
    {
     "name": "stdout",
     "output_type": "stream",
     "text": [
      "Test Accuracy: 76.800%\n",
      "Saving best model with accuracy: 76.800%\n",
      "\n",
      "Epoch: 6/300\n"
     ]
    },
    {
     "name": "stderr",
     "output_type": "stream",
     "text": [
      "Train Epoch 6: 100%|██████████| 391/391 [00:24<00:00, 15.77it/s, Loss=0.928, Acc=67.098%]\n",
      "Test Epoch 6: 100%|██████████| 100/100 [00:01<00:00, 52.13it/s]\n"
     ]
    },
    {
     "name": "stdout",
     "output_type": "stream",
     "text": [
      "Test Accuracy: 79.100%\n",
      "Saving best model with accuracy: 79.100%\n",
      "\n",
      "Epoch: 7/300\n"
     ]
    },
    {
     "name": "stderr",
     "output_type": "stream",
     "text": [
      "Train Epoch 7: 100%|██████████| 391/391 [00:24<00:00, 15.70it/s, Loss=0.874, Acc=69.384%]\n",
      "Test Epoch 7: 100%|██████████| 100/100 [00:01<00:00, 60.33it/s]\n"
     ]
    },
    {
     "name": "stdout",
     "output_type": "stream",
     "text": [
      "Test Accuracy: 80.250%\n",
      "Saving best model with accuracy: 80.250%\n",
      "\n",
      "Epoch: 8/300\n"
     ]
    },
    {
     "name": "stderr",
     "output_type": "stream",
     "text": [
      "Train Epoch 8: 100%|██████████| 391/391 [00:24<00:00, 15.79it/s, Loss=0.824, Acc=71.014%]\n",
      "Test Epoch 8: 100%|██████████| 100/100 [00:01<00:00, 52.99it/s]\n"
     ]
    },
    {
     "name": "stdout",
     "output_type": "stream",
     "text": [
      "Test Accuracy: 80.740%\n",
      "Saving best model with accuracy: 80.740%\n",
      "\n",
      "Epoch: 9/300\n"
     ]
    },
    {
     "name": "stderr",
     "output_type": "stream",
     "text": [
      "Train Epoch 9: 100%|██████████| 391/391 [00:25<00:00, 15.63it/s, Loss=0.778, Acc=72.720%]\n",
      "Test Epoch 9: 100%|██████████| 100/100 [00:01<00:00, 60.28it/s]\n"
     ]
    },
    {
     "name": "stdout",
     "output_type": "stream",
     "text": [
      "Test Accuracy: 81.980%\n",
      "Saving best model with accuracy: 81.980%\n",
      "\n",
      "Epoch: 10/300\n"
     ]
    },
    {
     "name": "stderr",
     "output_type": "stream",
     "text": [
      "Train Epoch 10: 100%|██████████| 391/391 [00:24<00:00, 15.76it/s, Loss=0.753, Acc=73.558%]\n",
      "Test Epoch 10: 100%|██████████| 100/100 [00:01<00:00, 61.09it/s]\n"
     ]
    },
    {
     "name": "stdout",
     "output_type": "stream",
     "text": [
      "Test Accuracy: 83.060%\n",
      "Saving best model with accuracy: 83.060%\n",
      "\n",
      "Epoch: 11/300\n"
     ]
    },
    {
     "name": "stderr",
     "output_type": "stream",
     "text": [
      "Train Epoch 11: 100%|██████████| 391/391 [00:24<00:00, 15.79it/s, Loss=0.721, Acc=74.680%]\n",
      "Test Epoch 11: 100%|██████████| 100/100 [00:01<00:00, 60.25it/s]\n"
     ]
    },
    {
     "name": "stdout",
     "output_type": "stream",
     "text": [
      "Test Accuracy: 83.800%\n",
      "Saving best model with accuracy: 83.800%\n",
      "\n",
      "Epoch: 12/300\n"
     ]
    },
    {
     "name": "stderr",
     "output_type": "stream",
     "text": [
      "Train Epoch 12: 100%|██████████| 391/391 [00:24<00:00, 15.83it/s, Loss=0.690, Acc=75.856%]\n",
      "Test Epoch 12: 100%|██████████| 100/100 [00:01<00:00, 61.53it/s]\n"
     ]
    },
    {
     "name": "stdout",
     "output_type": "stream",
     "text": [
      "Test Accuracy: 84.850%\n",
      "Saving best model with accuracy: 84.850%\n",
      "\n",
      "Epoch: 13/300\n"
     ]
    },
    {
     "name": "stderr",
     "output_type": "stream",
     "text": [
      "Train Epoch 13: 100%|██████████| 391/391 [00:24<00:00, 15.64it/s, Loss=0.668, Acc=76.430%]\n",
      "Test Epoch 13: 100%|██████████| 100/100 [00:01<00:00, 59.42it/s]\n"
     ]
    },
    {
     "name": "stdout",
     "output_type": "stream",
     "text": [
      "Test Accuracy: 85.320%\n",
      "Saving best model with accuracy: 85.320%\n",
      "\n",
      "Epoch: 14/300\n"
     ]
    },
    {
     "name": "stderr",
     "output_type": "stream",
     "text": [
      "Train Epoch 14: 100%|██████████| 391/391 [00:24<00:00, 15.83it/s, Loss=0.635, Acc=77.640%]\n",
      "Test Epoch 14: 100%|██████████| 100/100 [00:01<00:00, 60.57it/s]\n"
     ]
    },
    {
     "name": "stdout",
     "output_type": "stream",
     "text": [
      "Test Accuracy: 84.880%\n",
      "\n",
      "Epoch: 15/300\n"
     ]
    },
    {
     "name": "stderr",
     "output_type": "stream",
     "text": [
      "Train Epoch 15: 100%|██████████| 391/391 [00:24<00:00, 15.88it/s, Loss=0.620, Acc=78.328%]\n",
      "Test Epoch 15: 100%|██████████| 100/100 [00:01<00:00, 52.50it/s]\n"
     ]
    },
    {
     "name": "stdout",
     "output_type": "stream",
     "text": [
      "Test Accuracy: 86.210%\n",
      "Saving best model with accuracy: 86.210%\n",
      "\n",
      "Epoch: 16/300\n"
     ]
    },
    {
     "name": "stderr",
     "output_type": "stream",
     "text": [
      "Train Epoch 16: 100%|██████████| 391/391 [00:24<00:00, 15.77it/s, Loss=0.605, Acc=78.762%]\n",
      "Test Epoch 16: 100%|██████████| 100/100 [00:01<00:00, 58.21it/s]\n"
     ]
    },
    {
     "name": "stdout",
     "output_type": "stream",
     "text": [
      "Test Accuracy: 85.650%\n",
      "\n",
      "Epoch: 17/300\n"
     ]
    },
    {
     "name": "stderr",
     "output_type": "stream",
     "text": [
      "Train Epoch 17: 100%|██████████| 391/391 [00:24<00:00, 15.90it/s, Loss=0.589, Acc=79.350%]\n",
      "Test Epoch 17: 100%|██████████| 100/100 [00:01<00:00, 57.11it/s]\n"
     ]
    },
    {
     "name": "stdout",
     "output_type": "stream",
     "text": [
      "Test Accuracy: 86.870%\n",
      "Saving best model with accuracy: 86.870%\n",
      "\n",
      "Epoch: 18/300\n"
     ]
    },
    {
     "name": "stderr",
     "output_type": "stream",
     "text": [
      "Train Epoch 18: 100%|██████████| 391/391 [00:24<00:00, 15.77it/s, Loss=0.568, Acc=80.252%]\n",
      "Test Epoch 18: 100%|██████████| 100/100 [00:01<00:00, 59.86it/s]\n"
     ]
    },
    {
     "name": "stdout",
     "output_type": "stream",
     "text": [
      "Test Accuracy: 86.720%\n",
      "\n",
      "Epoch: 19/300\n"
     ]
    },
    {
     "name": "stderr",
     "output_type": "stream",
     "text": [
      "Train Epoch 19: 100%|██████████| 391/391 [00:24<00:00, 15.90it/s, Loss=0.551, Acc=80.610%]\n",
      "Test Epoch 19: 100%|██████████| 100/100 [00:01<00:00, 60.48it/s]\n"
     ]
    },
    {
     "name": "stdout",
     "output_type": "stream",
     "text": [
      "Test Accuracy: 87.300%\n",
      "Saving best model with accuracy: 87.300%\n",
      "\n",
      "Epoch: 20/300\n"
     ]
    },
    {
     "name": "stderr",
     "output_type": "stream",
     "text": [
      "Train Epoch 20: 100%|██████████| 391/391 [00:24<00:00, 15.68it/s, Loss=0.537, Acc=81.260%]\n",
      "Test Epoch 20: 100%|██████████| 100/100 [00:01<00:00, 60.61it/s]\n"
     ]
    },
    {
     "name": "stdout",
     "output_type": "stream",
     "text": [
      "Test Accuracy: 87.040%\n",
      "\n",
      "Epoch: 21/300\n"
     ]
    },
    {
     "name": "stderr",
     "output_type": "stream",
     "text": [
      "Train Epoch 21: 100%|██████████| 391/391 [00:24<00:00, 15.90it/s, Loss=0.529, Acc=81.352%]\n",
      "Test Epoch 21: 100%|██████████| 100/100 [00:01<00:00, 61.17it/s]\n"
     ]
    },
    {
     "name": "stdout",
     "output_type": "stream",
     "text": [
      "Test Accuracy: 87.650%\n",
      "Saving best model with accuracy: 87.650%\n",
      "\n",
      "Epoch: 22/300\n"
     ]
    },
    {
     "name": "stderr",
     "output_type": "stream",
     "text": [
      "Train Epoch 22: 100%|██████████| 391/391 [00:24<00:00, 15.97it/s, Loss=0.512, Acc=82.006%]\n",
      "Test Epoch 22: 100%|██████████| 100/100 [00:01<00:00, 60.76it/s]\n"
     ]
    },
    {
     "name": "stdout",
     "output_type": "stream",
     "text": [
      "Test Accuracy: 87.760%\n",
      "Saving best model with accuracy: 87.760%\n",
      "\n",
      "Epoch: 23/300\n"
     ]
    },
    {
     "name": "stderr",
     "output_type": "stream",
     "text": [
      "Train Epoch 23: 100%|██████████| 391/391 [00:24<00:00, 15.93it/s, Loss=0.494, Acc=82.562%]\n",
      "Test Epoch 23: 100%|██████████| 100/100 [00:01<00:00, 61.20it/s]\n"
     ]
    },
    {
     "name": "stdout",
     "output_type": "stream",
     "text": [
      "Test Accuracy: 88.340%\n",
      "Saving best model with accuracy: 88.340%\n",
      "\n",
      "Epoch: 24/300\n"
     ]
    },
    {
     "name": "stderr",
     "output_type": "stream",
     "text": [
      "Train Epoch 24: 100%|██████████| 391/391 [00:24<00:00, 15.72it/s, Loss=0.485, Acc=83.030%]\n",
      "Test Epoch 24: 100%|██████████| 100/100 [00:01<00:00, 59.52it/s]\n"
     ]
    },
    {
     "name": "stdout",
     "output_type": "stream",
     "text": [
      "Test Accuracy: 88.220%\n",
      "\n",
      "Epoch: 25/300\n"
     ]
    },
    {
     "name": "stderr",
     "output_type": "stream",
     "text": [
      "Train Epoch 25: 100%|██████████| 391/391 [00:24<00:00, 15.77it/s, Loss=0.479, Acc=83.244%]\n",
      "Test Epoch 25: 100%|██████████| 100/100 [00:01<00:00, 60.41it/s]\n"
     ]
    },
    {
     "name": "stdout",
     "output_type": "stream",
     "text": [
      "Test Accuracy: 88.260%\n",
      "\n",
      "Epoch: 26/300\n"
     ]
    },
    {
     "name": "stderr",
     "output_type": "stream",
     "text": [
      "Train Epoch 26: 100%|██████████| 391/391 [00:24<00:00, 15.77it/s, Loss=0.463, Acc=83.834%]\n",
      "Test Epoch 26: 100%|██████████| 100/100 [00:01<00:00, 56.64it/s]\n"
     ]
    },
    {
     "name": "stdout",
     "output_type": "stream",
     "text": [
      "Test Accuracy: 88.450%\n",
      "Saving best model with accuracy: 88.450%\n",
      "\n",
      "Epoch: 27/300\n"
     ]
    },
    {
     "name": "stderr",
     "output_type": "stream",
     "text": [
      "Train Epoch 27: 100%|██████████| 391/391 [00:25<00:00, 15.60it/s, Loss=0.454, Acc=84.048%]\n",
      "Test Epoch 27: 100%|██████████| 100/100 [00:01<00:00, 61.71it/s]\n"
     ]
    },
    {
     "name": "stdout",
     "output_type": "stream",
     "text": [
      "Test Accuracy: 88.670%\n",
      "Saving best model with accuracy: 88.670%\n",
      "\n",
      "Epoch: 28/300\n"
     ]
    },
    {
     "name": "stderr",
     "output_type": "stream",
     "text": [
      "Train Epoch 28: 100%|██████████| 391/391 [00:24<00:00, 15.66it/s, Loss=0.448, Acc=84.122%]\n",
      "Test Epoch 28: 100%|██████████| 100/100 [00:01<00:00, 61.63it/s]\n"
     ]
    },
    {
     "name": "stdout",
     "output_type": "stream",
     "text": [
      "Test Accuracy: 88.710%\n",
      "Saving best model with accuracy: 88.710%\n",
      "\n",
      "Epoch: 29/300\n"
     ]
    },
    {
     "name": "stderr",
     "output_type": "stream",
     "text": [
      "Train Epoch 29: 100%|██████████| 391/391 [00:24<00:00, 16.05it/s, Loss=0.431, Acc=84.916%]\n",
      "Test Epoch 29: 100%|██████████| 100/100 [00:01<00:00, 53.34it/s]\n"
     ]
    },
    {
     "name": "stdout",
     "output_type": "stream",
     "text": [
      "Test Accuracy: 89.050%\n",
      "Saving best model with accuracy: 89.050%\n",
      "\n",
      "Epoch: 30/300\n"
     ]
    },
    {
     "name": "stderr",
     "output_type": "stream",
     "text": [
      "Train Epoch 30: 100%|██████████| 391/391 [00:24<00:00, 15.73it/s, Loss=0.432, Acc=84.860%]\n",
      "Test Epoch 30: 100%|██████████| 100/100 [00:01<00:00, 60.79it/s]\n"
     ]
    },
    {
     "name": "stdout",
     "output_type": "stream",
     "text": [
      "Test Accuracy: 89.810%\n",
      "Saving best model with accuracy: 89.810%\n",
      "\n",
      "Epoch: 31/300\n"
     ]
    },
    {
     "name": "stderr",
     "output_type": "stream",
     "text": [
      "Train Epoch 31: 100%|██████████| 391/391 [00:24<00:00, 15.68it/s, Loss=0.420, Acc=85.298%]\n",
      "Test Epoch 31: 100%|██████████| 100/100 [00:01<00:00, 60.04it/s]\n"
     ]
    },
    {
     "name": "stdout",
     "output_type": "stream",
     "text": [
      "Test Accuracy: 88.790%\n",
      "\n",
      "Epoch: 32/300\n"
     ]
    },
    {
     "name": "stderr",
     "output_type": "stream",
     "text": [
      "Train Epoch 32: 100%|██████████| 391/391 [00:24<00:00, 15.73it/s, Loss=0.411, Acc=85.580%]\n",
      "Test Epoch 32: 100%|██████████| 100/100 [00:01<00:00, 51.82it/s]\n"
     ]
    },
    {
     "name": "stdout",
     "output_type": "stream",
     "text": [
      "Test Accuracy: 89.270%\n",
      "\n",
      "Epoch: 33/300\n"
     ]
    },
    {
     "name": "stderr",
     "output_type": "stream",
     "text": [
      "Train Epoch 33: 100%|██████████| 391/391 [00:24<00:00, 15.73it/s, Loss=0.405, Acc=85.768%]\n",
      "Test Epoch 33: 100%|██████████| 100/100 [00:01<00:00, 58.31it/s]\n"
     ]
    },
    {
     "name": "stdout",
     "output_type": "stream",
     "text": [
      "Test Accuracy: 89.190%\n",
      "\n",
      "Epoch: 34/300\n"
     ]
    },
    {
     "name": "stderr",
     "output_type": "stream",
     "text": [
      "Train Epoch 34: 100%|██████████| 391/391 [00:24<00:00, 15.93it/s, Loss=0.398, Acc=85.954%]\n",
      "Test Epoch 34: 100%|██████████| 100/100 [00:01<00:00, 61.36it/s]\n"
     ]
    },
    {
     "name": "stdout",
     "output_type": "stream",
     "text": [
      "Test Accuracy: 89.160%\n",
      "\n",
      "Epoch: 35/300\n"
     ]
    },
    {
     "name": "stderr",
     "output_type": "stream",
     "text": [
      "Train Epoch 35: 100%|██████████| 391/391 [00:24<00:00, 15.82it/s, Loss=0.385, Acc=86.368%]\n",
      "Test Epoch 35: 100%|██████████| 100/100 [00:01<00:00, 58.75it/s]\n"
     ]
    },
    {
     "name": "stdout",
     "output_type": "stream",
     "text": [
      "Test Accuracy: 90.090%\n",
      "Saving best model with accuracy: 90.090%\n",
      "\n",
      "Epoch: 36/300\n"
     ]
    },
    {
     "name": "stderr",
     "output_type": "stream",
     "text": [
      "Train Epoch 36: 100%|██████████| 391/391 [00:24<00:00, 15.87it/s, Loss=0.382, Acc=86.398%]\n",
      "Test Epoch 36: 100%|██████████| 100/100 [00:01<00:00, 60.89it/s]\n"
     ]
    },
    {
     "name": "stdout",
     "output_type": "stream",
     "text": [
      "Test Accuracy: 90.020%\n",
      "\n",
      "Epoch: 37/300\n"
     ]
    },
    {
     "name": "stderr",
     "output_type": "stream",
     "text": [
      "Train Epoch 37: 100%|██████████| 391/391 [00:24<00:00, 15.92it/s, Loss=0.378, Acc=86.782%]\n",
      "Test Epoch 37: 100%|██████████| 100/100 [00:01<00:00, 60.06it/s]\n"
     ]
    },
    {
     "name": "stdout",
     "output_type": "stream",
     "text": [
      "Test Accuracy: 90.010%\n",
      "\n",
      "Epoch: 38/300\n"
     ]
    },
    {
     "name": "stderr",
     "output_type": "stream",
     "text": [
      "Train Epoch 38: 100%|██████████| 391/391 [00:25<00:00, 15.56it/s, Loss=0.366, Acc=87.148%]\n",
      "Test Epoch 38: 100%|██████████| 100/100 [00:01<00:00, 50.94it/s]\n"
     ]
    },
    {
     "name": "stdout",
     "output_type": "stream",
     "text": [
      "Test Accuracy: 90.400%\n",
      "Saving best model with accuracy: 90.400%\n",
      "\n",
      "Epoch: 39/300\n"
     ]
    },
    {
     "name": "stderr",
     "output_type": "stream",
     "text": [
      "Train Epoch 39: 100%|██████████| 391/391 [00:24<00:00, 15.81it/s, Loss=0.361, Acc=87.188%]\n",
      "Test Epoch 39: 100%|██████████| 100/100 [00:01<00:00, 61.33it/s]\n"
     ]
    },
    {
     "name": "stdout",
     "output_type": "stream",
     "text": [
      "Test Accuracy: 90.400%\n",
      "\n",
      "Epoch: 40/300\n"
     ]
    },
    {
     "name": "stderr",
     "output_type": "stream",
     "text": [
      "Train Epoch 40: 100%|██████████| 391/391 [00:24<00:00, 15.70it/s, Loss=0.356, Acc=87.376%]\n",
      "Test Epoch 40: 100%|██████████| 100/100 [00:01<00:00, 54.07it/s]\n"
     ]
    },
    {
     "name": "stdout",
     "output_type": "stream",
     "text": [
      "Test Accuracy: 90.060%\n",
      "\n",
      "Epoch: 41/300\n"
     ]
    },
    {
     "name": "stderr",
     "output_type": "stream",
     "text": [
      "Train Epoch 41: 100%|██████████| 391/391 [00:24<00:00, 15.86it/s, Loss=0.354, Acc=87.560%]\n",
      "Test Epoch 41: 100%|██████████| 100/100 [00:01<00:00, 58.27it/s]\n"
     ]
    },
    {
     "name": "stdout",
     "output_type": "stream",
     "text": [
      "Test Accuracy: 90.410%\n",
      "Saving best model with accuracy: 90.410%\n",
      "\n",
      "Epoch: 42/300\n"
     ]
    },
    {
     "name": "stderr",
     "output_type": "stream",
     "text": [
      "Train Epoch 42: 100%|██████████| 391/391 [00:24<00:00, 15.69it/s, Loss=0.346, Acc=87.904%]\n",
      "Test Epoch 42: 100%|██████████| 100/100 [00:01<00:00, 58.71it/s]\n"
     ]
    },
    {
     "name": "stdout",
     "output_type": "stream",
     "text": [
      "Test Accuracy: 90.560%\n",
      "Saving best model with accuracy: 90.560%\n",
      "\n",
      "Epoch: 43/300\n"
     ]
    },
    {
     "name": "stderr",
     "output_type": "stream",
     "text": [
      "Train Epoch 43: 100%|██████████| 391/391 [00:24<00:00, 15.67it/s, Loss=0.337, Acc=88.092%]\n",
      "Test Epoch 43: 100%|██████████| 100/100 [00:01<00:00, 58.27it/s]\n"
     ]
    },
    {
     "name": "stdout",
     "output_type": "stream",
     "text": [
      "Test Accuracy: 90.280%\n",
      "\n",
      "Epoch: 44/300\n"
     ]
    },
    {
     "name": "stderr",
     "output_type": "stream",
     "text": [
      "Train Epoch 44: 100%|██████████| 391/391 [00:24<00:00, 15.70it/s, Loss=0.336, Acc=88.292%]\n",
      "Test Epoch 44: 100%|██████████| 100/100 [00:01<00:00, 57.42it/s]\n"
     ]
    },
    {
     "name": "stdout",
     "output_type": "stream",
     "text": [
      "Test Accuracy: 90.350%\n",
      "\n",
      "Epoch: 45/300\n"
     ]
    },
    {
     "name": "stderr",
     "output_type": "stream",
     "text": [
      "Train Epoch 45: 100%|██████████| 391/391 [00:24<00:00, 15.80it/s, Loss=0.334, Acc=88.250%]\n",
      "Test Epoch 45: 100%|██████████| 100/100 [00:01<00:00, 60.86it/s]\n"
     ]
    },
    {
     "name": "stdout",
     "output_type": "stream",
     "text": [
      "Test Accuracy: 90.540%\n",
      "\n",
      "Epoch: 46/300\n"
     ]
    },
    {
     "name": "stderr",
     "output_type": "stream",
     "text": [
      "Train Epoch 46: 100%|██████████| 391/391 [00:24<00:00, 15.79it/s, Loss=0.318, Acc=88.814%]\n",
      "Test Epoch 46: 100%|██████████| 100/100 [00:01<00:00, 52.95it/s]\n"
     ]
    },
    {
     "name": "stdout",
     "output_type": "stream",
     "text": [
      "Test Accuracy: 90.950%\n",
      "Saving best model with accuracy: 90.950%\n",
      "\n",
      "Epoch: 47/300\n"
     ]
    },
    {
     "name": "stderr",
     "output_type": "stream",
     "text": [
      "Train Epoch 47: 100%|██████████| 391/391 [00:24<00:00, 15.72it/s, Loss=0.316, Acc=88.788%]\n",
      "Test Epoch 47: 100%|██████████| 100/100 [00:01<00:00, 60.73it/s]\n"
     ]
    },
    {
     "name": "stdout",
     "output_type": "stream",
     "text": [
      "Test Accuracy: 90.820%\n",
      "\n",
      "Epoch: 48/300\n"
     ]
    },
    {
     "name": "stderr",
     "output_type": "stream",
     "text": [
      "Train Epoch 48: 100%|██████████| 391/391 [00:24<00:00, 15.83it/s, Loss=0.311, Acc=88.964%]\n",
      "Test Epoch 48: 100%|██████████| 100/100 [00:01<00:00, 53.82it/s]\n"
     ]
    },
    {
     "name": "stdout",
     "output_type": "stream",
     "text": [
      "Test Accuracy: 91.040%\n",
      "Saving best model with accuracy: 91.040%\n",
      "\n",
      "Epoch: 49/300\n"
     ]
    },
    {
     "name": "stderr",
     "output_type": "stream",
     "text": [
      "Train Epoch 49: 100%|██████████| 391/391 [00:24<00:00, 15.81it/s, Loss=0.309, Acc=89.092%]\n",
      "Test Epoch 49: 100%|██████████| 100/100 [00:01<00:00, 60.61it/s]\n"
     ]
    },
    {
     "name": "stdout",
     "output_type": "stream",
     "text": [
      "Test Accuracy: 90.520%\n",
      "\n",
      "Epoch: 50/300\n"
     ]
    },
    {
     "name": "stderr",
     "output_type": "stream",
     "text": [
      "Train Epoch 50: 100%|██████████| 391/391 [00:25<00:00, 15.59it/s, Loss=0.303, Acc=89.398%]\n",
      "Test Epoch 50: 100%|██████████| 100/100 [00:01<00:00, 59.06it/s]\n"
     ]
    },
    {
     "name": "stdout",
     "output_type": "stream",
     "text": [
      "Test Accuracy: 90.640%\n",
      "\n",
      "Epoch: 51/300\n"
     ]
    },
    {
     "name": "stderr",
     "output_type": "stream",
     "text": [
      "Train Epoch 51: 100%|██████████| 391/391 [00:24<00:00, 15.75it/s, Loss=0.299, Acc=89.540%]\n",
      "Test Epoch 51: 100%|██████████| 100/100 [00:01<00:00, 60.64it/s]\n"
     ]
    },
    {
     "name": "stdout",
     "output_type": "stream",
     "text": [
      "Test Accuracy: 90.840%\n",
      "\n",
      "Epoch: 52/300\n"
     ]
    },
    {
     "name": "stderr",
     "output_type": "stream",
     "text": [
      "Train Epoch 52: 100%|██████████| 391/391 [00:24<00:00, 15.79it/s, Loss=0.295, Acc=89.574%]\n",
      "Test Epoch 52: 100%|██████████| 100/100 [00:01<00:00, 60.07it/s]\n"
     ]
    },
    {
     "name": "stdout",
     "output_type": "stream",
     "text": [
      "Test Accuracy: 90.810%\n",
      "\n",
      "Epoch: 53/300\n"
     ]
    },
    {
     "name": "stderr",
     "output_type": "stream",
     "text": [
      "Train Epoch 53: 100%|██████████| 391/391 [00:24<00:00, 15.69it/s, Loss=0.291, Acc=89.722%]\n",
      "Test Epoch 53: 100%|██████████| 100/100 [00:01<00:00, 58.01it/s]\n"
     ]
    },
    {
     "name": "stdout",
     "output_type": "stream",
     "text": [
      "Test Accuracy: 91.080%\n",
      "Saving best model with accuracy: 91.080%\n",
      "\n",
      "Epoch: 54/300\n"
     ]
    },
    {
     "name": "stderr",
     "output_type": "stream",
     "text": [
      "Train Epoch 54: 100%|██████████| 391/391 [00:25<00:00, 15.48it/s, Loss=0.284, Acc=90.076%]\n",
      "Test Epoch 54: 100%|██████████| 100/100 [00:01<00:00, 59.74it/s]\n"
     ]
    },
    {
     "name": "stdout",
     "output_type": "stream",
     "text": [
      "Test Accuracy: 91.040%\n",
      "\n",
      "Epoch: 55/300\n"
     ]
    },
    {
     "name": "stderr",
     "output_type": "stream",
     "text": [
      "Train Epoch 55: 100%|██████████| 391/391 [00:24<00:00, 15.92it/s, Loss=0.288, Acc=89.906%]\n",
      "Test Epoch 55: 100%|██████████| 100/100 [00:01<00:00, 56.98it/s]\n"
     ]
    },
    {
     "name": "stdout",
     "output_type": "stream",
     "text": [
      "Test Accuracy: 90.810%\n",
      "\n",
      "Epoch: 56/300\n"
     ]
    },
    {
     "name": "stderr",
     "output_type": "stream",
     "text": [
      "Train Epoch 56: 100%|██████████| 391/391 [00:24<00:00, 15.74it/s, Loss=0.282, Acc=90.050%]\n",
      "Test Epoch 56: 100%|██████████| 100/100 [00:01<00:00, 52.66it/s]\n"
     ]
    },
    {
     "name": "stdout",
     "output_type": "stream",
     "text": [
      "Test Accuracy: 90.700%\n",
      "\n",
      "Epoch: 57/300\n"
     ]
    },
    {
     "name": "stderr",
     "output_type": "stream",
     "text": [
      "Train Epoch 57: 100%|██████████| 391/391 [00:24<00:00, 15.87it/s, Loss=0.276, Acc=90.186%]\n",
      "Test Epoch 57: 100%|██████████| 100/100 [00:01<00:00, 58.80it/s]\n"
     ]
    },
    {
     "name": "stdout",
     "output_type": "stream",
     "text": [
      "Test Accuracy: 90.880%\n",
      "\n",
      "Epoch: 58/300\n"
     ]
    },
    {
     "name": "stderr",
     "output_type": "stream",
     "text": [
      "Train Epoch 58: 100%|██████████| 391/391 [00:24<00:00, 15.79it/s, Loss=0.272, Acc=90.402%]\n",
      "Test Epoch 58: 100%|██████████| 100/100 [00:01<00:00, 60.28it/s]\n"
     ]
    },
    {
     "name": "stdout",
     "output_type": "stream",
     "text": [
      "Test Accuracy: 90.780%\n",
      "\n",
      "Epoch: 59/300\n"
     ]
    },
    {
     "name": "stderr",
     "output_type": "stream",
     "text": [
      "Train Epoch 59: 100%|██████████| 391/391 [00:25<00:00, 15.56it/s, Loss=0.275, Acc=90.438%]\n",
      "Test Epoch 59: 100%|██████████| 100/100 [00:01<00:00, 53.96it/s]\n"
     ]
    },
    {
     "name": "stdout",
     "output_type": "stream",
     "text": [
      "Test Accuracy: 91.120%\n",
      "Saving best model with accuracy: 91.120%\n",
      "\n",
      "Epoch: 60/300\n"
     ]
    },
    {
     "name": "stderr",
     "output_type": "stream",
     "text": [
      "Train Epoch 60: 100%|██████████| 391/391 [00:24<00:00, 16.03it/s, Loss=0.266, Acc=90.556%]\n",
      "Test Epoch 60: 100%|██████████| 100/100 [00:01<00:00, 59.10it/s]\n"
     ]
    },
    {
     "name": "stdout",
     "output_type": "stream",
     "text": [
      "Test Accuracy: 91.360%\n",
      "Saving best model with accuracy: 91.360%\n",
      "\n",
      "Epoch: 61/300\n"
     ]
    },
    {
     "name": "stderr",
     "output_type": "stream",
     "text": [
      "Train Epoch 61: 100%|██████████| 391/391 [00:24<00:00, 15.80it/s, Loss=0.263, Acc=90.742%]\n",
      "Test Epoch 61: 100%|██████████| 100/100 [00:01<00:00, 59.92it/s]\n"
     ]
    },
    {
     "name": "stdout",
     "output_type": "stream",
     "text": [
      "Test Accuracy: 91.180%\n",
      "\n",
      "Epoch: 62/300\n"
     ]
    },
    {
     "name": "stderr",
     "output_type": "stream",
     "text": [
      "Train Epoch 62: 100%|██████████| 391/391 [00:24<00:00, 15.72it/s, Loss=0.261, Acc=90.936%]\n",
      "Test Epoch 62: 100%|██████████| 100/100 [00:01<00:00, 59.23it/s]\n"
     ]
    },
    {
     "name": "stdout",
     "output_type": "stream",
     "text": [
      "Test Accuracy: 91.550%\n",
      "Saving best model with accuracy: 91.550%\n",
      "\n",
      "Epoch: 63/300\n"
     ]
    },
    {
     "name": "stderr",
     "output_type": "stream",
     "text": [
      "Train Epoch 63: 100%|██████████| 391/391 [00:25<00:00, 15.54it/s, Loss=0.258, Acc=90.868%]\n",
      "Test Epoch 63: 100%|██████████| 100/100 [00:01<00:00, 53.61it/s]\n"
     ]
    },
    {
     "name": "stdout",
     "output_type": "stream",
     "text": [
      "Test Accuracy: 91.350%\n",
      "\n",
      "Epoch: 64/300\n"
     ]
    },
    {
     "name": "stderr",
     "output_type": "stream",
     "text": [
      "Train Epoch 64: 100%|██████████| 391/391 [00:24<00:00, 15.68it/s, Loss=0.263, Acc=90.876%]\n",
      "Test Epoch 64: 100%|██████████| 100/100 [00:01<00:00, 57.17it/s]\n"
     ]
    },
    {
     "name": "stdout",
     "output_type": "stream",
     "text": [
      "Test Accuracy: 91.360%\n",
      "\n",
      "Epoch: 65/300\n"
     ]
    },
    {
     "name": "stderr",
     "output_type": "stream",
     "text": [
      "Train Epoch 65: 100%|██████████| 391/391 [00:25<00:00, 15.56it/s, Loss=0.252, Acc=91.172%]\n",
      "Test Epoch 65: 100%|██████████| 100/100 [00:01<00:00, 59.83it/s]\n"
     ]
    },
    {
     "name": "stdout",
     "output_type": "stream",
     "text": [
      "Test Accuracy: 91.200%\n",
      "\n",
      "Epoch: 66/300\n"
     ]
    },
    {
     "name": "stderr",
     "output_type": "stream",
     "text": [
      "Train Epoch 66: 100%|██████████| 391/391 [00:24<00:00, 15.73it/s, Loss=0.254, Acc=91.284%]\n",
      "Test Epoch 66: 100%|██████████| 100/100 [00:01<00:00, 58.83it/s]\n"
     ]
    },
    {
     "name": "stdout",
     "output_type": "stream",
     "text": [
      "Test Accuracy: 91.100%\n",
      "\n",
      "Epoch: 67/300\n"
     ]
    },
    {
     "name": "stderr",
     "output_type": "stream",
     "text": [
      "Train Epoch 67: 100%|██████████| 391/391 [00:24<00:00, 15.69it/s, Loss=0.244, Acc=91.406%]\n",
      "Test Epoch 67: 100%|██████████| 100/100 [00:01<00:00, 56.85it/s]\n"
     ]
    },
    {
     "name": "stdout",
     "output_type": "stream",
     "text": [
      "Test Accuracy: 91.430%\n",
      "\n",
      "Epoch: 68/300\n"
     ]
    },
    {
     "name": "stderr",
     "output_type": "stream",
     "text": [
      "Train Epoch 68: 100%|██████████| 391/391 [00:24<00:00, 15.82it/s, Loss=0.250, Acc=91.208%]\n",
      "Test Epoch 68: 100%|██████████| 100/100 [00:01<00:00, 59.30it/s]\n"
     ]
    },
    {
     "name": "stdout",
     "output_type": "stream",
     "text": [
      "Test Accuracy: 91.370%\n",
      "\n",
      "Epoch: 69/300\n"
     ]
    },
    {
     "name": "stderr",
     "output_type": "stream",
     "text": [
      "Train Epoch 69: 100%|██████████| 391/391 [00:25<00:00, 15.57it/s, Loss=0.239, Acc=91.724%]\n",
      "Test Epoch 69: 100%|██████████| 100/100 [00:01<00:00, 54.91it/s]\n"
     ]
    },
    {
     "name": "stdout",
     "output_type": "stream",
     "text": [
      "Test Accuracy: 91.510%\n",
      "\n",
      "Epoch: 70/300\n"
     ]
    },
    {
     "name": "stderr",
     "output_type": "stream",
     "text": [
      "Train Epoch 70: 100%|██████████| 391/391 [00:24<00:00, 15.65it/s, Loss=0.238, Acc=91.696%]\n",
      "Test Epoch 70: 100%|██████████| 100/100 [00:01<00:00, 59.44it/s]\n"
     ]
    },
    {
     "name": "stdout",
     "output_type": "stream",
     "text": [
      "Test Accuracy: 91.120%\n",
      "\n",
      "Epoch: 71/300\n"
     ]
    },
    {
     "name": "stderr",
     "output_type": "stream",
     "text": [
      "Train Epoch 71: 100%|██████████| 391/391 [00:24<00:00, 15.92it/s, Loss=0.239, Acc=91.618%]\n",
      "Test Epoch 71: 100%|██████████| 100/100 [00:01<00:00, 51.33it/s]\n"
     ]
    },
    {
     "name": "stdout",
     "output_type": "stream",
     "text": [
      "Test Accuracy: 91.630%\n",
      "Saving best model with accuracy: 91.630%\n",
      "\n",
      "Epoch: 72/300\n"
     ]
    },
    {
     "name": "stderr",
     "output_type": "stream",
     "text": [
      "Train Epoch 72: 100%|██████████| 391/391 [00:24<00:00, 15.82it/s, Loss=0.236, Acc=91.744%]\n",
      "Test Epoch 72: 100%|██████████| 100/100 [00:01<00:00, 60.12it/s]\n"
     ]
    },
    {
     "name": "stdout",
     "output_type": "stream",
     "text": [
      "Test Accuracy: 91.940%\n",
      "Saving best model with accuracy: 91.940%\n",
      "\n",
      "Epoch: 73/300\n"
     ]
    },
    {
     "name": "stderr",
     "output_type": "stream",
     "text": [
      "Train Epoch 73: 100%|██████████| 391/391 [00:24<00:00, 15.71it/s, Loss=0.236, Acc=91.808%]\n",
      "Test Epoch 73: 100%|██████████| 100/100 [00:01<00:00, 59.03it/s]\n"
     ]
    },
    {
     "name": "stdout",
     "output_type": "stream",
     "text": [
      "Test Accuracy: 91.990%\n",
      "Saving best model with accuracy: 91.990%\n",
      "\n",
      "Epoch: 74/300\n"
     ]
    },
    {
     "name": "stderr",
     "output_type": "stream",
     "text": [
      "Train Epoch 74: 100%|██████████| 391/391 [00:25<00:00, 15.61it/s, Loss=0.227, Acc=91.990%]\n",
      "Test Epoch 74: 100%|██████████| 100/100 [00:01<00:00, 59.58it/s]\n"
     ]
    },
    {
     "name": "stdout",
     "output_type": "stream",
     "text": [
      "Test Accuracy: 91.480%\n",
      "\n",
      "Epoch: 75/300\n"
     ]
    },
    {
     "name": "stderr",
     "output_type": "stream",
     "text": [
      "Train Epoch 75: 100%|██████████| 391/391 [00:24<00:00, 15.69it/s, Loss=0.230, Acc=91.906%]\n",
      "Test Epoch 75: 100%|██████████| 100/100 [00:01<00:00, 60.12it/s]\n"
     ]
    },
    {
     "name": "stdout",
     "output_type": "stream",
     "text": [
      "Test Accuracy: 91.360%\n",
      "\n",
      "Epoch: 76/300\n"
     ]
    },
    {
     "name": "stderr",
     "output_type": "stream",
     "text": [
      "Train Epoch 76: 100%|██████████| 391/391 [00:24<00:00, 15.86it/s, Loss=0.231, Acc=91.850%]\n",
      "Test Epoch 76: 100%|██████████| 100/100 [00:01<00:00, 57.60it/s]\n"
     ]
    },
    {
     "name": "stdout",
     "output_type": "stream",
     "text": [
      "Test Accuracy: 91.470%\n",
      "\n",
      "Epoch: 77/300\n"
     ]
    },
    {
     "name": "stderr",
     "output_type": "stream",
     "text": [
      "Train Epoch 77: 100%|██████████| 391/391 [00:24<00:00, 15.69it/s, Loss=0.222, Acc=92.254%]\n",
      "Test Epoch 77: 100%|██████████| 100/100 [00:01<00:00, 57.10it/s]\n"
     ]
    },
    {
     "name": "stdout",
     "output_type": "stream",
     "text": [
      "Test Accuracy: 91.820%\n",
      "\n",
      "Epoch: 78/300\n"
     ]
    },
    {
     "name": "stderr",
     "output_type": "stream",
     "text": [
      "Train Epoch 78: 100%|██████████| 391/391 [00:24<00:00, 15.78it/s, Loss=0.229, Acc=91.948%]\n",
      "Test Epoch 78: 100%|██████████| 100/100 [00:01<00:00, 60.51it/s]\n"
     ]
    },
    {
     "name": "stdout",
     "output_type": "stream",
     "text": [
      "Test Accuracy: 91.970%\n",
      "\n",
      "Epoch: 79/300\n"
     ]
    },
    {
     "name": "stderr",
     "output_type": "stream",
     "text": [
      "Train Epoch 79: 100%|██████████| 391/391 [00:24<00:00, 15.72it/s, Loss=0.216, Acc=92.404%]\n",
      "Test Epoch 79: 100%|██████████| 100/100 [00:01<00:00, 62.05it/s]\n"
     ]
    },
    {
     "name": "stdout",
     "output_type": "stream",
     "text": [
      "Test Accuracy: 91.790%\n",
      "\n",
      "Epoch: 80/300\n"
     ]
    },
    {
     "name": "stderr",
     "output_type": "stream",
     "text": [
      "Train Epoch 80: 100%|██████████| 391/391 [00:24<00:00, 16.07it/s, Loss=0.216, Acc=92.454%]\n",
      "Test Epoch 80: 100%|██████████| 100/100 [00:01<00:00, 56.79it/s]\n"
     ]
    },
    {
     "name": "stdout",
     "output_type": "stream",
     "text": [
      "Test Accuracy: 92.120%\n",
      "Saving best model with accuracy: 92.120%\n",
      "\n",
      "Epoch: 81/300\n"
     ]
    },
    {
     "name": "stderr",
     "output_type": "stream",
     "text": [
      "Train Epoch 81: 100%|██████████| 391/391 [00:25<00:00, 15.57it/s, Loss=0.220, Acc=92.374%]\n",
      "Test Epoch 81: 100%|██████████| 100/100 [00:01<00:00, 60.69it/s]\n"
     ]
    },
    {
     "name": "stdout",
     "output_type": "stream",
     "text": [
      "Test Accuracy: 91.710%\n",
      "\n",
      "Epoch: 82/300\n"
     ]
    },
    {
     "name": "stderr",
     "output_type": "stream",
     "text": [
      "Train Epoch 82: 100%|██████████| 391/391 [00:24<00:00, 15.80it/s, Loss=0.216, Acc=92.546%]\n",
      "Test Epoch 82: 100%|██████████| 100/100 [00:01<00:00, 61.19it/s]\n"
     ]
    },
    {
     "name": "stdout",
     "output_type": "stream",
     "text": [
      "Test Accuracy: 92.100%\n",
      "\n",
      "Epoch: 83/300\n"
     ]
    },
    {
     "name": "stderr",
     "output_type": "stream",
     "text": [
      "Train Epoch 83: 100%|██████████| 391/391 [00:24<00:00, 15.66it/s, Loss=0.214, Acc=92.500%]\n",
      "Test Epoch 83: 100%|██████████| 100/100 [00:01<00:00, 61.47it/s]\n"
     ]
    },
    {
     "name": "stdout",
     "output_type": "stream",
     "text": [
      "Test Accuracy: 92.260%\n",
      "Saving best model with accuracy: 92.260%\n",
      "\n",
      "Epoch: 84/300\n"
     ]
    },
    {
     "name": "stderr",
     "output_type": "stream",
     "text": [
      "Train Epoch 84: 100%|██████████| 391/391 [00:24<00:00, 15.79it/s, Loss=0.211, Acc=92.570%]\n",
      "Test Epoch 84: 100%|██████████| 100/100 [00:01<00:00, 59.74it/s]\n"
     ]
    },
    {
     "name": "stdout",
     "output_type": "stream",
     "text": [
      "Test Accuracy: 92.080%\n",
      "\n",
      "Epoch: 85/300\n"
     ]
    },
    {
     "name": "stderr",
     "output_type": "stream",
     "text": [
      "Train Epoch 85: 100%|██████████| 391/391 [00:24<00:00, 15.97it/s, Loss=0.208, Acc=92.656%]\n",
      "Test Epoch 85: 100%|██████████| 100/100 [00:01<00:00, 59.05it/s]\n"
     ]
    },
    {
     "name": "stdout",
     "output_type": "stream",
     "text": [
      "Test Accuracy: 91.830%\n",
      "\n",
      "Epoch: 86/300\n"
     ]
    },
    {
     "name": "stderr",
     "output_type": "stream",
     "text": [
      "Train Epoch 86: 100%|██████████| 391/391 [00:24<00:00, 15.86it/s, Loss=0.210, Acc=92.602%]\n",
      "Test Epoch 86: 100%|██████████| 100/100 [00:01<00:00, 53.56it/s]\n"
     ]
    },
    {
     "name": "stdout",
     "output_type": "stream",
     "text": [
      "Test Accuracy: 92.250%\n",
      "\n",
      "Epoch: 87/300\n"
     ]
    },
    {
     "name": "stderr",
     "output_type": "stream",
     "text": [
      "Train Epoch 87: 100%|██████████| 391/391 [00:25<00:00, 15.39it/s, Loss=0.206, Acc=92.772%]\n",
      "Test Epoch 87: 100%|██████████| 100/100 [00:01<00:00, 57.67it/s]\n"
     ]
    },
    {
     "name": "stdout",
     "output_type": "stream",
     "text": [
      "Test Accuracy: 92.080%\n",
      "\n",
      "Epoch: 88/300\n"
     ]
    },
    {
     "name": "stderr",
     "output_type": "stream",
     "text": [
      "Train Epoch 88: 100%|██████████| 391/391 [00:24<00:00, 15.79it/s, Loss=0.204, Acc=92.914%]\n",
      "Test Epoch 88: 100%|██████████| 100/100 [00:01<00:00, 57.99it/s]\n"
     ]
    },
    {
     "name": "stdout",
     "output_type": "stream",
     "text": [
      "Test Accuracy: 91.970%\n",
      "\n",
      "Epoch: 89/300\n"
     ]
    },
    {
     "name": "stderr",
     "output_type": "stream",
     "text": [
      "Train Epoch 89: 100%|██████████| 391/391 [00:25<00:00, 15.64it/s, Loss=0.202, Acc=92.942%]\n",
      "Test Epoch 89: 100%|██████████| 100/100 [00:01<00:00, 60.00it/s]\n"
     ]
    },
    {
     "name": "stdout",
     "output_type": "stream",
     "text": [
      "Test Accuracy: 92.230%\n",
      "\n",
      "Epoch: 90/300\n"
     ]
    },
    {
     "name": "stderr",
     "output_type": "stream",
     "text": [
      "Train Epoch 90: 100%|██████████| 391/391 [00:25<00:00, 15.52it/s, Loss=0.205, Acc=92.930%]\n",
      "Test Epoch 90: 100%|██████████| 100/100 [00:01<00:00, 59.71it/s]\n"
     ]
    },
    {
     "name": "stdout",
     "output_type": "stream",
     "text": [
      "Test Accuracy: 91.780%\n",
      "\n",
      "Epoch: 91/300\n"
     ]
    },
    {
     "name": "stderr",
     "output_type": "stream",
     "text": [
      "Train Epoch 91: 100%|██████████| 391/391 [00:24<00:00, 15.94it/s, Loss=0.199, Acc=93.184%]\n",
      "Test Epoch 91: 100%|██████████| 100/100 [00:01<00:00, 57.86it/s]\n"
     ]
    },
    {
     "name": "stdout",
     "output_type": "stream",
     "text": [
      "Test Accuracy: 92.180%\n",
      "\n",
      "Epoch: 92/300\n"
     ]
    },
    {
     "name": "stderr",
     "output_type": "stream",
     "text": [
      "Train Epoch 92: 100%|██████████| 391/391 [00:24<00:00, 15.81it/s, Loss=0.196, Acc=93.108%]\n",
      "Test Epoch 92: 100%|██████████| 100/100 [00:01<00:00, 52.73it/s]\n"
     ]
    },
    {
     "name": "stdout",
     "output_type": "stream",
     "text": [
      "Test Accuracy: 92.340%\n",
      "Saving best model with accuracy: 92.340%\n",
      "\n",
      "Epoch: 93/300\n"
     ]
    },
    {
     "name": "stderr",
     "output_type": "stream",
     "text": [
      "Train Epoch 93: 100%|██████████| 391/391 [00:24<00:00, 15.75it/s, Loss=0.201, Acc=93.046%]\n",
      "Test Epoch 93: 100%|██████████| 100/100 [00:01<00:00, 54.37it/s]\n"
     ]
    },
    {
     "name": "stdout",
     "output_type": "stream",
     "text": [
      "Test Accuracy: 92.050%\n",
      "\n",
      "Epoch: 94/300\n"
     ]
    },
    {
     "name": "stderr",
     "output_type": "stream",
     "text": [
      "Train Epoch 94: 100%|██████████| 391/391 [00:24<00:00, 15.79it/s, Loss=0.194, Acc=93.180%]\n",
      "Test Epoch 94: 100%|██████████| 100/100 [00:01<00:00, 60.70it/s]\n"
     ]
    },
    {
     "name": "stdout",
     "output_type": "stream",
     "text": [
      "Test Accuracy: 92.160%\n",
      "\n",
      "Epoch: 95/300\n"
     ]
    },
    {
     "name": "stderr",
     "output_type": "stream",
     "text": [
      "Train Epoch 95: 100%|██████████| 391/391 [00:24<00:00, 15.89it/s, Loss=0.193, Acc=93.314%]\n",
      "Test Epoch 95: 100%|██████████| 100/100 [00:01<00:00, 53.39it/s]\n"
     ]
    },
    {
     "name": "stdout",
     "output_type": "stream",
     "text": [
      "Test Accuracy: 91.590%\n",
      "\n",
      "Epoch: 96/300\n"
     ]
    },
    {
     "name": "stderr",
     "output_type": "stream",
     "text": [
      "Train Epoch 96: 100%|██████████| 391/391 [00:24<00:00, 15.86it/s, Loss=0.194, Acc=93.284%]\n",
      "Test Epoch 96: 100%|██████████| 100/100 [00:01<00:00, 52.94it/s]\n"
     ]
    },
    {
     "name": "stdout",
     "output_type": "stream",
     "text": [
      "Test Accuracy: 91.780%\n",
      "\n",
      "Epoch: 97/300\n"
     ]
    },
    {
     "name": "stderr",
     "output_type": "stream",
     "text": [
      "Train Epoch 97: 100%|██████████| 391/391 [00:25<00:00, 15.61it/s, Loss=0.194, Acc=93.244%]\n",
      "Test Epoch 97: 100%|██████████| 100/100 [00:01<00:00, 59.46it/s]\n"
     ]
    },
    {
     "name": "stdout",
     "output_type": "stream",
     "text": [
      "Test Accuracy: 91.980%\n",
      "\n",
      "Epoch: 98/300\n"
     ]
    },
    {
     "name": "stderr",
     "output_type": "stream",
     "text": [
      "Train Epoch 98: 100%|██████████| 391/391 [00:24<00:00, 15.99it/s, Loss=0.187, Acc=93.546%]\n",
      "Test Epoch 98: 100%|██████████| 100/100 [00:01<00:00, 60.71it/s]\n"
     ]
    },
    {
     "name": "stdout",
     "output_type": "stream",
     "text": [
      "Test Accuracy: 92.390%\n",
      "Saving best model with accuracy: 92.390%\n",
      "\n",
      "Epoch: 99/300\n"
     ]
    },
    {
     "name": "stderr",
     "output_type": "stream",
     "text": [
      "Train Epoch 99: 100%|██████████| 391/391 [00:25<00:00, 15.62it/s, Loss=0.192, Acc=93.326%]\n",
      "Test Epoch 99: 100%|██████████| 100/100 [00:01<00:00, 51.42it/s]\n"
     ]
    },
    {
     "name": "stdout",
     "output_type": "stream",
     "text": [
      "Test Accuracy: 92.350%\n",
      "\n",
      "Epoch: 100/300\n"
     ]
    },
    {
     "name": "stderr",
     "output_type": "stream",
     "text": [
      "Train Epoch 100: 100%|██████████| 391/391 [00:24<00:00, 15.82it/s, Loss=0.191, Acc=93.202%]\n",
      "Test Epoch 100: 100%|██████████| 100/100 [00:01<00:00, 56.32it/s]\n"
     ]
    },
    {
     "name": "stdout",
     "output_type": "stream",
     "text": [
      "Test Accuracy: 92.110%\n",
      "\n",
      "Epoch: 101/300\n"
     ]
    },
    {
     "name": "stderr",
     "output_type": "stream",
     "text": [
      "Train Epoch 101: 100%|██████████| 391/391 [00:24<00:00, 15.72it/s, Loss=0.184, Acc=93.580%]\n",
      "Test Epoch 101: 100%|██████████| 100/100 [00:01<00:00, 52.91it/s]\n"
     ]
    },
    {
     "name": "stdout",
     "output_type": "stream",
     "text": [
      "Test Accuracy: 92.190%\n",
      "\n",
      "Epoch: 102/300\n"
     ]
    },
    {
     "name": "stderr",
     "output_type": "stream",
     "text": [
      "Train Epoch 102: 100%|██████████| 391/391 [00:25<00:00, 15.60it/s, Loss=0.191, Acc=93.342%]\n",
      "Test Epoch 102: 100%|██████████| 100/100 [00:01<00:00, 59.33it/s]\n"
     ]
    },
    {
     "name": "stdout",
     "output_type": "stream",
     "text": [
      "Test Accuracy: 92.080%\n",
      "\n",
      "Epoch: 103/300\n"
     ]
    },
    {
     "name": "stderr",
     "output_type": "stream",
     "text": [
      "Train Epoch 103: 100%|██████████| 391/391 [00:24<00:00, 15.97it/s, Loss=0.188, Acc=93.528%]\n",
      "Test Epoch 103: 100%|██████████| 100/100 [00:01<00:00, 60.76it/s]\n"
     ]
    },
    {
     "name": "stdout",
     "output_type": "stream",
     "text": [
      "Test Accuracy: 92.390%\n",
      "\n",
      "Epoch: 104/300\n"
     ]
    },
    {
     "name": "stderr",
     "output_type": "stream",
     "text": [
      "Train Epoch 104: 100%|██████████| 391/391 [00:24<00:00, 15.71it/s, Loss=0.183, Acc=93.652%]\n",
      "Test Epoch 104: 100%|██████████| 100/100 [00:01<00:00, 52.40it/s]\n"
     ]
    },
    {
     "name": "stdout",
     "output_type": "stream",
     "text": [
      "Test Accuracy: 92.740%\n",
      "Saving best model with accuracy: 92.740%\n",
      "\n",
      "Epoch: 105/300\n"
     ]
    },
    {
     "name": "stderr",
     "output_type": "stream",
     "text": [
      "Train Epoch 105: 100%|██████████| 391/391 [00:24<00:00, 15.74it/s, Loss=0.180, Acc=93.732%]\n",
      "Test Epoch 105: 100%|██████████| 100/100 [00:01<00:00, 58.91it/s]\n"
     ]
    },
    {
     "name": "stdout",
     "output_type": "stream",
     "text": [
      "Test Accuracy: 91.920%\n",
      "\n",
      "Epoch: 106/300\n"
     ]
    },
    {
     "name": "stderr",
     "output_type": "stream",
     "text": [
      "Train Epoch 106: 100%|██████████| 391/391 [00:24<00:00, 15.66it/s, Loss=0.188, Acc=93.508%]\n",
      "Test Epoch 106: 100%|██████████| 100/100 [00:01<00:00, 60.64it/s]\n"
     ]
    },
    {
     "name": "stdout",
     "output_type": "stream",
     "text": [
      "Test Accuracy: 92.010%\n",
      "\n",
      "Epoch: 107/300\n"
     ]
    },
    {
     "name": "stderr",
     "output_type": "stream",
     "text": [
      "Train Epoch 107: 100%|██████████| 391/391 [00:24<00:00, 15.68it/s, Loss=0.183, Acc=93.684%]\n",
      "Test Epoch 107: 100%|██████████| 100/100 [00:01<00:00, 59.47it/s]\n"
     ]
    },
    {
     "name": "stdout",
     "output_type": "stream",
     "text": [
      "Test Accuracy: 92.230%\n",
      "\n",
      "Epoch: 108/300\n"
     ]
    },
    {
     "name": "stderr",
     "output_type": "stream",
     "text": [
      "Train Epoch 108: 100%|██████████| 391/391 [00:24<00:00, 15.78it/s, Loss=0.175, Acc=93.868%]\n",
      "Test Epoch 108: 100%|██████████| 100/100 [00:01<00:00, 59.40it/s]\n"
     ]
    },
    {
     "name": "stdout",
     "output_type": "stream",
     "text": [
      "Test Accuracy: 92.450%\n",
      "\n",
      "Epoch: 109/300\n"
     ]
    },
    {
     "name": "stderr",
     "output_type": "stream",
     "text": [
      "Train Epoch 109: 100%|██████████| 391/391 [00:24<00:00, 15.88it/s, Loss=0.183, Acc=93.684%]\n",
      "Test Epoch 109: 100%|██████████| 100/100 [00:01<00:00, 61.53it/s]\n"
     ]
    },
    {
     "name": "stdout",
     "output_type": "stream",
     "text": [
      "Test Accuracy: 92.240%\n",
      "\n",
      "Epoch: 110/300\n"
     ]
    },
    {
     "name": "stderr",
     "output_type": "stream",
     "text": [
      "Train Epoch 110: 100%|██████████| 391/391 [00:25<00:00, 15.58it/s, Loss=0.179, Acc=93.866%]\n",
      "Test Epoch 110: 100%|██████████| 100/100 [00:01<00:00, 53.20it/s]\n"
     ]
    },
    {
     "name": "stdout",
     "output_type": "stream",
     "text": [
      "Test Accuracy: 92.250%\n",
      "\n",
      "Epoch: 111/300\n"
     ]
    },
    {
     "name": "stderr",
     "output_type": "stream",
     "text": [
      "Train Epoch 111: 100%|██████████| 391/391 [00:25<00:00, 15.53it/s, Loss=0.175, Acc=93.836%]\n",
      "Test Epoch 111: 100%|██████████| 100/100 [00:01<00:00, 61.01it/s]\n"
     ]
    },
    {
     "name": "stdout",
     "output_type": "stream",
     "text": [
      "Test Accuracy: 92.000%\n",
      "\n",
      "Epoch: 112/300\n"
     ]
    },
    {
     "name": "stderr",
     "output_type": "stream",
     "text": [
      "Train Epoch 112: 100%|██████████| 391/391 [00:24<00:00, 15.80it/s, Loss=0.178, Acc=93.790%]\n",
      "Test Epoch 112: 100%|██████████| 100/100 [00:01<00:00, 55.28it/s]\n"
     ]
    },
    {
     "name": "stdout",
     "output_type": "stream",
     "text": [
      "Test Accuracy: 92.360%\n",
      "\n",
      "Epoch: 113/300\n"
     ]
    },
    {
     "name": "stderr",
     "output_type": "stream",
     "text": [
      "Train Epoch 113: 100%|██████████| 391/391 [00:24<00:00, 15.87it/s, Loss=0.175, Acc=93.834%]\n",
      "Test Epoch 113: 100%|██████████| 100/100 [00:01<00:00, 51.84it/s]\n"
     ]
    },
    {
     "name": "stdout",
     "output_type": "stream",
     "text": [
      "Test Accuracy: 91.940%\n",
      "\n",
      "Epoch: 114/300\n"
     ]
    },
    {
     "name": "stderr",
     "output_type": "stream",
     "text": [
      "Train Epoch 114: 100%|██████████| 391/391 [00:24<00:00, 15.80it/s, Loss=0.172, Acc=93.978%]\n",
      "Test Epoch 114: 100%|██████████| 100/100 [00:01<00:00, 52.70it/s]\n"
     ]
    },
    {
     "name": "stdout",
     "output_type": "stream",
     "text": [
      "Test Accuracy: 92.340%\n",
      "\n",
      "Epoch: 115/300\n"
     ]
    },
    {
     "name": "stderr",
     "output_type": "stream",
     "text": [
      "Train Epoch 115: 100%|██████████| 391/391 [00:25<00:00, 15.57it/s, Loss=0.172, Acc=94.026%]\n",
      "Test Epoch 115: 100%|██████████| 100/100 [00:01<00:00, 56.18it/s]\n"
     ]
    },
    {
     "name": "stdout",
     "output_type": "stream",
     "text": [
      "Test Accuracy: 92.040%\n",
      "\n",
      "Epoch: 116/300\n"
     ]
    },
    {
     "name": "stderr",
     "output_type": "stream",
     "text": [
      "Train Epoch 116: 100%|██████████| 391/391 [00:24<00:00, 15.93it/s, Loss=0.173, Acc=94.056%]\n",
      "Test Epoch 116: 100%|██████████| 100/100 [00:01<00:00, 54.15it/s]\n"
     ]
    },
    {
     "name": "stdout",
     "output_type": "stream",
     "text": [
      "Test Accuracy: 92.340%\n",
      "\n",
      "Epoch: 117/300\n"
     ]
    },
    {
     "name": "stderr",
     "output_type": "stream",
     "text": [
      "Train Epoch 117: 100%|██████████| 391/391 [00:24<00:00, 15.95it/s, Loss=0.167, Acc=94.184%]\n",
      "Test Epoch 117: 100%|██████████| 100/100 [00:01<00:00, 60.87it/s]\n"
     ]
    },
    {
     "name": "stdout",
     "output_type": "stream",
     "text": [
      "Test Accuracy: 92.410%\n",
      "\n",
      "Epoch: 118/300\n"
     ]
    },
    {
     "name": "stderr",
     "output_type": "stream",
     "text": [
      "Train Epoch 118: 100%|██████████| 391/391 [00:24<00:00, 15.72it/s, Loss=0.172, Acc=94.044%]\n",
      "Test Epoch 118: 100%|██████████| 100/100 [00:01<00:00, 60.92it/s]\n"
     ]
    },
    {
     "name": "stdout",
     "output_type": "stream",
     "text": [
      "Test Accuracy: 91.960%\n",
      "\n",
      "Epoch: 119/300\n"
     ]
    },
    {
     "name": "stderr",
     "output_type": "stream",
     "text": [
      "Train Epoch 119: 100%|██████████| 391/391 [00:24<00:00, 15.71it/s, Loss=0.168, Acc=94.160%]\n",
      "Test Epoch 119: 100%|██████████| 100/100 [00:01<00:00, 59.31it/s]\n"
     ]
    },
    {
     "name": "stdout",
     "output_type": "stream",
     "text": [
      "Test Accuracy: 92.400%\n",
      "\n",
      "Epoch: 120/300\n"
     ]
    },
    {
     "name": "stderr",
     "output_type": "stream",
     "text": [
      "Train Epoch 120: 100%|██████████| 391/391 [00:24<00:00, 15.92it/s, Loss=0.166, Acc=94.240%]\n",
      "Test Epoch 120: 100%|██████████| 100/100 [00:01<00:00, 52.32it/s]\n"
     ]
    },
    {
     "name": "stdout",
     "output_type": "stream",
     "text": [
      "Test Accuracy: 92.260%\n",
      "\n",
      "Epoch: 121/300\n"
     ]
    },
    {
     "name": "stderr",
     "output_type": "stream",
     "text": [
      "Train Epoch 121: 100%|██████████| 391/391 [00:25<00:00, 15.52it/s, Loss=0.165, Acc=94.160%]\n",
      "Test Epoch 121: 100%|██████████| 100/100 [00:01<00:00, 60.70it/s]\n"
     ]
    },
    {
     "name": "stdout",
     "output_type": "stream",
     "text": [
      "Test Accuracy: 92.270%\n",
      "\n",
      "Epoch: 122/300\n"
     ]
    },
    {
     "name": "stderr",
     "output_type": "stream",
     "text": [
      "Train Epoch 122: 100%|██████████| 391/391 [00:25<00:00, 15.63it/s, Loss=0.166, Acc=94.176%]\n",
      "Test Epoch 122: 100%|██████████| 100/100 [00:01<00:00, 61.57it/s]\n"
     ]
    },
    {
     "name": "stdout",
     "output_type": "stream",
     "text": [
      "Test Accuracy: 92.170%\n",
      "\n",
      "Epoch: 123/300\n"
     ]
    },
    {
     "name": "stderr",
     "output_type": "stream",
     "text": [
      "Train Epoch 123: 100%|██████████| 391/391 [00:25<00:00, 15.56it/s, Loss=0.164, Acc=94.238%]\n",
      "Test Epoch 123: 100%|██████████| 100/100 [00:01<00:00, 57.03it/s]\n"
     ]
    },
    {
     "name": "stdout",
     "output_type": "stream",
     "text": [
      "Test Accuracy: 92.550%\n",
      "\n",
      "Epoch: 124/300\n"
     ]
    },
    {
     "name": "stderr",
     "output_type": "stream",
     "text": [
      "Train Epoch 124: 100%|██████████| 391/391 [00:24<00:00, 15.91it/s, Loss=0.161, Acc=94.482%]\n",
      "Test Epoch 124: 100%|██████████| 100/100 [00:01<00:00, 61.08it/s]\n"
     ]
    },
    {
     "name": "stdout",
     "output_type": "stream",
     "text": [
      "Test Accuracy: 92.470%\n",
      "\n",
      "Epoch: 125/300\n"
     ]
    },
    {
     "name": "stderr",
     "output_type": "stream",
     "text": [
      "Train Epoch 125: 100%|██████████| 391/391 [00:25<00:00, 15.59it/s, Loss=0.162, Acc=94.294%]\n",
      "Test Epoch 125: 100%|██████████| 100/100 [00:01<00:00, 61.11it/s]\n"
     ]
    },
    {
     "name": "stdout",
     "output_type": "stream",
     "text": [
      "Test Accuracy: 92.530%\n",
      "\n",
      "Epoch: 126/300\n"
     ]
    },
    {
     "name": "stderr",
     "output_type": "stream",
     "text": [
      "Train Epoch 126: 100%|██████████| 391/391 [00:25<00:00, 15.61it/s, Loss=0.164, Acc=94.318%]\n",
      "Test Epoch 126: 100%|██████████| 100/100 [00:01<00:00, 56.19it/s]\n"
     ]
    },
    {
     "name": "stdout",
     "output_type": "stream",
     "text": [
      "Test Accuracy: 92.400%\n",
      "\n",
      "Epoch: 127/300\n"
     ]
    },
    {
     "name": "stderr",
     "output_type": "stream",
     "text": [
      "Train Epoch 127: 100%|██████████| 391/391 [00:24<00:00, 15.84it/s, Loss=0.164, Acc=94.348%]\n",
      "Test Epoch 127: 100%|██████████| 100/100 [00:01<00:00, 60.65it/s]\n"
     ]
    },
    {
     "name": "stdout",
     "output_type": "stream",
     "text": [
      "Test Accuracy: 92.480%\n",
      "\n",
      "Epoch: 128/300\n"
     ]
    },
    {
     "name": "stderr",
     "output_type": "stream",
     "text": [
      "Train Epoch 128: 100%|██████████| 391/391 [00:24<00:00, 15.73it/s, Loss=0.158, Acc=94.402%]\n",
      "Test Epoch 128: 100%|██████████| 100/100 [00:01<00:00, 51.95it/s]\n"
     ]
    },
    {
     "name": "stdout",
     "output_type": "stream",
     "text": [
      "Test Accuracy: 92.500%\n",
      "\n",
      "Epoch: 129/300\n"
     ]
    },
    {
     "name": "stderr",
     "output_type": "stream",
     "text": [
      "Train Epoch 129: 100%|██████████| 391/391 [00:24<00:00, 15.73it/s, Loss=0.164, Acc=94.406%]\n",
      "Test Epoch 129: 100%|██████████| 100/100 [00:01<00:00, 61.06it/s]\n"
     ]
    },
    {
     "name": "stdout",
     "output_type": "stream",
     "text": [
      "Test Accuracy: 92.250%\n",
      "\n",
      "Epoch: 130/300\n"
     ]
    },
    {
     "name": "stderr",
     "output_type": "stream",
     "text": [
      "Train Epoch 130: 100%|██████████| 391/391 [00:24<00:00, 15.83it/s, Loss=0.162, Acc=94.392%]\n",
      "Test Epoch 130: 100%|██████████| 100/100 [00:01<00:00, 53.83it/s]\n"
     ]
    },
    {
     "name": "stdout",
     "output_type": "stream",
     "text": [
      "Test Accuracy: 92.560%\n",
      "\n",
      "Epoch: 131/300\n"
     ]
    },
    {
     "name": "stderr",
     "output_type": "stream",
     "text": [
      "Train Epoch 131: 100%|██████████| 391/391 [00:24<00:00, 15.71it/s, Loss=0.160, Acc=94.366%]\n",
      "Test Epoch 131: 100%|██████████| 100/100 [00:01<00:00, 54.27it/s]\n"
     ]
    },
    {
     "name": "stdout",
     "output_type": "stream",
     "text": [
      "Test Accuracy: 92.790%\n",
      "Saving best model with accuracy: 92.790%\n",
      "\n",
      "Epoch: 132/300\n"
     ]
    },
    {
     "name": "stderr",
     "output_type": "stream",
     "text": [
      "Train Epoch 132: 100%|██████████| 391/391 [00:24<00:00, 15.67it/s, Loss=0.160, Acc=94.404%]\n",
      "Test Epoch 132: 100%|██████████| 100/100 [00:01<00:00, 59.63it/s]\n"
     ]
    },
    {
     "name": "stdout",
     "output_type": "stream",
     "text": [
      "Test Accuracy: 92.760%\n",
      "\n",
      "Epoch: 133/300\n"
     ]
    },
    {
     "name": "stderr",
     "output_type": "stream",
     "text": [
      "Train Epoch 133: 100%|██████████| 391/391 [00:25<00:00, 15.54it/s, Loss=0.154, Acc=94.596%]\n",
      "Test Epoch 133: 100%|██████████| 100/100 [00:01<00:00, 61.31it/s]\n"
     ]
    },
    {
     "name": "stdout",
     "output_type": "stream",
     "text": [
      "Test Accuracy: 92.540%\n",
      "\n",
      "Epoch: 134/300\n"
     ]
    },
    {
     "name": "stderr",
     "output_type": "stream",
     "text": [
      "Train Epoch 134: 100%|██████████| 391/391 [00:24<00:00, 15.85it/s, Loss=0.157, Acc=94.524%]\n",
      "Test Epoch 134: 100%|██████████| 100/100 [00:01<00:00, 51.58it/s]\n"
     ]
    },
    {
     "name": "stdout",
     "output_type": "stream",
     "text": [
      "Test Accuracy: 92.830%\n",
      "Saving best model with accuracy: 92.830%\n",
      "\n",
      "Epoch: 135/300\n"
     ]
    },
    {
     "name": "stderr",
     "output_type": "stream",
     "text": [
      "Train Epoch 135: 100%|██████████| 391/391 [00:24<00:00, 15.73it/s, Loss=0.157, Acc=94.508%]\n",
      "Test Epoch 135: 100%|██████████| 100/100 [00:01<00:00, 58.89it/s]\n"
     ]
    },
    {
     "name": "stdout",
     "output_type": "stream",
     "text": [
      "Test Accuracy: 92.410%\n",
      "\n",
      "Epoch: 136/300\n"
     ]
    },
    {
     "name": "stderr",
     "output_type": "stream",
     "text": [
      "Train Epoch 136: 100%|██████████| 391/391 [00:24<00:00, 15.80it/s, Loss=0.156, Acc=94.512%]\n",
      "Test Epoch 136: 100%|██████████| 100/100 [00:01<00:00, 52.81it/s]\n"
     ]
    },
    {
     "name": "stdout",
     "output_type": "stream",
     "text": [
      "Test Accuracy: 92.490%\n",
      "\n",
      "Epoch: 137/300\n"
     ]
    },
    {
     "name": "stderr",
     "output_type": "stream",
     "text": [
      "Train Epoch 137: 100%|██████████| 391/391 [00:24<00:00, 15.76it/s, Loss=0.155, Acc=94.642%]\n",
      "Test Epoch 137: 100%|██████████| 100/100 [00:01<00:00, 51.15it/s]\n"
     ]
    },
    {
     "name": "stdout",
     "output_type": "stream",
     "text": [
      "Test Accuracy: 92.470%\n",
      "\n",
      "Epoch: 138/300\n"
     ]
    },
    {
     "name": "stderr",
     "output_type": "stream",
     "text": [
      "Train Epoch 138: 100%|██████████| 391/391 [00:24<00:00, 15.87it/s, Loss=0.156, Acc=94.620%]\n",
      "Test Epoch 138: 100%|██████████| 100/100 [00:01<00:00, 52.68it/s]\n"
     ]
    },
    {
     "name": "stdout",
     "output_type": "stream",
     "text": [
      "Test Accuracy: 92.240%\n",
      "\n",
      "Epoch: 139/300\n"
     ]
    },
    {
     "name": "stderr",
     "output_type": "stream",
     "text": [
      "Train Epoch 139: 100%|██████████| 391/391 [00:24<00:00, 15.84it/s, Loss=0.154, Acc=94.614%]\n",
      "Test Epoch 139: 100%|██████████| 100/100 [00:01<00:00, 56.54it/s]\n"
     ]
    },
    {
     "name": "stdout",
     "output_type": "stream",
     "text": [
      "Test Accuracy: 92.380%\n",
      "\n",
      "Epoch: 140/300\n"
     ]
    },
    {
     "name": "stderr",
     "output_type": "stream",
     "text": [
      "Train Epoch 140: 100%|██████████| 391/391 [00:24<00:00, 15.92it/s, Loss=0.152, Acc=94.708%]\n",
      "Test Epoch 140: 100%|██████████| 100/100 [00:01<00:00, 60.40it/s]\n"
     ]
    },
    {
     "name": "stdout",
     "output_type": "stream",
     "text": [
      "Test Accuracy: 92.980%\n",
      "Saving best model with accuracy: 92.980%\n",
      "\n",
      "Epoch: 141/300\n"
     ]
    },
    {
     "name": "stderr",
     "output_type": "stream",
     "text": [
      "Train Epoch 141: 100%|██████████| 391/391 [00:25<00:00, 15.50it/s, Loss=0.151, Acc=94.752%]\n",
      "Test Epoch 141: 100%|██████████| 100/100 [00:01<00:00, 52.38it/s]\n"
     ]
    },
    {
     "name": "stdout",
     "output_type": "stream",
     "text": [
      "Test Accuracy: 92.930%\n",
      "\n",
      "Epoch: 142/300\n"
     ]
    },
    {
     "name": "stderr",
     "output_type": "stream",
     "text": [
      "Train Epoch 142: 100%|██████████| 391/391 [00:24<00:00, 15.81it/s, Loss=0.155, Acc=94.628%]\n",
      "Test Epoch 142: 100%|██████████| 100/100 [00:01<00:00, 59.02it/s]\n"
     ]
    },
    {
     "name": "stdout",
     "output_type": "stream",
     "text": [
      "Test Accuracy: 92.890%\n",
      "\n",
      "Epoch: 143/300\n"
     ]
    },
    {
     "name": "stderr",
     "output_type": "stream",
     "text": [
      "Train Epoch 143: 100%|██████████| 391/391 [00:24<00:00, 15.91it/s, Loss=0.151, Acc=94.750%]\n",
      "Test Epoch 143: 100%|██████████| 100/100 [00:01<00:00, 59.60it/s]\n"
     ]
    },
    {
     "name": "stdout",
     "output_type": "stream",
     "text": [
      "Test Accuracy: 92.900%\n",
      "\n",
      "Epoch: 144/300\n"
     ]
    },
    {
     "name": "stderr",
     "output_type": "stream",
     "text": [
      "Train Epoch 144: 100%|██████████| 391/391 [00:25<00:00, 15.49it/s, Loss=0.147, Acc=95.004%]\n",
      "Test Epoch 144: 100%|██████████| 100/100 [00:01<00:00, 52.93it/s]\n"
     ]
    },
    {
     "name": "stdout",
     "output_type": "stream",
     "text": [
      "Test Accuracy: 92.030%\n",
      "\n",
      "Epoch: 145/300\n"
     ]
    },
    {
     "name": "stderr",
     "output_type": "stream",
     "text": [
      "Train Epoch 145: 100%|██████████| 391/391 [00:24<00:00, 15.75it/s, Loss=0.153, Acc=94.770%]\n",
      "Test Epoch 145: 100%|██████████| 100/100 [00:01<00:00, 59.46it/s]\n"
     ]
    },
    {
     "name": "stdout",
     "output_type": "stream",
     "text": [
      "Test Accuracy: 92.570%\n",
      "\n",
      "Epoch: 146/300\n"
     ]
    },
    {
     "name": "stderr",
     "output_type": "stream",
     "text": [
      "Train Epoch 146: 100%|██████████| 391/391 [00:24<00:00, 15.89it/s, Loss=0.152, Acc=94.714%]\n",
      "Test Epoch 146: 100%|██████████| 100/100 [00:01<00:00, 52.30it/s]\n"
     ]
    },
    {
     "name": "stdout",
     "output_type": "stream",
     "text": [
      "Test Accuracy: 92.470%\n",
      "\n",
      "Epoch: 147/300\n"
     ]
    },
    {
     "name": "stderr",
     "output_type": "stream",
     "text": [
      "Train Epoch 147: 100%|██████████| 391/391 [00:25<00:00, 15.62it/s, Loss=0.148, Acc=94.840%]\n",
      "Test Epoch 147: 100%|██████████| 100/100 [00:01<00:00, 60.78it/s]\n"
     ]
    },
    {
     "name": "stdout",
     "output_type": "stream",
     "text": [
      "Test Accuracy: 92.470%\n",
      "\n",
      "Epoch: 148/300\n"
     ]
    },
    {
     "name": "stderr",
     "output_type": "stream",
     "text": [
      "Train Epoch 148: 100%|██████████| 391/391 [00:24<00:00, 15.91it/s, Loss=0.147, Acc=94.852%]\n",
      "Test Epoch 148: 100%|██████████| 100/100 [00:01<00:00, 60.16it/s]\n"
     ]
    },
    {
     "name": "stdout",
     "output_type": "stream",
     "text": [
      "Test Accuracy: 92.800%\n",
      "\n",
      "Epoch: 149/300\n"
     ]
    },
    {
     "name": "stderr",
     "output_type": "stream",
     "text": [
      "Train Epoch 149: 100%|██████████| 391/391 [00:24<00:00, 15.87it/s, Loss=0.144, Acc=94.978%]\n",
      "Test Epoch 149: 100%|██████████| 100/100 [00:01<00:00, 59.39it/s]\n"
     ]
    },
    {
     "name": "stdout",
     "output_type": "stream",
     "text": [
      "Test Accuracy: 92.790%\n",
      "\n",
      "Epoch: 150/300\n"
     ]
    },
    {
     "name": "stderr",
     "output_type": "stream",
     "text": [
      "Train Epoch 150: 100%|██████████| 391/391 [00:24<00:00, 15.78it/s, Loss=0.143, Acc=95.018%]\n",
      "Test Epoch 150: 100%|██████████| 100/100 [00:01<00:00, 61.31it/s]\n"
     ]
    },
    {
     "name": "stdout",
     "output_type": "stream",
     "text": [
      "Test Accuracy: 92.230%\n",
      "\n",
      "Epoch: 151/300\n"
     ]
    },
    {
     "name": "stderr",
     "output_type": "stream",
     "text": [
      "Train Epoch 151: 100%|██████████| 391/391 [00:24<00:00, 16.02it/s, Loss=0.151, Acc=94.804%]\n",
      "Test Epoch 151: 100%|██████████| 100/100 [00:01<00:00, 60.43it/s]\n"
     ]
    },
    {
     "name": "stdout",
     "output_type": "stream",
     "text": [
      "Test Accuracy: 92.910%\n",
      "\n",
      "Epoch: 152/300\n"
     ]
    },
    {
     "name": "stderr",
     "output_type": "stream",
     "text": [
      "Train Epoch 152: 100%|██████████| 391/391 [00:24<00:00, 15.96it/s, Loss=0.143, Acc=95.112%]\n",
      "Test Epoch 152: 100%|██████████| 100/100 [00:01<00:00, 61.07it/s]\n"
     ]
    },
    {
     "name": "stdout",
     "output_type": "stream",
     "text": [
      "Test Accuracy: 92.400%\n",
      "\n",
      "Epoch: 153/300\n"
     ]
    },
    {
     "name": "stderr",
     "output_type": "stream",
     "text": [
      "Train Epoch 153: 100%|██████████| 391/391 [00:25<00:00, 15.62it/s, Loss=0.144, Acc=94.948%]\n",
      "Test Epoch 153: 100%|██████████| 100/100 [00:01<00:00, 53.60it/s]\n"
     ]
    },
    {
     "name": "stdout",
     "output_type": "stream",
     "text": [
      "Test Accuracy: 92.820%\n",
      "\n",
      "Epoch: 154/300\n"
     ]
    },
    {
     "name": "stderr",
     "output_type": "stream",
     "text": [
      "Train Epoch 154: 100%|██████████| 391/391 [00:24<00:00, 15.82it/s, Loss=0.138, Acc=95.210%]\n",
      "Test Epoch 154: 100%|██████████| 100/100 [00:01<00:00, 59.14it/s]\n"
     ]
    },
    {
     "name": "stdout",
     "output_type": "stream",
     "text": [
      "Test Accuracy: 92.480%\n",
      "\n",
      "Epoch: 155/300\n"
     ]
    },
    {
     "name": "stderr",
     "output_type": "stream",
     "text": [
      "Train Epoch 155: 100%|██████████| 391/391 [00:24<00:00, 15.92it/s, Loss=0.141, Acc=95.056%]\n",
      "Test Epoch 155: 100%|██████████| 100/100 [00:01<00:00, 52.73it/s]\n"
     ]
    },
    {
     "name": "stdout",
     "output_type": "stream",
     "text": [
      "Test Accuracy: 92.500%\n",
      "\n",
      "Epoch: 156/300\n"
     ]
    },
    {
     "name": "stderr",
     "output_type": "stream",
     "text": [
      "Train Epoch 156: 100%|██████████| 391/391 [00:24<00:00, 15.95it/s, Loss=0.146, Acc=94.914%]\n",
      "Test Epoch 156: 100%|██████████| 100/100 [00:01<00:00, 60.03it/s]\n"
     ]
    },
    {
     "name": "stdout",
     "output_type": "stream",
     "text": [
      "Test Accuracy: 92.450%\n",
      "\n",
      "Epoch: 157/300\n"
     ]
    },
    {
     "name": "stderr",
     "output_type": "stream",
     "text": [
      "Train Epoch 157: 100%|██████████| 391/391 [00:24<00:00, 15.86it/s, Loss=0.145, Acc=94.874%]\n",
      "Test Epoch 157: 100%|██████████| 100/100 [00:01<00:00, 52.37it/s]\n"
     ]
    },
    {
     "name": "stdout",
     "output_type": "stream",
     "text": [
      "Test Accuracy: 92.730%\n",
      "\n",
      "Epoch: 158/300\n"
     ]
    },
    {
     "name": "stderr",
     "output_type": "stream",
     "text": [
      "Train Epoch 158: 100%|██████████| 391/391 [00:24<00:00, 15.82it/s, Loss=0.140, Acc=95.124%]\n",
      "Test Epoch 158: 100%|██████████| 100/100 [00:01<00:00, 56.70it/s]\n"
     ]
    },
    {
     "name": "stdout",
     "output_type": "stream",
     "text": [
      "Test Accuracy: 92.900%\n",
      "\n",
      "Epoch: 159/300\n"
     ]
    },
    {
     "name": "stderr",
     "output_type": "stream",
     "text": [
      "Train Epoch 159: 100%|██████████| 391/391 [00:24<00:00, 15.67it/s, Loss=0.142, Acc=95.116%]\n",
      "Test Epoch 159: 100%|██████████| 100/100 [00:01<00:00, 61.67it/s]\n"
     ]
    },
    {
     "name": "stdout",
     "output_type": "stream",
     "text": [
      "Test Accuracy: 92.640%\n",
      "\n",
      "Epoch: 160/300\n"
     ]
    },
    {
     "name": "stderr",
     "output_type": "stream",
     "text": [
      "Train Epoch 160: 100%|██████████| 391/391 [00:24<00:00, 15.92it/s, Loss=0.140, Acc=95.166%]\n",
      "Test Epoch 160: 100%|██████████| 100/100 [00:01<00:00, 58.59it/s]\n"
     ]
    },
    {
     "name": "stdout",
     "output_type": "stream",
     "text": [
      "Test Accuracy: 92.670%\n",
      "\n",
      "Epoch: 161/300\n"
     ]
    },
    {
     "name": "stderr",
     "output_type": "stream",
     "text": [
      "Train Epoch 161: 100%|██████████| 391/391 [00:24<00:00, 16.02it/s, Loss=0.145, Acc=95.018%]\n",
      "Test Epoch 161: 100%|██████████| 100/100 [00:01<00:00, 62.29it/s]\n"
     ]
    },
    {
     "name": "stdout",
     "output_type": "stream",
     "text": [
      "Test Accuracy: 92.520%\n",
      "\n",
      "Epoch: 162/300\n"
     ]
    },
    {
     "name": "stderr",
     "output_type": "stream",
     "text": [
      "Train Epoch 162: 100%|██████████| 391/391 [00:24<00:00, 15.83it/s, Loss=0.140, Acc=95.156%]\n",
      "Test Epoch 162: 100%|██████████| 100/100 [00:01<00:00, 61.34it/s]\n"
     ]
    },
    {
     "name": "stdout",
     "output_type": "stream",
     "text": [
      "Test Accuracy: 92.770%\n",
      "\n",
      "Epoch: 163/300\n"
     ]
    },
    {
     "name": "stderr",
     "output_type": "stream",
     "text": [
      "Train Epoch 163: 100%|██████████| 391/391 [00:24<00:00, 16.04it/s, Loss=0.140, Acc=95.206%]\n",
      "Test Epoch 163: 100%|██████████| 100/100 [00:01<00:00, 56.84it/s]\n"
     ]
    },
    {
     "name": "stdout",
     "output_type": "stream",
     "text": [
      "Test Accuracy: 92.600%\n",
      "\n",
      "Epoch: 164/300\n"
     ]
    },
    {
     "name": "stderr",
     "output_type": "stream",
     "text": [
      "Train Epoch 164: 100%|██████████| 391/391 [00:24<00:00, 15.89it/s, Loss=0.140, Acc=95.100%]\n",
      "Test Epoch 164: 100%|██████████| 100/100 [00:01<00:00, 60.98it/s]\n"
     ]
    },
    {
     "name": "stdout",
     "output_type": "stream",
     "text": [
      "Test Accuracy: 92.410%\n",
      "\n",
      "Epoch: 165/300\n"
     ]
    },
    {
     "name": "stderr",
     "output_type": "stream",
     "text": [
      "Train Epoch 165: 100%|██████████| 391/391 [00:24<00:00, 15.76it/s, Loss=0.138, Acc=95.180%]\n",
      "Test Epoch 165: 100%|██████████| 100/100 [00:01<00:00, 60.32it/s]\n"
     ]
    },
    {
     "name": "stdout",
     "output_type": "stream",
     "text": [
      "Test Accuracy: 92.550%\n",
      "\n",
      "Epoch: 166/300\n"
     ]
    },
    {
     "name": "stderr",
     "output_type": "stream",
     "text": [
      "Train Epoch 166: 100%|██████████| 391/391 [00:24<00:00, 15.82it/s, Loss=0.140, Acc=95.212%]\n",
      "Test Epoch 166: 100%|██████████| 100/100 [00:01<00:00, 60.55it/s]\n"
     ]
    },
    {
     "name": "stdout",
     "output_type": "stream",
     "text": [
      "Test Accuracy: 92.480%\n",
      "\n",
      "Epoch: 167/300\n"
     ]
    },
    {
     "name": "stderr",
     "output_type": "stream",
     "text": [
      "Train Epoch 167: 100%|██████████| 391/391 [00:24<00:00, 15.79it/s, Loss=0.138, Acc=95.260%]\n",
      "Test Epoch 167: 100%|██████████| 100/100 [00:01<00:00, 56.55it/s]\n"
     ]
    },
    {
     "name": "stdout",
     "output_type": "stream",
     "text": [
      "Test Accuracy: 92.850%\n",
      "\n",
      "Epoch: 168/300\n"
     ]
    },
    {
     "name": "stderr",
     "output_type": "stream",
     "text": [
      "Train Epoch 168: 100%|██████████| 391/391 [00:24<00:00, 16.08it/s, Loss=0.136, Acc=95.268%]\n",
      "Test Epoch 168: 100%|██████████| 100/100 [00:01<00:00, 61.53it/s]\n"
     ]
    },
    {
     "name": "stdout",
     "output_type": "stream",
     "text": [
      "Test Accuracy: 92.610%\n",
      "\n",
      "Epoch: 169/300\n"
     ]
    },
    {
     "name": "stderr",
     "output_type": "stream",
     "text": [
      "Train Epoch 169: 100%|██████████| 391/391 [00:24<00:00, 15.73it/s, Loss=0.140, Acc=95.216%]\n",
      "Test Epoch 169: 100%|██████████| 100/100 [00:01<00:00, 52.38it/s]\n"
     ]
    },
    {
     "name": "stdout",
     "output_type": "stream",
     "text": [
      "Test Accuracy: 92.520%\n",
      "\n",
      "Epoch: 170/300\n"
     ]
    },
    {
     "name": "stderr",
     "output_type": "stream",
     "text": [
      "Train Epoch 170: 100%|██████████| 391/391 [00:24<00:00, 15.64it/s, Loss=0.136, Acc=95.284%]\n",
      "Test Epoch 170: 100%|██████████| 100/100 [00:01<00:00, 55.19it/s]\n"
     ]
    },
    {
     "name": "stdout",
     "output_type": "stream",
     "text": [
      "Test Accuracy: 92.800%\n",
      "\n",
      "Epoch: 171/300\n"
     ]
    },
    {
     "name": "stderr",
     "output_type": "stream",
     "text": [
      "Train Epoch 171: 100%|██████████| 391/391 [00:24<00:00, 15.84it/s, Loss=0.133, Acc=95.416%]\n",
      "Test Epoch 171: 100%|██████████| 100/100 [00:01<00:00, 57.13it/s]\n"
     ]
    },
    {
     "name": "stdout",
     "output_type": "stream",
     "text": [
      "Test Accuracy: 92.700%\n",
      "\n",
      "Epoch: 172/300\n"
     ]
    },
    {
     "name": "stderr",
     "output_type": "stream",
     "text": [
      "Train Epoch 172: 100%|██████████| 391/391 [00:24<00:00, 15.91it/s, Loss=0.138, Acc=95.190%]\n",
      "Test Epoch 172: 100%|██████████| 100/100 [00:01<00:00, 58.40it/s]\n"
     ]
    },
    {
     "name": "stdout",
     "output_type": "stream",
     "text": [
      "Test Accuracy: 93.040%\n",
      "Saving best model with accuracy: 93.040%\n",
      "\n",
      "Epoch: 173/300\n"
     ]
    },
    {
     "name": "stderr",
     "output_type": "stream",
     "text": [
      "Train Epoch 173: 100%|██████████| 391/391 [00:24<00:00, 15.80it/s, Loss=0.138, Acc=95.228%]\n",
      "Test Epoch 173: 100%|██████████| 100/100 [00:01<00:00, 56.15it/s]\n"
     ]
    },
    {
     "name": "stdout",
     "output_type": "stream",
     "text": [
      "Test Accuracy: 92.960%\n",
      "\n",
      "Epoch: 174/300\n"
     ]
    },
    {
     "name": "stderr",
     "output_type": "stream",
     "text": [
      "Train Epoch 174: 100%|██████████| 391/391 [00:24<00:00, 15.79it/s, Loss=0.134, Acc=95.390%]\n",
      "Test Epoch 174: 100%|██████████| 100/100 [00:01<00:00, 60.31it/s]\n"
     ]
    },
    {
     "name": "stdout",
     "output_type": "stream",
     "text": [
      "Test Accuracy: 92.790%\n",
      "\n",
      "Epoch: 175/300\n"
     ]
    },
    {
     "name": "stderr",
     "output_type": "stream",
     "text": [
      "Train Epoch 175: 100%|██████████| 391/391 [00:24<00:00, 15.96it/s, Loss=0.134, Acc=95.330%]\n",
      "Test Epoch 175: 100%|██████████| 100/100 [00:01<00:00, 59.62it/s]\n"
     ]
    },
    {
     "name": "stdout",
     "output_type": "stream",
     "text": [
      "Test Accuracy: 92.710%\n",
      "\n",
      "Epoch: 176/300\n"
     ]
    },
    {
     "name": "stderr",
     "output_type": "stream",
     "text": [
      "Train Epoch 176: 100%|██████████| 391/391 [00:24<00:00, 15.75it/s, Loss=0.133, Acc=95.388%]\n",
      "Test Epoch 176: 100%|██████████| 100/100 [00:01<00:00, 62.04it/s]\n"
     ]
    },
    {
     "name": "stdout",
     "output_type": "stream",
     "text": [
      "Test Accuracy: 93.120%\n",
      "Saving best model with accuracy: 93.120%\n",
      "\n",
      "Epoch: 177/300\n"
     ]
    },
    {
     "name": "stderr",
     "output_type": "stream",
     "text": [
      "Train Epoch 177: 100%|██████████| 391/391 [00:24<00:00, 15.75it/s, Loss=0.136, Acc=95.150%]\n",
      "Test Epoch 177: 100%|██████████| 100/100 [00:01<00:00, 57.18it/s]\n"
     ]
    },
    {
     "name": "stdout",
     "output_type": "stream",
     "text": [
      "Test Accuracy: 92.820%\n",
      "\n",
      "Epoch: 178/300\n"
     ]
    },
    {
     "name": "stderr",
     "output_type": "stream",
     "text": [
      "Train Epoch 178: 100%|██████████| 391/391 [00:24<00:00, 15.91it/s, Loss=0.133, Acc=95.340%]\n",
      "Test Epoch 178: 100%|██████████| 100/100 [00:01<00:00, 53.55it/s]\n"
     ]
    },
    {
     "name": "stdout",
     "output_type": "stream",
     "text": [
      "Test Accuracy: 92.510%\n",
      "\n",
      "Epoch: 179/300\n"
     ]
    },
    {
     "name": "stderr",
     "output_type": "stream",
     "text": [
      "Train Epoch 179: 100%|██████████| 391/391 [00:24<00:00, 15.85it/s, Loss=0.131, Acc=95.498%]\n",
      "Test Epoch 179: 100%|██████████| 100/100 [00:01<00:00, 53.14it/s]\n"
     ]
    },
    {
     "name": "stdout",
     "output_type": "stream",
     "text": [
      "Test Accuracy: 93.160%\n",
      "Saving best model with accuracy: 93.160%\n",
      "\n",
      "Epoch: 180/300\n"
     ]
    },
    {
     "name": "stderr",
     "output_type": "stream",
     "text": [
      "Train Epoch 180: 100%|██████████| 391/391 [00:24<00:00, 15.69it/s, Loss=0.130, Acc=95.480%]\n",
      "Test Epoch 180: 100%|██████████| 100/100 [00:01<00:00, 59.10it/s]\n"
     ]
    },
    {
     "name": "stdout",
     "output_type": "stream",
     "text": [
      "Test Accuracy: 92.710%\n",
      "\n",
      "Epoch: 181/300\n"
     ]
    },
    {
     "name": "stderr",
     "output_type": "stream",
     "text": [
      "Train Epoch 181: 100%|██████████| 391/391 [00:24<00:00, 15.93it/s, Loss=0.135, Acc=95.270%]\n",
      "Test Epoch 181: 100%|██████████| 100/100 [00:01<00:00, 60.33it/s]\n"
     ]
    },
    {
     "name": "stdout",
     "output_type": "stream",
     "text": [
      "Test Accuracy: 92.580%\n",
      "\n",
      "Epoch: 182/300\n"
     ]
    },
    {
     "name": "stderr",
     "output_type": "stream",
     "text": [
      "Train Epoch 182: 100%|██████████| 391/391 [00:24<00:00, 15.79it/s, Loss=0.128, Acc=95.564%]\n",
      "Test Epoch 182: 100%|██████████| 100/100 [00:01<00:00, 61.15it/s]\n"
     ]
    },
    {
     "name": "stdout",
     "output_type": "stream",
     "text": [
      "Test Accuracy: 92.680%\n",
      "\n",
      "Epoch: 183/300\n"
     ]
    },
    {
     "name": "stderr",
     "output_type": "stream",
     "text": [
      "Train Epoch 183: 100%|██████████| 391/391 [00:24<00:00, 15.80it/s, Loss=0.131, Acc=95.412%]\n",
      "Test Epoch 183: 100%|██████████| 100/100 [00:01<00:00, 51.68it/s]\n"
     ]
    },
    {
     "name": "stdout",
     "output_type": "stream",
     "text": [
      "Test Accuracy: 92.440%\n",
      "\n",
      "Epoch: 184/300\n"
     ]
    },
    {
     "name": "stderr",
     "output_type": "stream",
     "text": [
      "Train Epoch 184: 100%|██████████| 391/391 [00:24<00:00, 15.89it/s, Loss=0.132, Acc=95.516%]\n",
      "Test Epoch 184: 100%|██████████| 100/100 [00:01<00:00, 52.23it/s]\n"
     ]
    },
    {
     "name": "stdout",
     "output_type": "stream",
     "text": [
      "Test Accuracy: 92.430%\n",
      "\n",
      "Epoch: 185/300\n"
     ]
    },
    {
     "name": "stderr",
     "output_type": "stream",
     "text": [
      "Train Epoch 185: 100%|██████████| 391/391 [00:24<00:00, 15.70it/s, Loss=0.130, Acc=95.596%]\n",
      "Test Epoch 185: 100%|██████████| 100/100 [00:01<00:00, 60.91it/s]\n"
     ]
    },
    {
     "name": "stdout",
     "output_type": "stream",
     "text": [
      "Test Accuracy: 92.790%\n",
      "\n",
      "Epoch: 186/300\n"
     ]
    },
    {
     "name": "stderr",
     "output_type": "stream",
     "text": [
      "Train Epoch 186: 100%|██████████| 391/391 [00:24<00:00, 15.89it/s, Loss=0.127, Acc=95.548%]\n",
      "Test Epoch 186: 100%|██████████| 100/100 [00:01<00:00, 59.54it/s]\n"
     ]
    },
    {
     "name": "stdout",
     "output_type": "stream",
     "text": [
      "Test Accuracy: 92.720%\n",
      "\n",
      "Epoch: 187/300\n"
     ]
    },
    {
     "name": "stderr",
     "output_type": "stream",
     "text": [
      "Train Epoch 187: 100%|██████████| 391/391 [00:24<00:00, 15.79it/s, Loss=0.129, Acc=95.512%]\n",
      "Test Epoch 187: 100%|██████████| 100/100 [00:01<00:00, 61.17it/s]\n"
     ]
    },
    {
     "name": "stdout",
     "output_type": "stream",
     "text": [
      "Test Accuracy: 92.640%\n",
      "\n",
      "Epoch: 188/300\n"
     ]
    },
    {
     "name": "stderr",
     "output_type": "stream",
     "text": [
      "Train Epoch 188: 100%|██████████| 391/391 [00:24<00:00, 15.87it/s, Loss=0.128, Acc=95.554%]\n",
      "Test Epoch 188: 100%|██████████| 100/100 [00:01<00:00, 59.54it/s]\n"
     ]
    },
    {
     "name": "stdout",
     "output_type": "stream",
     "text": [
      "Test Accuracy: 92.890%\n",
      "\n",
      "Epoch: 189/300\n"
     ]
    },
    {
     "name": "stderr",
     "output_type": "stream",
     "text": [
      "Train Epoch 189: 100%|██████████| 391/391 [00:24<00:00, 15.81it/s, Loss=0.129, Acc=95.524%]\n",
      "Test Epoch 189: 100%|██████████| 100/100 [00:01<00:00, 61.26it/s]\n"
     ]
    },
    {
     "name": "stdout",
     "output_type": "stream",
     "text": [
      "Test Accuracy: 93.080%\n",
      "\n",
      "Epoch: 190/300\n"
     ]
    },
    {
     "name": "stderr",
     "output_type": "stream",
     "text": [
      "Train Epoch 190: 100%|██████████| 391/391 [00:25<00:00, 15.58it/s, Loss=0.132, Acc=95.430%]\n",
      "Test Epoch 190: 100%|██████████| 100/100 [00:01<00:00, 61.28it/s]\n"
     ]
    },
    {
     "name": "stdout",
     "output_type": "stream",
     "text": [
      "Test Accuracy: 92.500%\n",
      "\n",
      "Epoch: 191/300\n"
     ]
    },
    {
     "name": "stderr",
     "output_type": "stream",
     "text": [
      "Train Epoch 191: 100%|██████████| 391/391 [00:24<00:00, 15.75it/s, Loss=0.131, Acc=95.504%]\n",
      "Test Epoch 191: 100%|██████████| 100/100 [00:01<00:00, 60.09it/s]\n"
     ]
    },
    {
     "name": "stdout",
     "output_type": "stream",
     "text": [
      "Test Accuracy: 92.930%\n",
      "\n",
      "Epoch: 192/300\n"
     ]
    },
    {
     "name": "stderr",
     "output_type": "stream",
     "text": [
      "Train Epoch 192: 100%|██████████| 391/391 [00:24<00:00, 15.79it/s, Loss=0.130, Acc=95.486%]\n",
      "Test Epoch 192: 100%|██████████| 100/100 [00:01<00:00, 60.40it/s]\n"
     ]
    },
    {
     "name": "stdout",
     "output_type": "stream",
     "text": [
      "Test Accuracy: 93.340%\n",
      "Saving best model with accuracy: 93.340%\n",
      "\n",
      "Epoch: 193/300\n"
     ]
    },
    {
     "name": "stderr",
     "output_type": "stream",
     "text": [
      "Train Epoch 193: 100%|██████████| 391/391 [00:24<00:00, 15.74it/s, Loss=0.128, Acc=95.568%]\n",
      "Test Epoch 193: 100%|██████████| 100/100 [00:01<00:00, 56.57it/s]\n"
     ]
    },
    {
     "name": "stdout",
     "output_type": "stream",
     "text": [
      "Test Accuracy: 93.020%\n",
      "\n",
      "Epoch: 194/300\n"
     ]
    },
    {
     "name": "stderr",
     "output_type": "stream",
     "text": [
      "Train Epoch 194: 100%|██████████| 391/391 [00:24<00:00, 15.93it/s, Loss=0.125, Acc=95.646%]\n",
      "Test Epoch 194: 100%|██████████| 100/100 [00:01<00:00, 60.10it/s]\n"
     ]
    },
    {
     "name": "stdout",
     "output_type": "stream",
     "text": [
      "Test Accuracy: 92.470%\n",
      "\n",
      "Epoch: 195/300\n"
     ]
    },
    {
     "name": "stderr",
     "output_type": "stream",
     "text": [
      "Train Epoch 195: 100%|██████████| 391/391 [00:25<00:00, 15.63it/s, Loss=0.122, Acc=95.734%]\n",
      "Test Epoch 195: 100%|██████████| 100/100 [00:01<00:00, 54.08it/s]\n"
     ]
    },
    {
     "name": "stdout",
     "output_type": "stream",
     "text": [
      "Test Accuracy: 93.170%\n",
      "\n",
      "Epoch: 196/300\n"
     ]
    },
    {
     "name": "stderr",
     "output_type": "stream",
     "text": [
      "Train Epoch 196: 100%|██████████| 391/391 [00:25<00:00, 15.61it/s, Loss=0.128, Acc=95.544%]\n",
      "Test Epoch 196: 100%|██████████| 100/100 [00:01<00:00, 60.95it/s]\n"
     ]
    },
    {
     "name": "stdout",
     "output_type": "stream",
     "text": [
      "Test Accuracy: 92.800%\n",
      "\n",
      "Epoch: 197/300\n"
     ]
    },
    {
     "name": "stderr",
     "output_type": "stream",
     "text": [
      "Train Epoch 197: 100%|██████████| 391/391 [00:24<00:00, 16.06it/s, Loss=0.127, Acc=95.594%]\n",
      "Test Epoch 197: 100%|██████████| 100/100 [00:01<00:00, 53.97it/s]\n"
     ]
    },
    {
     "name": "stdout",
     "output_type": "stream",
     "text": [
      "Test Accuracy: 93.160%\n",
      "\n",
      "Epoch: 198/300\n"
     ]
    },
    {
     "name": "stderr",
     "output_type": "stream",
     "text": [
      "Train Epoch 198: 100%|██████████| 391/391 [00:24<00:00, 15.81it/s, Loss=0.125, Acc=95.694%]\n",
      "Test Epoch 198: 100%|██████████| 100/100 [00:01<00:00, 56.20it/s]\n"
     ]
    },
    {
     "name": "stdout",
     "output_type": "stream",
     "text": [
      "Test Accuracy: 92.850%\n",
      "\n",
      "Epoch: 199/300\n"
     ]
    },
    {
     "name": "stderr",
     "output_type": "stream",
     "text": [
      "Train Epoch 199: 100%|██████████| 391/391 [00:24<00:00, 15.95it/s, Loss=0.124, Acc=95.786%]\n",
      "Test Epoch 199: 100%|██████████| 100/100 [00:01<00:00, 60.61it/s]\n"
     ]
    },
    {
     "name": "stdout",
     "output_type": "stream",
     "text": [
      "Test Accuracy: 93.340%\n",
      "\n",
      "Epoch: 200/300\n"
     ]
    },
    {
     "name": "stderr",
     "output_type": "stream",
     "text": [
      "Train Epoch 200: 100%|██████████| 391/391 [00:24<00:00, 15.69it/s, Loss=0.126, Acc=95.570%]\n",
      "Test Epoch 200: 100%|██████████| 100/100 [00:01<00:00, 58.77it/s]\n"
     ]
    },
    {
     "name": "stdout",
     "output_type": "stream",
     "text": [
      "Test Accuracy: 93.090%\n",
      "\n",
      "Epoch: 201/300\n"
     ]
    },
    {
     "name": "stderr",
     "output_type": "stream",
     "text": [
      "Train Epoch 201: 100%|██████████| 391/391 [00:24<00:00, 15.73it/s, Loss=0.128, Acc=95.526%]\n",
      "Test Epoch 201: 100%|██████████| 100/100 [00:01<00:00, 57.40it/s]\n"
     ]
    },
    {
     "name": "stdout",
     "output_type": "stream",
     "text": [
      "Test Accuracy: 92.960%\n",
      "\n",
      "Epoch: 202/300\n"
     ]
    },
    {
     "name": "stderr",
     "output_type": "stream",
     "text": [
      "Train Epoch 202: 100%|██████████| 391/391 [00:24<00:00, 15.87it/s, Loss=0.125, Acc=95.572%]\n",
      "Test Epoch 202: 100%|██████████| 100/100 [00:01<00:00, 56.75it/s]\n"
     ]
    },
    {
     "name": "stdout",
     "output_type": "stream",
     "text": [
      "Test Accuracy: 92.940%\n",
      "\n",
      "Epoch: 203/300\n"
     ]
    },
    {
     "name": "stderr",
     "output_type": "stream",
     "text": [
      "Train Epoch 203: 100%|██████████| 391/391 [00:25<00:00, 15.61it/s, Loss=0.126, Acc=95.658%]\n",
      "Test Epoch 203: 100%|██████████| 100/100 [00:01<00:00, 61.09it/s]\n"
     ]
    },
    {
     "name": "stdout",
     "output_type": "stream",
     "text": [
      "Test Accuracy: 92.830%\n",
      "\n",
      "Epoch: 204/300\n"
     ]
    },
    {
     "name": "stderr",
     "output_type": "stream",
     "text": [
      "Train Epoch 204: 100%|██████████| 391/391 [00:24<00:00, 15.97it/s, Loss=0.122, Acc=95.714%]\n",
      "Test Epoch 204: 100%|██████████| 100/100 [00:01<00:00, 54.44it/s]\n"
     ]
    },
    {
     "name": "stdout",
     "output_type": "stream",
     "text": [
      "Test Accuracy: 93.180%\n",
      "\n",
      "Epoch: 205/300\n"
     ]
    },
    {
     "name": "stderr",
     "output_type": "stream",
     "text": [
      "Train Epoch 205: 100%|██████████| 391/391 [00:24<00:00, 16.05it/s, Loss=0.119, Acc=95.856%]\n",
      "Test Epoch 205: 100%|██████████| 100/100 [00:01<00:00, 52.48it/s]\n"
     ]
    },
    {
     "name": "stdout",
     "output_type": "stream",
     "text": [
      "Test Accuracy: 92.710%\n",
      "\n",
      "Epoch: 206/300\n"
     ]
    },
    {
     "name": "stderr",
     "output_type": "stream",
     "text": [
      "Train Epoch 206: 100%|██████████| 391/391 [00:24<00:00, 15.72it/s, Loss=0.126, Acc=95.590%]\n",
      "Test Epoch 206: 100%|██████████| 100/100 [00:01<00:00, 61.11it/s]\n"
     ]
    },
    {
     "name": "stdout",
     "output_type": "stream",
     "text": [
      "Test Accuracy: 92.780%\n",
      "\n",
      "Epoch: 207/300\n"
     ]
    },
    {
     "name": "stderr",
     "output_type": "stream",
     "text": [
      "Train Epoch 207: 100%|██████████| 391/391 [00:24<00:00, 16.11it/s, Loss=0.124, Acc=95.744%]\n",
      "Test Epoch 207: 100%|██████████| 100/100 [00:01<00:00, 59.56it/s]\n"
     ]
    },
    {
     "name": "stdout",
     "output_type": "stream",
     "text": [
      "Test Accuracy: 93.030%\n",
      "\n",
      "Epoch: 208/300\n"
     ]
    },
    {
     "name": "stderr",
     "output_type": "stream",
     "text": [
      "Train Epoch 208: 100%|██████████| 391/391 [00:24<00:00, 16.00it/s, Loss=0.119, Acc=95.930%]\n",
      "Test Epoch 208: 100%|██████████| 100/100 [00:01<00:00, 60.13it/s]\n"
     ]
    },
    {
     "name": "stdout",
     "output_type": "stream",
     "text": [
      "Test Accuracy: 93.080%\n",
      "\n",
      "Epoch: 209/300\n"
     ]
    },
    {
     "name": "stderr",
     "output_type": "stream",
     "text": [
      "Train Epoch 209: 100%|██████████| 391/391 [00:24<00:00, 15.84it/s, Loss=0.124, Acc=95.748%]\n",
      "Test Epoch 209: 100%|██████████| 100/100 [00:01<00:00, 61.32it/s]\n"
     ]
    },
    {
     "name": "stdout",
     "output_type": "stream",
     "text": [
      "Test Accuracy: 92.960%\n",
      "\n",
      "Epoch: 210/300\n"
     ]
    },
    {
     "name": "stderr",
     "output_type": "stream",
     "text": [
      "Train Epoch 210: 100%|██████████| 391/391 [00:25<00:00, 15.62it/s, Loss=0.121, Acc=95.778%]\n",
      "Test Epoch 210: 100%|██████████| 100/100 [00:01<00:00, 58.75it/s]\n"
     ]
    },
    {
     "name": "stdout",
     "output_type": "stream",
     "text": [
      "Test Accuracy: 93.300%\n",
      "\n",
      "Epoch: 211/300\n"
     ]
    },
    {
     "name": "stderr",
     "output_type": "stream",
     "text": [
      "Train Epoch 211: 100%|██████████| 391/391 [00:25<00:00, 15.61it/s, Loss=0.121, Acc=95.794%]\n",
      "Test Epoch 211: 100%|██████████| 100/100 [00:01<00:00, 52.14it/s]\n"
     ]
    },
    {
     "name": "stdout",
     "output_type": "stream",
     "text": [
      "Test Accuracy: 93.050%\n",
      "\n",
      "Epoch: 212/300\n"
     ]
    },
    {
     "name": "stderr",
     "output_type": "stream",
     "text": [
      "Train Epoch 212: 100%|██████████| 391/391 [00:24<00:00, 15.91it/s, Loss=0.123, Acc=95.676%]\n",
      "Test Epoch 212: 100%|██████████| 100/100 [00:01<00:00, 53.09it/s]\n"
     ]
    },
    {
     "name": "stdout",
     "output_type": "stream",
     "text": [
      "Test Accuracy: 93.180%\n",
      "\n",
      "Epoch: 213/300\n"
     ]
    },
    {
     "name": "stderr",
     "output_type": "stream",
     "text": [
      "Train Epoch 213: 100%|██████████| 391/391 [00:24<00:00, 15.97it/s, Loss=0.118, Acc=95.884%]\n",
      "Test Epoch 213: 100%|██████████| 100/100 [00:01<00:00, 60.40it/s]\n"
     ]
    },
    {
     "name": "stdout",
     "output_type": "stream",
     "text": [
      "Test Accuracy: 93.000%\n",
      "\n",
      "Epoch: 214/300\n"
     ]
    },
    {
     "name": "stderr",
     "output_type": "stream",
     "text": [
      "Train Epoch 214: 100%|██████████| 391/391 [00:24<00:00, 15.83it/s, Loss=0.123, Acc=95.718%]\n",
      "Test Epoch 214: 100%|██████████| 100/100 [00:01<00:00, 51.88it/s]\n"
     ]
    },
    {
     "name": "stdout",
     "output_type": "stream",
     "text": [
      "Test Accuracy: 92.610%\n",
      "\n",
      "Epoch: 215/300\n"
     ]
    },
    {
     "name": "stderr",
     "output_type": "stream",
     "text": [
      "Train Epoch 215: 100%|██████████| 391/391 [00:24<00:00, 15.89it/s, Loss=0.118, Acc=95.902%]\n",
      "Test Epoch 215: 100%|██████████| 100/100 [00:01<00:00, 55.24it/s]\n"
     ]
    },
    {
     "name": "stdout",
     "output_type": "stream",
     "text": [
      "Test Accuracy: 93.320%\n",
      "\n",
      "Epoch: 216/300\n"
     ]
    },
    {
     "name": "stderr",
     "output_type": "stream",
     "text": [
      "Train Epoch 216: 100%|██████████| 391/391 [00:24<00:00, 15.91it/s, Loss=0.119, Acc=95.870%]\n",
      "Test Epoch 216: 100%|██████████| 100/100 [00:01<00:00, 59.60it/s]\n"
     ]
    },
    {
     "name": "stdout",
     "output_type": "stream",
     "text": [
      "Test Accuracy: 92.970%\n",
      "\n",
      "Epoch: 217/300\n"
     ]
    },
    {
     "name": "stderr",
     "output_type": "stream",
     "text": [
      "Train Epoch 217: 100%|██████████| 391/391 [00:24<00:00, 15.81it/s, Loss=0.122, Acc=95.788%]\n",
      "Test Epoch 217: 100%|██████████| 100/100 [00:01<00:00, 54.40it/s]\n"
     ]
    },
    {
     "name": "stdout",
     "output_type": "stream",
     "text": [
      "Test Accuracy: 93.260%\n",
      "\n",
      "Epoch: 218/300\n"
     ]
    },
    {
     "name": "stderr",
     "output_type": "stream",
     "text": [
      "Train Epoch 218: 100%|██████████| 391/391 [00:24<00:00, 15.97it/s, Loss=0.119, Acc=95.870%]\n",
      "Test Epoch 218: 100%|██████████| 100/100 [00:01<00:00, 61.47it/s]\n"
     ]
    },
    {
     "name": "stdout",
     "output_type": "stream",
     "text": [
      "Test Accuracy: 93.000%\n",
      "\n",
      "Epoch: 219/300\n"
     ]
    },
    {
     "name": "stderr",
     "output_type": "stream",
     "text": [
      "Train Epoch 219: 100%|██████████| 391/391 [00:24<00:00, 15.87it/s, Loss=0.119, Acc=95.900%]\n",
      "Test Epoch 219: 100%|██████████| 100/100 [00:01<00:00, 59.66it/s]\n"
     ]
    },
    {
     "name": "stdout",
     "output_type": "stream",
     "text": [
      "Test Accuracy: 93.080%\n",
      "\n",
      "Epoch: 220/300\n"
     ]
    },
    {
     "name": "stderr",
     "output_type": "stream",
     "text": [
      "Train Epoch 220: 100%|██████████| 391/391 [00:24<00:00, 15.86it/s, Loss=0.120, Acc=95.884%]\n",
      "Test Epoch 220: 100%|██████████| 100/100 [00:01<00:00, 60.37it/s]\n"
     ]
    },
    {
     "name": "stdout",
     "output_type": "stream",
     "text": [
      "Test Accuracy: 93.030%\n",
      "\n",
      "Epoch: 221/300\n"
     ]
    },
    {
     "name": "stderr",
     "output_type": "stream",
     "text": [
      "Train Epoch 221: 100%|██████████| 391/391 [00:24<00:00, 15.98it/s, Loss=0.117, Acc=95.908%]\n",
      "Test Epoch 221: 100%|██████████| 100/100 [00:01<00:00, 52.33it/s]\n"
     ]
    },
    {
     "name": "stdout",
     "output_type": "stream",
     "text": [
      "Test Accuracy: 93.090%\n",
      "\n",
      "Epoch: 222/300\n"
     ]
    },
    {
     "name": "stderr",
     "output_type": "stream",
     "text": [
      "Train Epoch 222: 100%|██████████| 391/391 [00:24<00:00, 15.70it/s, Loss=0.124, Acc=95.744%]\n",
      "Test Epoch 222: 100%|██████████| 100/100 [00:01<00:00, 60.35it/s]\n"
     ]
    },
    {
     "name": "stdout",
     "output_type": "stream",
     "text": [
      "Test Accuracy: 92.870%\n",
      "\n",
      "Epoch: 223/300\n"
     ]
    },
    {
     "name": "stderr",
     "output_type": "stream",
     "text": [
      "Train Epoch 223: 100%|██████████| 391/391 [00:24<00:00, 15.84it/s, Loss=0.120, Acc=95.842%]\n",
      "Test Epoch 223: 100%|██████████| 100/100 [00:01<00:00, 60.59it/s]\n"
     ]
    },
    {
     "name": "stdout",
     "output_type": "stream",
     "text": [
      "Test Accuracy: 93.060%\n",
      "\n",
      "Epoch: 224/300\n"
     ]
    },
    {
     "name": "stderr",
     "output_type": "stream",
     "text": [
      "Train Epoch 224: 100%|██████████| 391/391 [00:24<00:00, 15.77it/s, Loss=0.122, Acc=95.772%]\n",
      "Test Epoch 224: 100%|██████████| 100/100 [00:01<00:00, 53.16it/s]\n"
     ]
    },
    {
     "name": "stdout",
     "output_type": "stream",
     "text": [
      "Test Accuracy: 93.310%\n",
      "\n",
      "Epoch: 225/300\n"
     ]
    },
    {
     "name": "stderr",
     "output_type": "stream",
     "text": [
      "Train Epoch 225: 100%|██████████| 391/391 [00:24<00:00, 16.03it/s, Loss=0.115, Acc=96.050%]\n",
      "Test Epoch 225: 100%|██████████| 100/100 [00:01<00:00, 61.05it/s]\n"
     ]
    },
    {
     "name": "stdout",
     "output_type": "stream",
     "text": [
      "Test Accuracy: 93.330%\n",
      "\n",
      "Epoch: 226/300\n"
     ]
    },
    {
     "name": "stderr",
     "output_type": "stream",
     "text": [
      "Train Epoch 226: 100%|██████████| 391/391 [00:24<00:00, 15.92it/s, Loss=0.116, Acc=95.930%]\n",
      "Test Epoch 226: 100%|██████████| 100/100 [00:01<00:00, 60.15it/s]\n"
     ]
    },
    {
     "name": "stdout",
     "output_type": "stream",
     "text": [
      "Test Accuracy: 92.880%\n",
      "\n",
      "Epoch: 227/300\n"
     ]
    },
    {
     "name": "stderr",
     "output_type": "stream",
     "text": [
      "Train Epoch 227: 100%|██████████| 391/391 [00:24<00:00, 15.86it/s, Loss=0.119, Acc=95.816%]\n",
      "Test Epoch 227: 100%|██████████| 100/100 [00:01<00:00, 61.54it/s]\n"
     ]
    },
    {
     "name": "stdout",
     "output_type": "stream",
     "text": [
      "Test Accuracy: 93.200%\n",
      "\n",
      "Epoch: 228/300\n"
     ]
    },
    {
     "name": "stderr",
     "output_type": "stream",
     "text": [
      "Train Epoch 228: 100%|██████████| 391/391 [00:24<00:00, 15.91it/s, Loss=0.118, Acc=95.994%]\n",
      "Test Epoch 228: 100%|██████████| 100/100 [00:01<00:00, 59.42it/s]\n"
     ]
    },
    {
     "name": "stdout",
     "output_type": "stream",
     "text": [
      "Test Accuracy: 93.040%\n",
      "\n",
      "Epoch: 229/300\n"
     ]
    },
    {
     "name": "stderr",
     "output_type": "stream",
     "text": [
      "Train Epoch 229: 100%|██████████| 391/391 [00:24<00:00, 15.70it/s, Loss=0.120, Acc=95.882%]\n",
      "Test Epoch 229: 100%|██████████| 100/100 [00:01<00:00, 57.84it/s]\n"
     ]
    },
    {
     "name": "stdout",
     "output_type": "stream",
     "text": [
      "Test Accuracy: 92.760%\n",
      "\n",
      "Epoch: 230/300\n"
     ]
    },
    {
     "name": "stderr",
     "output_type": "stream",
     "text": [
      "Train Epoch 230: 100%|██████████| 391/391 [00:25<00:00, 15.50it/s, Loss=0.118, Acc=95.920%]\n",
      "Test Epoch 230: 100%|██████████| 100/100 [00:01<00:00, 60.11it/s]\n"
     ]
    },
    {
     "name": "stdout",
     "output_type": "stream",
     "text": [
      "Test Accuracy: 93.510%\n",
      "Saving best model with accuracy: 93.510%\n",
      "\n",
      "Epoch: 231/300\n"
     ]
    },
    {
     "name": "stderr",
     "output_type": "stream",
     "text": [
      "Train Epoch 231: 100%|██████████| 391/391 [00:24<00:00, 15.93it/s, Loss=0.116, Acc=96.052%]\n",
      "Test Epoch 231: 100%|██████████| 100/100 [00:01<00:00, 60.63it/s]\n"
     ]
    },
    {
     "name": "stdout",
     "output_type": "stream",
     "text": [
      "Test Accuracy: 92.990%\n",
      "\n",
      "Epoch: 232/300\n"
     ]
    },
    {
     "name": "stderr",
     "output_type": "stream",
     "text": [
      "Train Epoch 232: 100%|██████████| 391/391 [00:24<00:00, 15.86it/s, Loss=0.115, Acc=96.004%]\n",
      "Test Epoch 232: 100%|██████████| 100/100 [00:01<00:00, 52.51it/s]\n"
     ]
    },
    {
     "name": "stdout",
     "output_type": "stream",
     "text": [
      "Test Accuracy: 93.180%\n",
      "\n",
      "Epoch: 233/300\n"
     ]
    },
    {
     "name": "stderr",
     "output_type": "stream",
     "text": [
      "Train Epoch 233: 100%|██████████| 391/391 [00:24<00:00, 16.13it/s, Loss=0.118, Acc=95.878%]\n",
      "Test Epoch 233: 100%|██████████| 100/100 [00:01<00:00, 53.64it/s]\n"
     ]
    },
    {
     "name": "stdout",
     "output_type": "stream",
     "text": [
      "Test Accuracy: 93.180%\n",
      "\n",
      "Epoch: 234/300\n"
     ]
    },
    {
     "name": "stderr",
     "output_type": "stream",
     "text": [
      "Train Epoch 234: 100%|██████████| 391/391 [00:24<00:00, 15.92it/s, Loss=0.116, Acc=95.920%]\n",
      "Test Epoch 234: 100%|██████████| 100/100 [00:01<00:00, 61.61it/s]\n"
     ]
    },
    {
     "name": "stdout",
     "output_type": "stream",
     "text": [
      "Test Accuracy: 93.280%\n",
      "\n",
      "Epoch: 235/300\n"
     ]
    },
    {
     "name": "stderr",
     "output_type": "stream",
     "text": [
      "Train Epoch 235: 100%|██████████| 391/391 [00:24<00:00, 15.70it/s, Loss=0.114, Acc=96.098%]\n",
      "Test Epoch 235: 100%|██████████| 100/100 [00:01<00:00, 62.20it/s]\n"
     ]
    },
    {
     "name": "stdout",
     "output_type": "stream",
     "text": [
      "Test Accuracy: 93.080%\n",
      "\n",
      "Epoch: 236/300\n"
     ]
    },
    {
     "name": "stderr",
     "output_type": "stream",
     "text": [
      "Train Epoch 236: 100%|██████████| 391/391 [00:24<00:00, 15.90it/s, Loss=0.115, Acc=95.966%]\n",
      "Test Epoch 236: 100%|██████████| 100/100 [00:01<00:00, 59.56it/s]\n"
     ]
    },
    {
     "name": "stdout",
     "output_type": "stream",
     "text": [
      "Test Accuracy: 93.050%\n",
      "\n",
      "Epoch: 237/300\n"
     ]
    },
    {
     "name": "stderr",
     "output_type": "stream",
     "text": [
      "Train Epoch 237: 100%|██████████| 391/391 [00:24<00:00, 15.73it/s, Loss=0.116, Acc=95.940%]\n",
      "Test Epoch 237: 100%|██████████| 100/100 [00:01<00:00, 60.13it/s]\n"
     ]
    },
    {
     "name": "stdout",
     "output_type": "stream",
     "text": [
      "Test Accuracy: 93.240%\n",
      "\n",
      "Epoch: 238/300\n"
     ]
    },
    {
     "name": "stderr",
     "output_type": "stream",
     "text": [
      "Train Epoch 238: 100%|██████████| 391/391 [00:24<00:00, 15.69it/s, Loss=0.114, Acc=96.092%]\n",
      "Test Epoch 238: 100%|██████████| 100/100 [00:01<00:00, 60.58it/s]\n"
     ]
    },
    {
     "name": "stdout",
     "output_type": "stream",
     "text": [
      "Test Accuracy: 93.080%\n",
      "\n",
      "Epoch: 239/300\n"
     ]
    },
    {
     "name": "stderr",
     "output_type": "stream",
     "text": [
      "Train Epoch 239: 100%|██████████| 391/391 [00:24<00:00, 15.95it/s, Loss=0.116, Acc=95.936%]\n",
      "Test Epoch 239: 100%|██████████| 100/100 [00:01<00:00, 52.11it/s]\n"
     ]
    },
    {
     "name": "stdout",
     "output_type": "stream",
     "text": [
      "Test Accuracy: 93.310%\n",
      "\n",
      "Epoch: 240/300\n"
     ]
    },
    {
     "name": "stderr",
     "output_type": "stream",
     "text": [
      "Train Epoch 240: 100%|██████████| 391/391 [00:24<00:00, 15.88it/s, Loss=0.114, Acc=96.078%]\n",
      "Test Epoch 240: 100%|██████████| 100/100 [00:01<00:00, 60.31it/s]\n"
     ]
    },
    {
     "name": "stdout",
     "output_type": "stream",
     "text": [
      "Test Accuracy: 93.150%\n",
      "\n",
      "Epoch: 241/300\n"
     ]
    },
    {
     "name": "stderr",
     "output_type": "stream",
     "text": [
      "Train Epoch 241: 100%|██████████| 391/391 [00:24<00:00, 16.04it/s, Loss=0.112, Acc=96.174%]\n",
      "Test Epoch 241: 100%|██████████| 100/100 [00:01<00:00, 61.05it/s]\n"
     ]
    },
    {
     "name": "stdout",
     "output_type": "stream",
     "text": [
      "Test Accuracy: 93.010%\n",
      "\n",
      "Epoch: 242/300\n"
     ]
    },
    {
     "name": "stderr",
     "output_type": "stream",
     "text": [
      "Train Epoch 242: 100%|██████████| 391/391 [00:24<00:00, 15.66it/s, Loss=0.112, Acc=96.216%]\n",
      "Test Epoch 242: 100%|██████████| 100/100 [00:01<00:00, 60.98it/s]\n"
     ]
    },
    {
     "name": "stdout",
     "output_type": "stream",
     "text": [
      "Test Accuracy: 93.000%\n",
      "\n",
      "Epoch: 243/300\n"
     ]
    },
    {
     "name": "stderr",
     "output_type": "stream",
     "text": [
      "Train Epoch 243: 100%|██████████| 391/391 [00:24<00:00, 16.03it/s, Loss=0.116, Acc=96.022%]\n",
      "Test Epoch 243: 100%|██████████| 100/100 [00:01<00:00, 62.32it/s]\n"
     ]
    },
    {
     "name": "stdout",
     "output_type": "stream",
     "text": [
      "Test Accuracy: 93.250%\n",
      "\n",
      "Epoch: 244/300\n"
     ]
    },
    {
     "name": "stderr",
     "output_type": "stream",
     "text": [
      "Train Epoch 244: 100%|██████████| 391/391 [00:24<00:00, 16.02it/s, Loss=0.112, Acc=96.060%]\n",
      "Test Epoch 244: 100%|██████████| 100/100 [00:01<00:00, 55.45it/s]\n"
     ]
    },
    {
     "name": "stdout",
     "output_type": "stream",
     "text": [
      "Test Accuracy: 93.110%\n",
      "\n",
      "Epoch: 245/300\n"
     ]
    },
    {
     "name": "stderr",
     "output_type": "stream",
     "text": [
      "Train Epoch 245: 100%|██████████| 391/391 [00:24<00:00, 15.86it/s, Loss=0.114, Acc=96.026%]\n",
      "Test Epoch 245: 100%|██████████| 100/100 [00:01<00:00, 52.31it/s]\n"
     ]
    },
    {
     "name": "stdout",
     "output_type": "stream",
     "text": [
      "Test Accuracy: 93.140%\n",
      "\n",
      "Epoch: 246/300\n"
     ]
    },
    {
     "name": "stderr",
     "output_type": "stream",
     "text": [
      "Train Epoch 246: 100%|██████████| 391/391 [00:24<00:00, 15.68it/s, Loss=0.117, Acc=95.936%]\n",
      "Test Epoch 246: 100%|██████████| 100/100 [00:01<00:00, 53.33it/s]\n"
     ]
    },
    {
     "name": "stdout",
     "output_type": "stream",
     "text": [
      "Test Accuracy: 93.250%\n",
      "\n",
      "Epoch: 247/300\n"
     ]
    },
    {
     "name": "stderr",
     "output_type": "stream",
     "text": [
      "Train Epoch 247: 100%|██████████| 391/391 [00:24<00:00, 16.04it/s, Loss=0.112, Acc=96.132%]\n",
      "Test Epoch 247: 100%|██████████| 100/100 [00:01<00:00, 60.04it/s]\n"
     ]
    },
    {
     "name": "stdout",
     "output_type": "stream",
     "text": [
      "Test Accuracy: 93.120%\n",
      "\n",
      "Epoch: 248/300\n"
     ]
    },
    {
     "name": "stderr",
     "output_type": "stream",
     "text": [
      "Train Epoch 248: 100%|██████████| 391/391 [00:24<00:00, 15.83it/s, Loss=0.115, Acc=95.968%]\n",
      "Test Epoch 248: 100%|██████████| 100/100 [00:01<00:00, 59.20it/s]\n"
     ]
    },
    {
     "name": "stdout",
     "output_type": "stream",
     "text": [
      "Test Accuracy: 93.400%\n",
      "\n",
      "Epoch: 249/300\n"
     ]
    },
    {
     "name": "stderr",
     "output_type": "stream",
     "text": [
      "Train Epoch 249: 100%|██████████| 391/391 [00:24<00:00, 15.89it/s, Loss=0.114, Acc=95.994%]\n",
      "Test Epoch 249: 100%|██████████| 100/100 [00:01<00:00, 60.18it/s]\n"
     ]
    },
    {
     "name": "stdout",
     "output_type": "stream",
     "text": [
      "Test Accuracy: 93.270%\n",
      "\n",
      "Epoch: 250/300\n"
     ]
    },
    {
     "name": "stderr",
     "output_type": "stream",
     "text": [
      "Train Epoch 250: 100%|██████████| 391/391 [00:24<00:00, 15.80it/s, Loss=0.110, Acc=96.236%]\n",
      "Test Epoch 250: 100%|██████████| 100/100 [00:01<00:00, 61.63it/s]\n"
     ]
    },
    {
     "name": "stdout",
     "output_type": "stream",
     "text": [
      "Test Accuracy: 93.030%\n",
      "\n",
      "Epoch: 251/300\n"
     ]
    },
    {
     "name": "stderr",
     "output_type": "stream",
     "text": [
      "Train Epoch 251: 100%|██████████| 391/391 [00:24<00:00, 15.94it/s, Loss=0.115, Acc=95.990%]\n",
      "Test Epoch 251: 100%|██████████| 100/100 [00:01<00:00, 53.59it/s]\n"
     ]
    },
    {
     "name": "stdout",
     "output_type": "stream",
     "text": [
      "Test Accuracy: 93.190%\n",
      "\n",
      "Epoch: 252/300\n"
     ]
    },
    {
     "name": "stderr",
     "output_type": "stream",
     "text": [
      "Train Epoch 252: 100%|██████████| 391/391 [00:24<00:00, 15.86it/s, Loss=0.108, Acc=96.246%]\n",
      "Test Epoch 252: 100%|██████████| 100/100 [00:01<00:00, 57.09it/s]\n"
     ]
    },
    {
     "name": "stdout",
     "output_type": "stream",
     "text": [
      "Test Accuracy: 93.370%\n",
      "\n",
      "Epoch: 253/300\n"
     ]
    },
    {
     "name": "stderr",
     "output_type": "stream",
     "text": [
      "Train Epoch 253: 100%|██████████| 391/391 [00:24<00:00, 15.83it/s, Loss=0.111, Acc=96.082%]\n",
      "Test Epoch 253: 100%|██████████| 100/100 [00:01<00:00, 61.02it/s]\n"
     ]
    },
    {
     "name": "stdout",
     "output_type": "stream",
     "text": [
      "Test Accuracy: 93.060%\n",
      "\n",
      "Epoch: 254/300\n"
     ]
    },
    {
     "name": "stderr",
     "output_type": "stream",
     "text": [
      "Train Epoch 254: 100%|██████████| 391/391 [00:24<00:00, 16.06it/s, Loss=0.112, Acc=96.098%]\n",
      "Test Epoch 254: 100%|██████████| 100/100 [00:01<00:00, 59.64it/s]\n"
     ]
    },
    {
     "name": "stdout",
     "output_type": "stream",
     "text": [
      "Test Accuracy: 92.780%\n",
      "\n",
      "Epoch: 255/300\n"
     ]
    },
    {
     "name": "stderr",
     "output_type": "stream",
     "text": [
      "Train Epoch 255: 100%|██████████| 391/391 [00:24<00:00, 15.79it/s, Loss=0.109, Acc=96.242%]\n",
      "Test Epoch 255: 100%|██████████| 100/100 [00:01<00:00, 53.34it/s]\n"
     ]
    },
    {
     "name": "stdout",
     "output_type": "stream",
     "text": [
      "Test Accuracy: 93.170%\n",
      "\n",
      "Epoch: 256/300\n"
     ]
    },
    {
     "name": "stderr",
     "output_type": "stream",
     "text": [
      "Train Epoch 256: 100%|██████████| 391/391 [00:24<00:00, 16.09it/s, Loss=0.111, Acc=96.088%]\n",
      "Test Epoch 256: 100%|██████████| 100/100 [00:01<00:00, 60.51it/s]\n"
     ]
    },
    {
     "name": "stdout",
     "output_type": "stream",
     "text": [
      "Test Accuracy: 93.440%\n",
      "\n",
      "Epoch: 257/300\n"
     ]
    },
    {
     "name": "stderr",
     "output_type": "stream",
     "text": [
      "Train Epoch 257: 100%|██████████| 391/391 [00:24<00:00, 15.96it/s, Loss=0.111, Acc=96.198%]\n",
      "Test Epoch 257: 100%|██████████| 100/100 [00:01<00:00, 56.97it/s]\n"
     ]
    },
    {
     "name": "stdout",
     "output_type": "stream",
     "text": [
      "Test Accuracy: 93.250%\n",
      "\n",
      "Epoch: 258/300\n"
     ]
    },
    {
     "name": "stderr",
     "output_type": "stream",
     "text": [
      "Train Epoch 258: 100%|██████████| 391/391 [00:24<00:00, 15.66it/s, Loss=0.115, Acc=96.108%]\n",
      "Test Epoch 258: 100%|██████████| 100/100 [00:01<00:00, 52.16it/s]\n"
     ]
    },
    {
     "name": "stdout",
     "output_type": "stream",
     "text": [
      "Test Accuracy: 92.840%\n",
      "\n",
      "Epoch: 259/300\n"
     ]
    },
    {
     "name": "stderr",
     "output_type": "stream",
     "text": [
      "Train Epoch 259: 100%|██████████| 391/391 [00:25<00:00, 15.52it/s, Loss=0.111, Acc=96.154%]\n",
      "Test Epoch 259: 100%|██████████| 100/100 [00:01<00:00, 58.33it/s]\n"
     ]
    },
    {
     "name": "stdout",
     "output_type": "stream",
     "text": [
      "Test Accuracy: 93.320%\n",
      "\n",
      "Epoch: 260/300\n"
     ]
    },
    {
     "name": "stderr",
     "output_type": "stream",
     "text": [
      "Train Epoch 260: 100%|██████████| 391/391 [00:24<00:00, 15.88it/s, Loss=0.112, Acc=96.076%]\n",
      "Test Epoch 260: 100%|██████████| 100/100 [00:01<00:00, 53.33it/s]\n"
     ]
    },
    {
     "name": "stdout",
     "output_type": "stream",
     "text": [
      "Test Accuracy: 92.820%\n",
      "\n",
      "Epoch: 261/300\n"
     ]
    },
    {
     "name": "stderr",
     "output_type": "stream",
     "text": [
      "Train Epoch 261: 100%|██████████| 391/391 [00:24<00:00, 15.90it/s, Loss=0.109, Acc=96.146%]\n",
      "Test Epoch 261: 100%|██████████| 100/100 [00:01<00:00, 60.90it/s]\n"
     ]
    },
    {
     "name": "stdout",
     "output_type": "stream",
     "text": [
      "Test Accuracy: 93.380%\n",
      "\n",
      "Epoch: 262/300\n"
     ]
    },
    {
     "name": "stderr",
     "output_type": "stream",
     "text": [
      "Train Epoch 262: 100%|██████████| 391/391 [00:24<00:00, 15.90it/s, Loss=0.109, Acc=96.282%]\n",
      "Test Epoch 262: 100%|██████████| 100/100 [00:01<00:00, 60.63it/s]\n"
     ]
    },
    {
     "name": "stdout",
     "output_type": "stream",
     "text": [
      "Test Accuracy: 93.150%\n",
      "\n",
      "Epoch: 263/300\n"
     ]
    },
    {
     "name": "stderr",
     "output_type": "stream",
     "text": [
      "Train Epoch 263: 100%|██████████| 391/391 [00:24<00:00, 15.83it/s, Loss=0.107, Acc=96.284%]\n",
      "Test Epoch 263: 100%|██████████| 100/100 [00:01<00:00, 56.69it/s]\n"
     ]
    },
    {
     "name": "stdout",
     "output_type": "stream",
     "text": [
      "Test Accuracy: 93.380%\n",
      "\n",
      "Epoch: 264/300\n"
     ]
    },
    {
     "name": "stderr",
     "output_type": "stream",
     "text": [
      "Train Epoch 264: 100%|██████████| 391/391 [00:24<00:00, 15.90it/s, Loss=0.110, Acc=96.150%]\n",
      "Test Epoch 264: 100%|██████████| 100/100 [00:01<00:00, 60.00it/s]\n"
     ]
    },
    {
     "name": "stdout",
     "output_type": "stream",
     "text": [
      "Test Accuracy: 93.180%\n",
      "\n",
      "Epoch: 265/300\n"
     ]
    },
    {
     "name": "stderr",
     "output_type": "stream",
     "text": [
      "Train Epoch 265: 100%|██████████| 391/391 [00:24<00:00, 16.18it/s, Loss=0.112, Acc=96.104%]\n",
      "Test Epoch 265: 100%|██████████| 100/100 [00:01<00:00, 61.27it/s]\n"
     ]
    },
    {
     "name": "stdout",
     "output_type": "stream",
     "text": [
      "Test Accuracy: 93.410%\n",
      "\n",
      "Epoch: 266/300\n"
     ]
    },
    {
     "name": "stderr",
     "output_type": "stream",
     "text": [
      "Train Epoch 266: 100%|██████████| 391/391 [00:24<00:00, 16.02it/s, Loss=0.107, Acc=96.254%]\n",
      "Test Epoch 266: 100%|██████████| 100/100 [00:01<00:00, 55.73it/s]\n"
     ]
    },
    {
     "name": "stdout",
     "output_type": "stream",
     "text": [
      "Test Accuracy: 93.260%\n",
      "\n",
      "Epoch: 267/300\n"
     ]
    },
    {
     "name": "stderr",
     "output_type": "stream",
     "text": [
      "Train Epoch 267: 100%|██████████| 391/391 [00:24<00:00, 15.96it/s, Loss=0.105, Acc=96.368%]\n",
      "Test Epoch 267: 100%|██████████| 100/100 [00:01<00:00, 59.65it/s]\n"
     ]
    },
    {
     "name": "stdout",
     "output_type": "stream",
     "text": [
      "Test Accuracy: 93.410%\n",
      "\n",
      "Epoch: 268/300\n"
     ]
    },
    {
     "name": "stderr",
     "output_type": "stream",
     "text": [
      "Train Epoch 268: 100%|██████████| 391/391 [00:24<00:00, 15.77it/s, Loss=0.107, Acc=96.280%]\n",
      "Test Epoch 268: 100%|██████████| 100/100 [00:01<00:00, 53.92it/s]\n"
     ]
    },
    {
     "name": "stdout",
     "output_type": "stream",
     "text": [
      "Test Accuracy: 93.090%\n",
      "\n",
      "Epoch: 269/300\n"
     ]
    },
    {
     "name": "stderr",
     "output_type": "stream",
     "text": [
      "Train Epoch 269: 100%|██████████| 391/391 [00:24<00:00, 15.94it/s, Loss=0.110, Acc=96.162%]\n",
      "Test Epoch 269: 100%|██████████| 100/100 [00:01<00:00, 60.88it/s]\n"
     ]
    },
    {
     "name": "stdout",
     "output_type": "stream",
     "text": [
      "Test Accuracy: 93.510%\n",
      "\n",
      "Epoch: 270/300\n"
     ]
    },
    {
     "name": "stderr",
     "output_type": "stream",
     "text": [
      "Train Epoch 270: 100%|██████████| 391/391 [00:24<00:00, 15.98it/s, Loss=0.110, Acc=96.240%]\n",
      "Test Epoch 270: 100%|██████████| 100/100 [00:01<00:00, 51.14it/s]\n"
     ]
    },
    {
     "name": "stdout",
     "output_type": "stream",
     "text": [
      "Test Accuracy: 93.200%\n",
      "\n",
      "Epoch: 271/300\n"
     ]
    },
    {
     "name": "stderr",
     "output_type": "stream",
     "text": [
      "Train Epoch 271: 100%|██████████| 391/391 [00:24<00:00, 15.79it/s, Loss=0.107, Acc=96.282%]\n",
      "Test Epoch 271: 100%|██████████| 100/100 [00:01<00:00, 54.34it/s]\n"
     ]
    },
    {
     "name": "stdout",
     "output_type": "stream",
     "text": [
      "Test Accuracy: 93.760%\n",
      "Saving best model with accuracy: 93.760%\n",
      "\n",
      "Epoch: 272/300\n"
     ]
    },
    {
     "name": "stderr",
     "output_type": "stream",
     "text": [
      "Train Epoch 272: 100%|██████████| 391/391 [00:24<00:00, 16.08it/s, Loss=0.107, Acc=96.264%]\n",
      "Test Epoch 272: 100%|██████████| 100/100 [00:01<00:00, 61.03it/s]\n"
     ]
    },
    {
     "name": "stdout",
     "output_type": "stream",
     "text": [
      "Test Accuracy: 93.470%\n",
      "\n",
      "Epoch: 273/300\n"
     ]
    },
    {
     "name": "stderr",
     "output_type": "stream",
     "text": [
      "Train Epoch 273: 100%|██████████| 391/391 [00:24<00:00, 15.89it/s, Loss=0.105, Acc=96.366%]\n",
      "Test Epoch 273: 100%|██████████| 100/100 [00:01<00:00, 60.96it/s]\n"
     ]
    },
    {
     "name": "stdout",
     "output_type": "stream",
     "text": [
      "Test Accuracy: 93.120%\n",
      "\n",
      "Epoch: 274/300\n"
     ]
    },
    {
     "name": "stderr",
     "output_type": "stream",
     "text": [
      "Train Epoch 274: 100%|██████████| 391/391 [00:24<00:00, 15.90it/s, Loss=0.108, Acc=96.296%]\n",
      "Test Epoch 274: 100%|██████████| 100/100 [00:01<00:00, 53.11it/s]\n"
     ]
    },
    {
     "name": "stdout",
     "output_type": "stream",
     "text": [
      "Test Accuracy: 93.500%\n",
      "\n",
      "Epoch: 275/300\n"
     ]
    },
    {
     "name": "stderr",
     "output_type": "stream",
     "text": [
      "Train Epoch 275: 100%|██████████| 391/391 [00:24<00:00, 15.97it/s, Loss=0.106, Acc=96.414%]\n",
      "Test Epoch 275: 100%|██████████| 100/100 [00:01<00:00, 62.03it/s]\n"
     ]
    },
    {
     "name": "stdout",
     "output_type": "stream",
     "text": [
      "Test Accuracy: 93.040%\n",
      "\n",
      "Epoch: 276/300\n"
     ]
    },
    {
     "name": "stderr",
     "output_type": "stream",
     "text": [
      "Train Epoch 276: 100%|██████████| 391/391 [00:24<00:00, 15.83it/s, Loss=0.106, Acc=96.266%]\n",
      "Test Epoch 276: 100%|██████████| 100/100 [00:01<00:00, 60.42it/s]\n"
     ]
    },
    {
     "name": "stdout",
     "output_type": "stream",
     "text": [
      "Test Accuracy: 93.390%\n",
      "\n",
      "Epoch: 277/300\n"
     ]
    },
    {
     "name": "stderr",
     "output_type": "stream",
     "text": [
      "Train Epoch 277: 100%|██████████| 391/391 [00:24<00:00, 15.84it/s, Loss=0.109, Acc=96.186%]\n",
      "Test Epoch 277: 100%|██████████| 100/100 [00:01<00:00, 52.75it/s]\n"
     ]
    },
    {
     "name": "stdout",
     "output_type": "stream",
     "text": [
      "Test Accuracy: 93.400%\n",
      "\n",
      "Epoch: 278/300\n"
     ]
    },
    {
     "name": "stderr",
     "output_type": "stream",
     "text": [
      "Train Epoch 278: 100%|██████████| 391/391 [00:24<00:00, 15.88it/s, Loss=0.102, Acc=96.478%]\n",
      "Test Epoch 278: 100%|██████████| 100/100 [00:01<00:00, 60.99it/s]\n"
     ]
    },
    {
     "name": "stdout",
     "output_type": "stream",
     "text": [
      "Test Accuracy: 92.970%\n",
      "\n",
      "Epoch: 279/300\n"
     ]
    },
    {
     "name": "stderr",
     "output_type": "stream",
     "text": [
      "Train Epoch 279: 100%|██████████| 391/391 [00:24<00:00, 15.82it/s, Loss=0.108, Acc=96.276%]\n",
      "Test Epoch 279: 100%|██████████| 100/100 [00:01<00:00, 61.33it/s]\n"
     ]
    },
    {
     "name": "stdout",
     "output_type": "stream",
     "text": [
      "Test Accuracy: 93.330%\n",
      "\n",
      "Epoch: 280/300\n"
     ]
    },
    {
     "name": "stderr",
     "output_type": "stream",
     "text": [
      "Train Epoch 280: 100%|██████████| 391/391 [00:24<00:00, 15.98it/s, Loss=0.109, Acc=96.336%]\n",
      "Test Epoch 280: 100%|██████████| 100/100 [00:01<00:00, 58.42it/s]\n"
     ]
    },
    {
     "name": "stdout",
     "output_type": "stream",
     "text": [
      "Test Accuracy: 93.420%\n",
      "\n",
      "Epoch: 281/300\n"
     ]
    },
    {
     "name": "stderr",
     "output_type": "stream",
     "text": [
      "Train Epoch 281: 100%|██████████| 391/391 [00:24<00:00, 15.89it/s, Loss=0.106, Acc=96.354%]\n",
      "Test Epoch 281: 100%|██████████| 100/100 [00:01<00:00, 61.00it/s]\n"
     ]
    },
    {
     "name": "stdout",
     "output_type": "stream",
     "text": [
      "Test Accuracy: 93.530%\n",
      "\n",
      "Epoch: 282/300\n"
     ]
    },
    {
     "name": "stderr",
     "output_type": "stream",
     "text": [
      "Train Epoch 282: 100%|██████████| 391/391 [00:24<00:00, 16.08it/s, Loss=0.108, Acc=96.208%]\n",
      "Test Epoch 282: 100%|██████████| 100/100 [00:01<00:00, 57.37it/s]\n"
     ]
    },
    {
     "name": "stdout",
     "output_type": "stream",
     "text": [
      "Test Accuracy: 93.330%\n",
      "\n",
      "Epoch: 283/300\n"
     ]
    },
    {
     "name": "stderr",
     "output_type": "stream",
     "text": [
      "Train Epoch 283: 100%|██████████| 391/391 [00:24<00:00, 15.97it/s, Loss=0.109, Acc=96.138%]\n",
      "Test Epoch 283: 100%|██████████| 100/100 [00:01<00:00, 60.74it/s]\n"
     ]
    },
    {
     "name": "stdout",
     "output_type": "stream",
     "text": [
      "Test Accuracy: 93.410%\n",
      "\n",
      "Epoch: 284/300\n"
     ]
    },
    {
     "name": "stderr",
     "output_type": "stream",
     "text": [
      "Train Epoch 284: 100%|██████████| 391/391 [00:25<00:00, 15.56it/s, Loss=0.105, Acc=96.382%]\n",
      "Test Epoch 284: 100%|██████████| 100/100 [00:01<00:00, 56.19it/s]\n"
     ]
    },
    {
     "name": "stdout",
     "output_type": "stream",
     "text": [
      "Test Accuracy: 93.470%\n",
      "\n",
      "Epoch: 285/300\n"
     ]
    },
    {
     "name": "stderr",
     "output_type": "stream",
     "text": [
      "Train Epoch 285: 100%|██████████| 391/391 [00:24<00:00, 15.71it/s, Loss=0.109, Acc=96.238%]\n",
      "Test Epoch 285: 100%|██████████| 100/100 [00:01<00:00, 59.54it/s]\n"
     ]
    },
    {
     "name": "stdout",
     "output_type": "stream",
     "text": [
      "Test Accuracy: 93.340%\n",
      "\n",
      "Epoch: 286/300\n"
     ]
    },
    {
     "name": "stderr",
     "output_type": "stream",
     "text": [
      "Train Epoch 286: 100%|██████████| 391/391 [00:24<00:00, 15.65it/s, Loss=0.102, Acc=96.452%]\n",
      "Test Epoch 286: 100%|██████████| 100/100 [00:01<00:00, 57.52it/s]\n"
     ]
    },
    {
     "name": "stdout",
     "output_type": "stream",
     "text": [
      "Test Accuracy: 93.180%\n",
      "\n",
      "Epoch: 287/300\n"
     ]
    },
    {
     "name": "stderr",
     "output_type": "stream",
     "text": [
      "Train Epoch 287: 100%|██████████| 391/391 [00:24<00:00, 15.72it/s, Loss=0.106, Acc=96.328%]\n",
      "Test Epoch 287: 100%|██████████| 100/100 [00:01<00:00, 58.10it/s]\n"
     ]
    },
    {
     "name": "stdout",
     "output_type": "stream",
     "text": [
      "Test Accuracy: 93.530%\n",
      "\n",
      "Epoch: 288/300\n"
     ]
    },
    {
     "name": "stderr",
     "output_type": "stream",
     "text": [
      "Train Epoch 288: 100%|██████████| 391/391 [00:24<00:00, 15.68it/s, Loss=0.107, Acc=96.300%]\n",
      "Test Epoch 288: 100%|██████████| 100/100 [00:01<00:00, 60.51it/s]\n"
     ]
    },
    {
     "name": "stdout",
     "output_type": "stream",
     "text": [
      "Test Accuracy: 93.340%\n",
      "\n",
      "Epoch: 289/300\n"
     ]
    },
    {
     "name": "stderr",
     "output_type": "stream",
     "text": [
      "Train Epoch 289: 100%|██████████| 391/391 [00:24<00:00, 15.87it/s, Loss=0.107, Acc=96.354%]\n",
      "Test Epoch 289: 100%|██████████| 100/100 [00:01<00:00, 56.06it/s]\n"
     ]
    },
    {
     "name": "stdout",
     "output_type": "stream",
     "text": [
      "Test Accuracy: 93.600%\n",
      "\n",
      "Epoch: 290/300\n"
     ]
    },
    {
     "name": "stderr",
     "output_type": "stream",
     "text": [
      "Train Epoch 290: 100%|██████████| 391/391 [00:24<00:00, 15.72it/s, Loss=0.105, Acc=96.366%]\n",
      "Test Epoch 290: 100%|██████████| 100/100 [00:01<00:00, 58.81it/s]\n"
     ]
    },
    {
     "name": "stdout",
     "output_type": "stream",
     "text": [
      "Test Accuracy: 92.980%\n",
      "\n",
      "Epoch: 291/300\n"
     ]
    },
    {
     "name": "stderr",
     "output_type": "stream",
     "text": [
      "Train Epoch 291: 100%|██████████| 391/391 [00:24<00:00, 15.89it/s, Loss=0.107, Acc=96.346%]\n",
      "Test Epoch 291: 100%|██████████| 100/100 [00:01<00:00, 61.25it/s]\n"
     ]
    },
    {
     "name": "stdout",
     "output_type": "stream",
     "text": [
      "Test Accuracy: 93.250%\n",
      "\n",
      "Epoch: 292/300\n"
     ]
    },
    {
     "name": "stderr",
     "output_type": "stream",
     "text": [
      "Train Epoch 292: 100%|██████████| 391/391 [00:24<00:00, 15.95it/s, Loss=0.102, Acc=96.386%]\n",
      "Test Epoch 292: 100%|██████████| 100/100 [00:01<00:00, 61.56it/s]\n"
     ]
    },
    {
     "name": "stdout",
     "output_type": "stream",
     "text": [
      "Test Accuracy: 93.150%\n",
      "\n",
      "Epoch: 293/300\n"
     ]
    },
    {
     "name": "stderr",
     "output_type": "stream",
     "text": [
      "Train Epoch 293: 100%|██████████| 391/391 [00:25<00:00, 15.63it/s, Loss=0.102, Acc=96.390%]\n",
      "Test Epoch 293: 100%|██████████| 100/100 [00:01<00:00, 61.07it/s]\n"
     ]
    },
    {
     "name": "stdout",
     "output_type": "stream",
     "text": [
      "Test Accuracy: 93.130%\n",
      "\n",
      "Epoch: 294/300\n"
     ]
    },
    {
     "name": "stderr",
     "output_type": "stream",
     "text": [
      "Train Epoch 294: 100%|██████████| 391/391 [00:24<00:00, 15.82it/s, Loss=0.108, Acc=96.364%]\n",
      "Test Epoch 294: 100%|██████████| 100/100 [00:01<00:00, 59.94it/s]\n"
     ]
    },
    {
     "name": "stdout",
     "output_type": "stream",
     "text": [
      "Test Accuracy: 93.510%\n",
      "\n",
      "Epoch: 295/300\n"
     ]
    },
    {
     "name": "stderr",
     "output_type": "stream",
     "text": [
      "Train Epoch 295: 100%|██████████| 391/391 [00:24<00:00, 16.09it/s, Loss=0.103, Acc=96.426%]\n",
      "Test Epoch 295: 100%|██████████| 100/100 [00:01<00:00, 60.12it/s]\n"
     ]
    },
    {
     "name": "stdout",
     "output_type": "stream",
     "text": [
      "Test Accuracy: 93.240%\n",
      "\n",
      "Epoch: 296/300\n"
     ]
    },
    {
     "name": "stderr",
     "output_type": "stream",
     "text": [
      "Train Epoch 296: 100%|██████████| 391/391 [00:24<00:00, 15.85it/s, Loss=0.102, Acc=96.386%]\n",
      "Test Epoch 296: 100%|██████████| 100/100 [00:01<00:00, 60.14it/s]\n"
     ]
    },
    {
     "name": "stdout",
     "output_type": "stream",
     "text": [
      "Test Accuracy: 92.980%\n",
      "\n",
      "Epoch: 297/300\n"
     ]
    },
    {
     "name": "stderr",
     "output_type": "stream",
     "text": [
      "Train Epoch 297: 100%|██████████| 391/391 [00:24<00:00, 15.81it/s, Loss=0.104, Acc=96.362%]\n",
      "Test Epoch 297: 100%|██████████| 100/100 [00:01<00:00, 52.38it/s]\n"
     ]
    },
    {
     "name": "stdout",
     "output_type": "stream",
     "text": [
      "Test Accuracy: 93.280%\n",
      "\n",
      "Epoch: 298/300\n"
     ]
    },
    {
     "name": "stderr",
     "output_type": "stream",
     "text": [
      "Train Epoch 298: 100%|██████████| 391/391 [00:24<00:00, 16.05it/s, Loss=0.104, Acc=96.368%]\n",
      "Test Epoch 298: 100%|██████████| 100/100 [00:01<00:00, 61.27it/s]\n"
     ]
    },
    {
     "name": "stdout",
     "output_type": "stream",
     "text": [
      "Test Accuracy: 93.370%\n",
      "\n",
      "Epoch: 299/300\n"
     ]
    },
    {
     "name": "stderr",
     "output_type": "stream",
     "text": [
      "Train Epoch 299: 100%|██████████| 391/391 [00:24<00:00, 15.71it/s, Loss=0.105, Acc=96.406%]\n",
      "Test Epoch 299: 100%|██████████| 100/100 [00:01<00:00, 60.35it/s]\n"
     ]
    },
    {
     "name": "stdout",
     "output_type": "stream",
     "text": [
      "Test Accuracy: 93.190%\n",
      "\n",
      "Epoch: 300/300\n"
     ]
    },
    {
     "name": "stderr",
     "output_type": "stream",
     "text": [
      "Train Epoch 300: 100%|██████████| 391/391 [00:24<00:00, 16.04it/s, Loss=0.100, Acc=96.514%]\n",
      "Test Epoch 300: 100%|██████████| 100/100 [00:01<00:00, 59.84it/s]"
     ]
    },
    {
     "name": "stdout",
     "output_type": "stream",
     "text": [
      "Test Accuracy: 93.430%\n",
      "Training complete. Best accuracy achieved: 93.760%\n"
     ]
    },
    {
     "name": "stderr",
     "output_type": "stream",
     "text": [
      "\n"
     ]
    }
   ],
   "source": [
    "cifar_data = CIFAR(batch_size=128)\n",
    "\n",
    "best_acc = train_model(\n",
    "  model, cifar_data, lr=0.05, epochs=300, device=device\n",
    ")\n",
    "\n",
    "print(f\"Training complete. Best accuracy achieved: {best_acc:.3f}%\")"
   ]
  },
  {
   "cell_type": "code",
   "execution_count": 18,
   "metadata": {
    "scrolled": true
   },
   "outputs": [
    {
     "name": "stdout",
     "output_type": "stream",
     "text": [
      "Number of trainable parameters: 4,963,296\n",
      "Parameter limit: 5,000,000\n",
      "----------------------------------------------------------------\n",
      "        Layer (type)               Output Shape         Param #\n",
      "================================================================\n",
      "            Conv2d-1           [-1, 32, 32, 32]             896\n",
      "       BatchNorm2d-2           [-1, 32, 32, 32]              64\n",
      "              SiLU-3           [-1, 32, 32, 32]               0\n",
      "            Conv2d-4           [-1, 32, 32, 32]             320\n",
      "       BatchNorm2d-5           [-1, 32, 32, 32]              64\n",
      "              SiLU-6           [-1, 32, 32, 32]               0\n",
      " AdaptiveAvgPool2d-7             [-1, 32, 1, 1]               0\n",
      "            Conv2d-8              [-1, 8, 1, 1]             264\n",
      "              SiLU-9              [-1, 8, 1, 1]               0\n",
      "           Conv2d-10             [-1, 32, 1, 1]             288\n",
      "          Sigmoid-11             [-1, 32, 1, 1]               0\n",
      "SqueezeExciteBlock-12           [-1, 32, 32, 32]               0\n",
      "           Conv2d-13           [-1, 16, 32, 32]             528\n",
      "           Conv2d-14           [-1, 32, 32, 32]             544\n",
      "      BatchNorm2d-15           [-1, 16, 32, 32]              32\n",
      "             SiLU-16           [-1, 16, 32, 32]               0\n",
      "           Conv2d-17           [-1, 80, 32, 32]           1,360\n",
      "      BatchNorm2d-18           [-1, 80, 32, 32]             160\n",
      "             SiLU-19           [-1, 80, 32, 32]               0\n",
      "           Conv2d-20           [-1, 80, 32, 32]             800\n",
      "      BatchNorm2d-21           [-1, 80, 32, 32]             160\n",
      "             SiLU-22           [-1, 80, 32, 32]               0\n",
      "AdaptiveAvgPool2d-23             [-1, 80, 1, 1]               0\n",
      "           Conv2d-24              [-1, 4, 1, 1]             324\n",
      "             SiLU-25              [-1, 4, 1, 1]               0\n",
      "           Conv2d-26             [-1, 80, 1, 1]             400\n",
      "          Sigmoid-27             [-1, 80, 1, 1]               0\n",
      "SqueezeExciteBlock-28           [-1, 80, 32, 32]               0\n",
      "           Conv2d-29           [-1, 32, 32, 32]           2,592\n",
      "      MBConvBlock-30           [-1, 32, 32, 32]               0\n",
      "         Identity-31           [-1, 32, 32, 32]               0\n",
      "      BatchNorm2d-32           [-1, 32, 32, 32]              64\n",
      "             SiLU-33           [-1, 32, 32, 32]               0\n",
      "           Conv2d-34          [-1, 160, 32, 32]           5,280\n",
      "      BatchNorm2d-35          [-1, 160, 32, 32]             320\n",
      "             SiLU-36          [-1, 160, 32, 32]               0\n",
      "           Conv2d-37          [-1, 160, 32, 32]           1,600\n",
      "      BatchNorm2d-38          [-1, 160, 32, 32]             320\n",
      "             SiLU-39          [-1, 160, 32, 32]               0\n",
      "AdaptiveAvgPool2d-40            [-1, 160, 1, 1]               0\n",
      "           Conv2d-41              [-1, 8, 1, 1]           1,288\n",
      "             SiLU-42              [-1, 8, 1, 1]               0\n",
      "           Conv2d-43            [-1, 160, 1, 1]           1,440\n",
      "          Sigmoid-44            [-1, 160, 1, 1]               0\n",
      "SqueezeExciteBlock-45          [-1, 160, 32, 32]               0\n",
      "           Conv2d-46           [-1, 32, 32, 32]           5,152\n",
      "      MBConvBlock-47           [-1, 32, 32, 32]               0\n",
      "         Identity-48           [-1, 32, 32, 32]               0\n",
      "      BatchNorm2d-49           [-1, 32, 32, 32]              64\n",
      "             SiLU-50           [-1, 32, 32, 32]               0\n",
      "           Conv2d-51          [-1, 160, 32, 32]           5,280\n",
      "      BatchNorm2d-52          [-1, 160, 32, 32]             320\n",
      "             SiLU-53          [-1, 160, 32, 32]               0\n",
      "           Conv2d-54          [-1, 160, 32, 32]           1,600\n",
      "      BatchNorm2d-55          [-1, 160, 32, 32]             320\n",
      "             SiLU-56          [-1, 160, 32, 32]               0\n",
      "AdaptiveAvgPool2d-57            [-1, 160, 1, 1]               0\n",
      "           Conv2d-58              [-1, 8, 1, 1]           1,288\n",
      "             SiLU-59              [-1, 8, 1, 1]               0\n",
      "           Conv2d-60            [-1, 160, 1, 1]           1,440\n",
      "          Sigmoid-61            [-1, 160, 1, 1]               0\n",
      "SqueezeExciteBlock-62          [-1, 160, 32, 32]               0\n",
      "           Conv2d-63           [-1, 32, 32, 32]           5,152\n",
      "      MBConvBlock-64           [-1, 32, 32, 32]               0\n",
      "         Identity-65           [-1, 32, 32, 32]               0\n",
      "      BatchNorm2d-66           [-1, 32, 32, 32]              64\n",
      "             SiLU-67           [-1, 32, 32, 32]               0\n",
      "           Conv2d-68          [-1, 160, 32, 32]           5,280\n",
      "      BatchNorm2d-69          [-1, 160, 32, 32]             320\n",
      "             SiLU-70          [-1, 160, 32, 32]               0\n",
      "           Conv2d-71          [-1, 160, 32, 32]           1,600\n",
      "      BatchNorm2d-72          [-1, 160, 32, 32]             320\n",
      "             SiLU-73          [-1, 160, 32, 32]               0\n",
      "AdaptiveAvgPool2d-74            [-1, 160, 1, 1]               0\n",
      "           Conv2d-75              [-1, 8, 1, 1]           1,288\n",
      "             SiLU-76              [-1, 8, 1, 1]               0\n",
      "           Conv2d-77            [-1, 160, 1, 1]           1,440\n",
      "          Sigmoid-78            [-1, 160, 1, 1]               0\n",
      "SqueezeExciteBlock-79          [-1, 160, 32, 32]               0\n",
      "           Conv2d-80           [-1, 32, 32, 32]           5,152\n",
      "      MBConvBlock-81           [-1, 32, 32, 32]               0\n",
      "         Identity-82           [-1, 32, 32, 32]               0\n",
      "      BatchNorm2d-83           [-1, 32, 32, 32]              64\n",
      "             SiLU-84           [-1, 32, 32, 32]               0\n",
      "           Conv2d-85          [-1, 160, 32, 32]           5,280\n",
      "      BatchNorm2d-86          [-1, 160, 32, 32]             320\n",
      "             SiLU-87          [-1, 160, 32, 32]               0\n",
      "           Conv2d-88          [-1, 160, 32, 32]           1,600\n",
      "      BatchNorm2d-89          [-1, 160, 32, 32]             320\n",
      "             SiLU-90          [-1, 160, 32, 32]               0\n",
      "AdaptiveAvgPool2d-91            [-1, 160, 1, 1]               0\n",
      "           Conv2d-92              [-1, 8, 1, 1]           1,288\n",
      "             SiLU-93              [-1, 8, 1, 1]               0\n",
      "           Conv2d-94            [-1, 160, 1, 1]           1,440\n",
      "          Sigmoid-95            [-1, 160, 1, 1]               0\n",
      "SqueezeExciteBlock-96          [-1, 160, 32, 32]               0\n",
      "           Conv2d-97           [-1, 32, 32, 32]           5,152\n",
      "      MBConvBlock-98           [-1, 32, 32, 32]               0\n",
      "        AvgPool2d-99           [-1, 32, 16, 16]               0\n",
      "          Conv2d-100           [-1, 64, 16, 16]           2,112\n",
      "     BatchNorm2d-101           [-1, 32, 32, 32]              64\n",
      "            SiLU-102           [-1, 32, 32, 32]               0\n",
      "          Conv2d-103          [-1, 160, 32, 32]           5,280\n",
      "     BatchNorm2d-104          [-1, 160, 32, 32]             320\n",
      "            SiLU-105          [-1, 160, 32, 32]               0\n",
      "          Conv2d-106          [-1, 160, 16, 16]           1,600\n",
      "     BatchNorm2d-107          [-1, 160, 16, 16]             320\n",
      "            SiLU-108          [-1, 160, 16, 16]               0\n",
      "AdaptiveAvgPool2d-109            [-1, 160, 1, 1]               0\n",
      "          Conv2d-110              [-1, 8, 1, 1]           1,288\n",
      "            SiLU-111              [-1, 8, 1, 1]               0\n",
      "          Conv2d-112            [-1, 160, 1, 1]           1,440\n",
      "         Sigmoid-113            [-1, 160, 1, 1]               0\n",
      "SqueezeExciteBlock-114          [-1, 160, 16, 16]               0\n",
      "          Conv2d-115           [-1, 64, 16, 16]          10,304\n",
      "     MBConvBlock-116           [-1, 64, 16, 16]               0\n",
      "        Identity-117           [-1, 64, 16, 16]               0\n",
      "     BatchNorm2d-118           [-1, 64, 16, 16]             128\n",
      "            SiLU-119           [-1, 64, 16, 16]               0\n",
      "          Conv2d-120          [-1, 320, 16, 16]          20,800\n",
      "     BatchNorm2d-121          [-1, 320, 16, 16]             640\n",
      "            SiLU-122          [-1, 320, 16, 16]               0\n",
      "          Conv2d-123          [-1, 320, 16, 16]           3,200\n",
      "     BatchNorm2d-124          [-1, 320, 16, 16]             640\n",
      "            SiLU-125          [-1, 320, 16, 16]               0\n",
      "AdaptiveAvgPool2d-126            [-1, 320, 1, 1]               0\n",
      "          Conv2d-127             [-1, 16, 1, 1]           5,136\n",
      "            SiLU-128             [-1, 16, 1, 1]               0\n",
      "          Conv2d-129            [-1, 320, 1, 1]           5,440\n",
      "         Sigmoid-130            [-1, 320, 1, 1]               0\n",
      "SqueezeExciteBlock-131          [-1, 320, 16, 16]               0\n",
      "          Conv2d-132           [-1, 64, 16, 16]          20,544\n",
      "     MBConvBlock-133           [-1, 64, 16, 16]               0\n",
      "        Identity-134           [-1, 64, 16, 16]               0\n",
      "     BatchNorm2d-135           [-1, 64, 16, 16]             128\n",
      "            SiLU-136           [-1, 64, 16, 16]               0\n",
      "          Conv2d-137          [-1, 320, 16, 16]          20,800\n",
      "     BatchNorm2d-138          [-1, 320, 16, 16]             640\n",
      "            SiLU-139          [-1, 320, 16, 16]               0\n",
      "          Conv2d-140          [-1, 320, 16, 16]           3,200\n",
      "     BatchNorm2d-141          [-1, 320, 16, 16]             640\n",
      "            SiLU-142          [-1, 320, 16, 16]               0\n",
      "AdaptiveAvgPool2d-143            [-1, 320, 1, 1]               0\n",
      "          Conv2d-144             [-1, 16, 1, 1]           5,136\n",
      "            SiLU-145             [-1, 16, 1, 1]               0\n",
      "          Conv2d-146            [-1, 320, 1, 1]           5,440\n",
      "         Sigmoid-147            [-1, 320, 1, 1]               0\n",
      "SqueezeExciteBlock-148          [-1, 320, 16, 16]               0\n",
      "          Conv2d-149           [-1, 64, 16, 16]          20,544\n",
      "     MBConvBlock-150           [-1, 64, 16, 16]               0\n",
      "        Identity-151           [-1, 64, 16, 16]               0\n",
      "     BatchNorm2d-152           [-1, 64, 16, 16]             128\n",
      "            SiLU-153           [-1, 64, 16, 16]               0\n",
      "          Conv2d-154          [-1, 320, 16, 16]          20,800\n",
      "     BatchNorm2d-155          [-1, 320, 16, 16]             640\n",
      "            SiLU-156          [-1, 320, 16, 16]               0\n",
      "          Conv2d-157          [-1, 320, 16, 16]           3,200\n",
      "     BatchNorm2d-158          [-1, 320, 16, 16]             640\n",
      "            SiLU-159          [-1, 320, 16, 16]               0\n",
      "AdaptiveAvgPool2d-160            [-1, 320, 1, 1]               0\n",
      "          Conv2d-161             [-1, 16, 1, 1]           5,136\n",
      "            SiLU-162             [-1, 16, 1, 1]               0\n",
      "          Conv2d-163            [-1, 320, 1, 1]           5,440\n",
      "         Sigmoid-164            [-1, 320, 1, 1]               0\n",
      "SqueezeExciteBlock-165          [-1, 320, 16, 16]               0\n",
      "          Conv2d-166           [-1, 64, 16, 16]          20,544\n",
      "     MBConvBlock-167           [-1, 64, 16, 16]               0\n",
      "       AvgPool2d-168             [-1, 64, 8, 8]               0\n",
      "          Conv2d-169            [-1, 128, 8, 8]           8,320\n",
      "     BatchNorm2d-170           [-1, 64, 16, 16]             128\n",
      "            SiLU-171           [-1, 64, 16, 16]               0\n",
      "          Conv2d-172          [-1, 320, 16, 16]          20,800\n",
      "     BatchNorm2d-173          [-1, 320, 16, 16]             640\n",
      "            SiLU-174          [-1, 320, 16, 16]               0\n",
      "          Conv2d-175            [-1, 320, 8, 8]           3,200\n",
      "     BatchNorm2d-176            [-1, 320, 8, 8]             640\n",
      "            SiLU-177            [-1, 320, 8, 8]               0\n",
      "AdaptiveAvgPool2d-178            [-1, 320, 1, 1]               0\n",
      "          Conv2d-179             [-1, 16, 1, 1]           5,136\n",
      "            SiLU-180             [-1, 16, 1, 1]               0\n",
      "          Conv2d-181            [-1, 320, 1, 1]           5,440\n",
      "         Sigmoid-182            [-1, 320, 1, 1]               0\n",
      "SqueezeExciteBlock-183            [-1, 320, 8, 8]               0\n",
      "          Conv2d-184            [-1, 128, 8, 8]          41,088\n",
      "     MBConvBlock-185            [-1, 128, 8, 8]               0\n",
      "        Identity-186            [-1, 128, 8, 8]               0\n",
      "     BatchNorm2d-187            [-1, 128, 8, 8]             256\n",
      "            SiLU-188            [-1, 128, 8, 8]               0\n",
      "          Conv2d-189            [-1, 640, 8, 8]          82,560\n",
      "     BatchNorm2d-190            [-1, 640, 8, 8]           1,280\n",
      "            SiLU-191            [-1, 640, 8, 8]               0\n",
      "          Conv2d-192            [-1, 640, 8, 8]           6,400\n",
      "     BatchNorm2d-193            [-1, 640, 8, 8]           1,280\n",
      "            SiLU-194            [-1, 640, 8, 8]               0\n",
      "AdaptiveAvgPool2d-195            [-1, 640, 1, 1]               0\n",
      "          Conv2d-196             [-1, 32, 1, 1]          20,512\n",
      "            SiLU-197             [-1, 32, 1, 1]               0\n",
      "          Conv2d-198            [-1, 640, 1, 1]          21,120\n",
      "         Sigmoid-199            [-1, 640, 1, 1]               0\n",
      "SqueezeExciteBlock-200            [-1, 640, 8, 8]               0\n",
      "          Conv2d-201            [-1, 128, 8, 8]          82,048\n",
      "     MBConvBlock-202            [-1, 128, 8, 8]               0\n",
      "        Identity-203            [-1, 128, 8, 8]               0\n",
      "     BatchNorm2d-204            [-1, 128, 8, 8]             256\n",
      "            SiLU-205            [-1, 128, 8, 8]               0\n",
      "          Conv2d-206            [-1, 640, 8, 8]          82,560\n",
      "     BatchNorm2d-207            [-1, 640, 8, 8]           1,280\n",
      "            SiLU-208            [-1, 640, 8, 8]               0\n",
      "          Conv2d-209            [-1, 640, 8, 8]           6,400\n",
      "     BatchNorm2d-210            [-1, 640, 8, 8]           1,280\n",
      "            SiLU-211            [-1, 640, 8, 8]               0\n",
      "AdaptiveAvgPool2d-212            [-1, 640, 1, 1]               0\n",
      "          Conv2d-213             [-1, 32, 1, 1]          20,512\n",
      "            SiLU-214             [-1, 32, 1, 1]               0\n",
      "          Conv2d-215            [-1, 640, 1, 1]          21,120\n",
      "         Sigmoid-216            [-1, 640, 1, 1]               0\n",
      "SqueezeExciteBlock-217            [-1, 640, 8, 8]               0\n",
      "          Conv2d-218            [-1, 128, 8, 8]          82,048\n",
      "     MBConvBlock-219            [-1, 128, 8, 8]               0\n",
      "        Identity-220            [-1, 128, 8, 8]               0\n",
      "     BatchNorm2d-221            [-1, 128, 8, 8]             256\n",
      "            SiLU-222            [-1, 128, 8, 8]               0\n",
      "          Conv2d-223            [-1, 640, 8, 8]          82,560\n",
      "     BatchNorm2d-224            [-1, 640, 8, 8]           1,280\n",
      "            SiLU-225            [-1, 640, 8, 8]               0\n",
      "          Conv2d-226            [-1, 640, 8, 8]           6,400\n",
      "     BatchNorm2d-227            [-1, 640, 8, 8]           1,280\n",
      "            SiLU-228            [-1, 640, 8, 8]               0\n",
      "AdaptiveAvgPool2d-229            [-1, 640, 1, 1]               0\n",
      "          Conv2d-230             [-1, 32, 1, 1]          20,512\n",
      "            SiLU-231             [-1, 32, 1, 1]               0\n",
      "          Conv2d-232            [-1, 640, 1, 1]          21,120\n",
      "         Sigmoid-233            [-1, 640, 1, 1]               0\n",
      "SqueezeExciteBlock-234            [-1, 640, 8, 8]               0\n",
      "          Conv2d-235            [-1, 128, 8, 8]          82,048\n",
      "     MBConvBlock-236            [-1, 128, 8, 8]               0\n",
      "       AvgPool2d-237            [-1, 128, 4, 4]               0\n",
      "          Conv2d-238            [-1, 256, 4, 4]          33,024\n",
      "     BatchNorm2d-239            [-1, 128, 8, 8]             256\n",
      "            SiLU-240            [-1, 128, 8, 8]               0\n",
      "          Conv2d-241            [-1, 640, 8, 8]          82,560\n",
      "     BatchNorm2d-242            [-1, 640, 8, 8]           1,280\n",
      "            SiLU-243            [-1, 640, 8, 8]               0\n",
      "          Conv2d-244            [-1, 640, 4, 4]           6,400\n",
      "     BatchNorm2d-245            [-1, 640, 4, 4]           1,280\n",
      "            SiLU-246            [-1, 640, 4, 4]               0\n",
      "AdaptiveAvgPool2d-247            [-1, 640, 1, 1]               0\n",
      "          Conv2d-248             [-1, 32, 1, 1]          20,512\n",
      "            SiLU-249             [-1, 32, 1, 1]               0\n",
      "          Conv2d-250            [-1, 640, 1, 1]          21,120\n",
      "         Sigmoid-251            [-1, 640, 1, 1]               0\n",
      "SqueezeExciteBlock-252            [-1, 640, 4, 4]               0\n",
      "          Conv2d-253            [-1, 256, 4, 4]         164,096\n",
      "     MBConvBlock-254            [-1, 256, 4, 4]               0\n",
      "        Identity-255            [-1, 256, 4, 4]               0\n",
      "     BatchNorm2d-256            [-1, 256, 4, 4]             512\n",
      "            SiLU-257            [-1, 256, 4, 4]               0\n",
      "          Conv2d-258           [-1, 1280, 4, 4]         328,960\n",
      "     BatchNorm2d-259           [-1, 1280, 4, 4]           2,560\n",
      "            SiLU-260           [-1, 1280, 4, 4]               0\n",
      "          Conv2d-261           [-1, 1280, 4, 4]          12,800\n",
      "     BatchNorm2d-262           [-1, 1280, 4, 4]           2,560\n",
      "            SiLU-263           [-1, 1280, 4, 4]               0\n",
      "AdaptiveAvgPool2d-264           [-1, 1280, 1, 1]               0\n",
      "          Conv2d-265             [-1, 64, 1, 1]          81,984\n",
      "            SiLU-266             [-1, 64, 1, 1]               0\n",
      "          Conv2d-267           [-1, 1280, 1, 1]          83,200\n",
      "         Sigmoid-268           [-1, 1280, 1, 1]               0\n",
      "SqueezeExciteBlock-269           [-1, 1280, 4, 4]               0\n",
      "          Conv2d-270            [-1, 256, 4, 4]         327,936\n",
      "     MBConvBlock-271            [-1, 256, 4, 4]               0\n",
      "        Identity-272            [-1, 256, 4, 4]               0\n",
      "     BatchNorm2d-273            [-1, 256, 4, 4]             512\n",
      "            SiLU-274            [-1, 256, 4, 4]               0\n",
      "          Conv2d-275           [-1, 1280, 4, 4]         328,960\n",
      "     BatchNorm2d-276           [-1, 1280, 4, 4]           2,560\n",
      "            SiLU-277           [-1, 1280, 4, 4]               0\n",
      "          Conv2d-278           [-1, 1280, 4, 4]          12,800\n",
      "     BatchNorm2d-279           [-1, 1280, 4, 4]           2,560\n",
      "            SiLU-280           [-1, 1280, 4, 4]               0\n",
      "AdaptiveAvgPool2d-281           [-1, 1280, 1, 1]               0\n",
      "          Conv2d-282             [-1, 64, 1, 1]          81,984\n",
      "            SiLU-283             [-1, 64, 1, 1]               0\n",
      "          Conv2d-284           [-1, 1280, 1, 1]          83,200\n",
      "         Sigmoid-285           [-1, 1280, 1, 1]               0\n",
      "SqueezeExciteBlock-286           [-1, 1280, 4, 4]               0\n",
      "          Conv2d-287            [-1, 256, 4, 4]         327,936\n",
      "     MBConvBlock-288            [-1, 256, 4, 4]               0\n",
      "        Identity-289            [-1, 256, 4, 4]               0\n",
      "     BatchNorm2d-290            [-1, 256, 4, 4]             512\n",
      "            SiLU-291            [-1, 256, 4, 4]               0\n",
      "          Conv2d-292           [-1, 1280, 4, 4]         328,960\n",
      "     BatchNorm2d-293           [-1, 1280, 4, 4]           2,560\n",
      "            SiLU-294           [-1, 1280, 4, 4]               0\n",
      "          Conv2d-295           [-1, 1280, 4, 4]          12,800\n",
      "     BatchNorm2d-296           [-1, 1280, 4, 4]           2,560\n",
      "            SiLU-297           [-1, 1280, 4, 4]               0\n",
      "AdaptiveAvgPool2d-298           [-1, 1280, 1, 1]               0\n",
      "          Conv2d-299             [-1, 64, 1, 1]          81,984\n",
      "            SiLU-300             [-1, 64, 1, 1]               0\n",
      "          Conv2d-301           [-1, 1280, 1, 1]          83,200\n",
      "         Sigmoid-302           [-1, 1280, 1, 1]               0\n",
      "SqueezeExciteBlock-303           [-1, 1280, 4, 4]               0\n",
      "          Conv2d-304            [-1, 256, 4, 4]         327,936\n",
      "     MBConvBlock-305            [-1, 256, 4, 4]               0\n",
      "        Identity-306            [-1, 256, 4, 4]               0\n",
      "     BatchNorm2d-307            [-1, 256, 4, 4]             512\n",
      "            SiLU-308            [-1, 256, 4, 4]               0\n",
      "          Conv2d-309           [-1, 1280, 4, 4]         328,960\n",
      "     BatchNorm2d-310           [-1, 1280, 4, 4]           2,560\n",
      "            SiLU-311           [-1, 1280, 4, 4]               0\n",
      "          Conv2d-312           [-1, 1280, 4, 4]          12,800\n",
      "     BatchNorm2d-313           [-1, 1280, 4, 4]           2,560\n",
      "            SiLU-314           [-1, 1280, 4, 4]               0\n",
      "AdaptiveAvgPool2d-315           [-1, 1280, 1, 1]               0\n",
      "          Conv2d-316             [-1, 64, 1, 1]          81,984\n",
      "            SiLU-317             [-1, 64, 1, 1]               0\n",
      "          Conv2d-318           [-1, 1280, 1, 1]          83,200\n",
      "         Sigmoid-319           [-1, 1280, 1, 1]               0\n",
      "SqueezeExciteBlock-320           [-1, 1280, 4, 4]               0\n",
      "          Conv2d-321            [-1, 256, 4, 4]         327,936\n",
      "     MBConvBlock-322            [-1, 256, 4, 4]               0\n",
      "     BatchNorm2d-323            [-1, 256, 4, 4]             512\n",
      "            SiLU-324            [-1, 256, 4, 4]               0\n",
      "          Conv2d-325           [-1, 1024, 4, 4]         263,168\n",
      "     BatchNorm2d-326           [-1, 1024, 4, 4]           2,048\n",
      "            SiLU-327           [-1, 1024, 4, 4]               0\n",
      "AdaptiveAvgPool2d-328           [-1, 1024, 1, 1]               0\n",
      "         Flatten-329                 [-1, 1024]               0\n",
      "         Dropout-330                 [-1, 1024]               0\n",
      "          Linear-331                   [-1, 10]          10,250\n",
      "================================================================\n",
      "Total params: 4,963,278\n",
      "Trainable params: 4,963,278\n",
      "Non-trainable params: 0\n",
      "----------------------------------------------------------------\n",
      "Input size (MB): 0.01\n",
      "Forward/backward pass size (MB): 85.84\n",
      "Params size (MB): 18.93\n",
      "Estimated Total Size (MB): 104.78\n",
      "----------------------------------------------------------------\n"
     ]
    }
   ],
   "source": [
    "# count number of trainable parameters\n",
    "num_params = sum(p.numel() for p in model.parameters() if p.requires_grad)\n",
    "print(f\"Number of trainable parameters: {num_params:,}\")\n",
    "print(f\"Parameter limit: 5,000,000\")\n",
    "\n",
    "# Make sure we are within our parameter limit\n",
    "assert num_params < 5000000, \"Model has too many parameters!\"\n",
    "summary(model, (3, 32, 32))"
   ]
  },
  {
   "cell_type": "markdown",
   "metadata": {},
   "source": [
    "# Submission File Generation"
   ]
  },
  {
   "cell_type": "code",
   "execution_count": 19,
   "metadata": {},
   "outputs": [
    {
     "data": {
      "text/plain": [
       "<All keys matched successfully>"
      ]
     },
     "execution_count": 19,
     "metadata": {},
     "output_type": "execute_result"
    }
   ],
   "source": [
    "device = torch.device('cuda' if torch.cuda.is_available() else 'cpu')\n",
    "model = EfficientNet(10,\n",
    "                     num_layers = [5,  4,   4,   5],\n",
    "                     channel_list = [32, 16, 32, 64, 128, 256],\n",
    "                     strides = [1,  1,  2,   2,   2],\n",
    "                     expansion = 5,\n",
    "                     head_p_drop = 0.4)\n",
    "\n",
    "model.apply(init_linear)\n",
    "model.to(device)\n",
    "model.load_state_dict(torch.load(\"./best_model_hpc.pth\"))"
   ]
  },
  {
   "cell_type": "code",
   "execution_count": 21,
   "metadata": {},
   "outputs": [
    {
     "name": "stdout",
     "output_type": "stream",
     "text": [
      "Defaulting to user installation because normal site-packages is not writeable\n",
      "Collecting pandas\n",
      "  Downloading pandas-2.2.3-cp39-cp39-manylinux_2_17_x86_64.manylinux2014_x86_64.whl.metadata (89 kB)\n",
      "\u001b[2K     \u001b[90m━━━━━━━━━━━━━━━━━━━━━━━━━━━━━━━━━━━━━━━━\u001b[0m \u001b[32m89.9/89.9 kB\u001b[0m \u001b[31m1.8 MB/s\u001b[0m eta \u001b[36m0:00:00\u001b[0ma \u001b[36m0:00:01\u001b[0m\n",
      "\u001b[?25hRequirement already satisfied: numpy>=1.22.4 in /home/nk3940/.local/lib/python3.9/site-packages (from pandas) (1.26.4)\n",
      "Requirement already satisfied: python-dateutil>=2.8.2 in /share/apps/pyenv/py3.9/lib/python3.9/site-packages (from pandas) (2.8.2)\n",
      "Collecting pytz>=2020.1 (from pandas)\n",
      "  Downloading pytz-2025.1-py2.py3-none-any.whl.metadata (22 kB)\n",
      "Collecting tzdata>=2022.7 (from pandas)\n",
      "  Downloading tzdata-2025.1-py2.py3-none-any.whl.metadata (1.4 kB)\n",
      "Requirement already satisfied: six>=1.5 in /share/apps/pyenv/py3.9/lib/python3.9/site-packages (from python-dateutil>=2.8.2->pandas) (1.16.0)\n",
      "Downloading pandas-2.2.3-cp39-cp39-manylinux_2_17_x86_64.manylinux2014_x86_64.whl (13.1 MB)\n",
      "\u001b[2K   \u001b[90m━━━━━━━━━━━━━━━━━━━━━━━━━━━━━━━━━━━━━━━━\u001b[0m \u001b[32m13.1/13.1 MB\u001b[0m \u001b[31m79.8 MB/s\u001b[0m eta \u001b[36m0:00:00\u001b[0m:00:01\u001b[0m:01\u001b[0m\n",
      "\u001b[?25hDownloading pytz-2025.1-py2.py3-none-any.whl (507 kB)\n",
      "\u001b[2K   \u001b[90m━━━━━━━━━━━━━━━━━━━━━━━━━━━━━━━━━━━━━━━━\u001b[0m \u001b[32m507.9/507.9 kB\u001b[0m \u001b[31m14.1 MB/s\u001b[0m eta \u001b[36m0:00:00\u001b[0m00:01\u001b[0m\n",
      "\u001b[?25hDownloading tzdata-2025.1-py2.py3-none-any.whl (346 kB)\n",
      "\u001b[2K   \u001b[90m━━━━━━━━━━━━━━━━━━━━━━━━━━━━━━━━━━━━━━━━\u001b[0m \u001b[32m346.8/346.8 kB\u001b[0m \u001b[31m11.3 MB/s\u001b[0m eta \u001b[36m0:00:00\u001b[0m\n",
      "\u001b[?25hInstalling collected packages: pytz, tzdata, pandas\n",
      "Successfully installed pandas-2.2.3 pytz-2025.1 tzdata-2025.1\n"
     ]
    }
   ],
   "source": [
    "!pip install pandas"
   ]
  },
  {
   "cell_type": "code",
   "execution_count": 22,
   "metadata": {},
   "outputs": [],
   "source": [
    "import numpy as np\n",
    "import torch\n",
    "import pandas as pd\n",
    "from torch.utils.data import DataLoader, Dataset\n",
    "import torchvision.transforms as transforms\n",
    "import pickle\n",
    "\n",
    "\n",
    "class UnseenDataset(Dataset):\n",
    "    def __init__(self, data, transform=None):\n",
    "        self.data = data\n",
    "        self.transform = transforms.Compose(\n",
    "        [\n",
    "            transforms.ToTensor()\n",
    "        ]\n",
    "    ) if transform is None else transform\n",
    "\n",
    "    def __len__(self):\n",
    "        return len(self.data)\n",
    "\n",
    "    def __getitem__(self, idx):\n",
    "        image = self.data[idx]\n",
    "        if self.transform:\n",
    "            image = self.transform(image)\n",
    "        return image\n",
    "\n",
    "\n",
    "\n",
    "\n",
    "def predict_test_labels():\n",
    "    # Load the test data from the provided file\n",
    "    test_file = \"cifar_test_nolabel.pkl\"\n",
    "    with open(test_file, 'rb') as fo:\n",
    "        test_data = pickle.load(fo, encoding='bytes')\n",
    "\n",
    "    # Get data shape\n",
    "    print(f\"Original test data shape: {test_data[b'data'].shape}\")\n",
    "\n",
    "    # Preprocess the data\n",
    "    \n",
    "    transform_test = transforms.Compose(\n",
    "        [\n",
    "            transforms.ToTensor()\n",
    "        ]\n",
    "    )\n",
    "\n",
    "    unseen_dataset = UnseenDataset(test_data[b'data'], transform=transform_test)\n",
    "    unseen_loader = DataLoader(\n",
    "        unseen_dataset,\n",
    "        batch_size=128,\n",
    "        shuffle=False\n",
    "    )\n",
    "    \n",
    "    # Make predictions\n",
    "    model.eval()\n",
    "    predictions = []\n",
    "\n",
    "    with torch.no_grad():\n",
    "        for batch in unseen_loader:\n",
    "            batch = batch.to(device)\n",
    "            outputs = model(batch)\n",
    "            _, predicted = outputs.max(1)\n",
    "            predictions.extend(predicted.cpu().numpy())\n",
    "\n",
    "    # Create submission file\n",
    "    submission = pd.DataFrame({\n",
    "        'ID': range(len(predictions)),\n",
    "        'Labels': predictions\n",
    "    })\n",
    "\n",
    "    submission.to_csv('submission_hpc.csv', index=False)\n",
    "    print(\"Submission file created successfully!\")\n",
    "    return submission"
   ]
  },
  {
   "cell_type": "code",
   "execution_count": 23,
   "metadata": {},
   "outputs": [
    {
     "name": "stdout",
     "output_type": "stream",
     "text": [
      "Original test data shape: (10000, 32, 32, 3)\n",
      "Submission file created successfully!\n"
     ]
    },
    {
     "data": {
      "text/html": [
       "<div>\n",
       "<style scoped>\n",
       "    .dataframe tbody tr th:only-of-type {\n",
       "        vertical-align: middle;\n",
       "    }\n",
       "\n",
       "    .dataframe tbody tr th {\n",
       "        vertical-align: top;\n",
       "    }\n",
       "\n",
       "    .dataframe thead th {\n",
       "        text-align: right;\n",
       "    }\n",
       "</style>\n",
       "<table border=\"1\" class=\"dataframe\">\n",
       "  <thead>\n",
       "    <tr style=\"text-align: right;\">\n",
       "      <th></th>\n",
       "      <th>ID</th>\n",
       "      <th>Labels</th>\n",
       "    </tr>\n",
       "  </thead>\n",
       "  <tbody>\n",
       "    <tr>\n",
       "      <th>0</th>\n",
       "      <td>0</td>\n",
       "      <td>6</td>\n",
       "    </tr>\n",
       "    <tr>\n",
       "      <th>1</th>\n",
       "      <td>1</td>\n",
       "      <td>1</td>\n",
       "    </tr>\n",
       "    <tr>\n",
       "      <th>2</th>\n",
       "      <td>2</td>\n",
       "      <td>8</td>\n",
       "    </tr>\n",
       "    <tr>\n",
       "      <th>3</th>\n",
       "      <td>3</td>\n",
       "      <td>6</td>\n",
       "    </tr>\n",
       "    <tr>\n",
       "      <th>4</th>\n",
       "      <td>4</td>\n",
       "      <td>9</td>\n",
       "    </tr>\n",
       "    <tr>\n",
       "      <th>...</th>\n",
       "      <td>...</td>\n",
       "      <td>...</td>\n",
       "    </tr>\n",
       "    <tr>\n",
       "      <th>9995</th>\n",
       "      <td>9995</td>\n",
       "      <td>7</td>\n",
       "    </tr>\n",
       "    <tr>\n",
       "      <th>9996</th>\n",
       "      <td>9996</td>\n",
       "      <td>0</td>\n",
       "    </tr>\n",
       "    <tr>\n",
       "      <th>9997</th>\n",
       "      <td>9997</td>\n",
       "      <td>2</td>\n",
       "    </tr>\n",
       "    <tr>\n",
       "      <th>9998</th>\n",
       "      <td>9998</td>\n",
       "      <td>3</td>\n",
       "    </tr>\n",
       "    <tr>\n",
       "      <th>9999</th>\n",
       "      <td>9999</td>\n",
       "      <td>1</td>\n",
       "    </tr>\n",
       "  </tbody>\n",
       "</table>\n",
       "<p>10000 rows × 2 columns</p>\n",
       "</div>"
      ],
      "text/plain": [
       "        ID  Labels\n",
       "0        0       6\n",
       "1        1       1\n",
       "2        2       8\n",
       "3        3       6\n",
       "4        4       9\n",
       "...    ...     ...\n",
       "9995  9995       7\n",
       "9996  9996       0\n",
       "9997  9997       2\n",
       "9998  9998       3\n",
       "9999  9999       1\n",
       "\n",
       "[10000 rows x 2 columns]"
      ]
     },
     "execution_count": 23,
     "metadata": {},
     "output_type": "execute_result"
    }
   ],
   "source": [
    "predict_test_labels()"
   ]
  },
  {
   "cell_type": "code",
   "execution_count": 36,
   "metadata": {},
   "outputs": [
    {
     "data": {
      "image/png": "[encoded data removed]",
      "text/plain": [
       "<Figure size 800x500 with 1 Axes>"
      ]
     },
     "metadata": {},
     "output_type": "display_data"
    }
   ],
   "source": [
    "import matplotlib.pyplot as plt\n",
    "\n",
    "fig, ax1 = plt.subplots(figsize=(8, 5))\n",
    "\n",
    "ax1.plot(train_loss_history, label=\"Train Loss\", marker='o', linestyle='-', color='blue')\n",
    "ax1.plot(test_loss_history, label=\"Test Loss\", marker='s', linestyle='--', color='red')\n",
    "\n",
    "ax1.set_xlabel(\"Epochs\")\n",
    "ax1.set_ylabel(\"Loss\")\n",
    "ax1.set_title(\"Training & Test Loss\")\n",
    "\n",
    "ax1.legend(loc=\"upper left\")\n",
    "ax2.legend(loc=\"upper right\")\n",
    "\n",
    "ax1.grid(True, linestyle='--', alpha=0.6)\n",
    "\n",
    "plt.show()"
   ]
  },
  {
   "cell_type": "code",
   "execution_count": 35,
   "metadata": {},
   "outputs": [
    {
     "data": {
      "image/png": "[encoded data removed]",
      "text/plain": [
       "<Figure size 800x500 with 1 Axes>"
      ]
     },
     "metadata": {},
     "output_type": "display_data"
    }
   ],
   "source": [
    "import matplotlib.pyplot as plt\n",
    "\n",
    "fig, ax1 = plt.subplots(figsize=(8, 5))\n",
    "\n",
    "ax1.plot(accuracy_history, label=\"Train Loss\", marker='o', linestyle='-', color='green')\n",
    "\n",
    "ax1.set_xlabel(\"Epochs\")\n",
    "ax1.set_ylabel(\"Accuracy\")\n",
    "ax1.set_title(\"Test Accuracy History\")\n",
    "\n",
    "ax1.legend(loc=\"upper left\")\n",
    "ax2.legend(loc=\"upper right\")\n",
    "\n",
    "ax1.grid(True, linestyle='--', alpha=0.6)\n",
    "\n",
    "plt.show()"
   ]
  },
  {
   "cell_type": "code",
   "execution_count": null,
   "metadata": {},
   "outputs": [],
   "source": []
  }
 ],
 "metadata": {
  "kaggle": {
   "accelerator": "gpu",
   "dataSources": [
    {
     "databundleVersionId": 11145869,
     "sourceId": 93057,
     "sourceType": "competition"
    }
   ],
   "dockerImageVersionId": 30919,
   "isGpuEnabled": true,
   "isInternetEnabled": true,
   "language": "python",
   "sourceType": "notebook"
  },
  "kernelspec": {
   "display_name": "Python 3 (ipykernel)",
   "language": "python",
   "name": "python3"
  },
  "language_info": {
   "codemirror_mode": {
    "name": "ipython",
    "version": 3
   },
   "file_extension": ".py",
   "mimetype": "text/x-python",
   "name": "python",
   "nbconvert_exporter": "python",
   "pygments_lexer": "ipython3",
   "version": "3.9.18"
  }
 },
 "nbformat": 4,
 "nbformat_minor": 4
}
